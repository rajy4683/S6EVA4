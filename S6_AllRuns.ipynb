{
  "nbformat": 4,
  "nbformat_minor": 0,
  "metadata": {
    "colab": {
      "name": "S6_AllRuns.ipynb",
      "provenance": [],
      "collapsed_sections": [],
      "include_colab_link": true
    },
    "kernelspec": {
      "name": "python3",
      "display_name": "Python 3"
    },
    "accelerator": "GPU"
  },
  "cells": [
    {
      "cell_type": "markdown",
      "metadata": {
        "id": "view-in-github",
        "colab_type": "text"
      },
      "source": [
        "<a href=\"https://colab.research.google.com/github/rajy4683/S6EVA4/blob/master/S6_AllRuns.ipynb\" target=\"_parent\"><img src=\"https://colab.research.google.com/assets/colab-badge.svg\" alt=\"Open In Colab\"/></a>"
      ]
    },
    {
      "cell_type": "code",
      "metadata": {
        "id": "4qw-jB-Heh0t",
        "colab_type": "code",
        "outputId": "8799ec8a-c7d9-4da5-9ac2-fbeb571db311",
        "colab": {
          "base_uri": "https://localhost:8080/",
          "height": 121
        }
      },
      "source": [
        "from google.colab import drive\n",
        "drive.mount('/content/drive')\n",
        "import sys\n",
        "sys.path.append('/content/drive/My Drive/EVA4/')"
      ],
      "execution_count": 1,
      "outputs": [
        {
          "output_type": "stream",
          "text": [
            "Go to this URL in a browser: https://accounts.google.com/o/oauth2/auth?client_id=947318989803-6bn6qk8qdgf4n4g3pfee6491hc0brc4i.apps.googleusercontent.com&redirect_uri=urn%3aietf%3awg%3aoauth%3a2.0%3aoob&response_type=code&scope=email%20https%3a%2f%2fwww.googleapis.com%2fauth%2fdocs.test%20https%3a%2f%2fwww.googleapis.com%2fauth%2fdrive%20https%3a%2f%2fwww.googleapis.com%2fauth%2fdrive.photos.readonly%20https%3a%2f%2fwww.googleapis.com%2fauth%2fpeopleapi.readonly\n",
            "\n",
            "Enter your authorization code:\n",
            "··········\n",
            "Mounted at /content/drive\n"
          ],
          "name": "stdout"
        }
      ]
    },
    {
      "cell_type": "code",
      "metadata": {
        "id": "Eyyj_7WrVzqS",
        "colab_type": "code",
        "colab": {}
      },
      "source": [
        "#from MNISTRekog.basemodelclass import MNISTDigitBuilder"
      ],
      "execution_count": 0,
      "outputs": []
    },
    {
      "cell_type": "code",
      "metadata": {
        "id": "YJhKoq1vWSac",
        "colab_type": "code",
        "colab": {}
      },
      "source": [
        "#from MNISTRekog.utils.fileutils import *"
      ],
      "execution_count": 0,
      "outputs": []
    },
    {
      "cell_type": "code",
      "metadata": {
        "id": "Zszf0NDkWWu2",
        "colab_type": "code",
        "outputId": "a62153fb-b688-47f0-bd4f-2204c6bb8c2d",
        "colab": {
          "base_uri": "https://localhost:8080/",
          "height": 50
        }
      },
      "source": [
        "#print(rand_run_name())\n",
        "#print(generate_model_save_path())"
      ],
      "execution_count": 0,
      "outputs": [
        {
          "output_type": "stream",
          "text": [
            "3196883b4f\n",
            "/content/drive/My Drive/EVA4/model_saves/model-916ee8cf62.h5\n"
          ],
          "name": "stdout"
        }
      ]
    },
    {
      "cell_type": "code",
      "metadata": {
        "id": "auzVE6mdHdzZ",
        "colab_type": "code",
        "outputId": "c6680c69-8304-45e3-86ab-e48af08a21b0",
        "colab": {
          "base_uri": "https://localhost:8080/",
          "height": 1000
        }
      },
      "source": [
        "!pip install pytorch-ignite\n",
        "!pip install torchsummary\n",
        "!pip install wandb"
      ],
      "execution_count": 2,
      "outputs": [
        {
          "output_type": "stream",
          "text": [
            "Collecting pytorch-ignite\n",
            "\u001b[?25l  Downloading https://files.pythonhosted.org/packages/35/55/41e8a995876fd2ade29bdba0c3efefa38e7d605cb353c70f3173c04928b5/pytorch_ignite-0.3.0-py2.py3-none-any.whl (103kB)\n",
            "\r\u001b[K     |███▏                            | 10kB 32.1MB/s eta 0:00:01\r\u001b[K     |██████▎                         | 20kB 6.1MB/s eta 0:00:01\r\u001b[K     |█████████▌                      | 30kB 7.3MB/s eta 0:00:01\r\u001b[K     |████████████▋                   | 40kB 5.7MB/s eta 0:00:01\r\u001b[K     |███████████████▉                | 51kB 6.2MB/s eta 0:00:01\r\u001b[K     |███████████████████             | 61kB 7.3MB/s eta 0:00:01\r\u001b[K     |██████████████████████▏         | 71kB 7.8MB/s eta 0:00:01\r\u001b[K     |█████████████████████████▎      | 81kB 8.2MB/s eta 0:00:01\r\u001b[K     |████████████████████████████▍   | 92kB 9.1MB/s eta 0:00:01\r\u001b[K     |███████████████████████████████▋| 102kB 9.1MB/s eta 0:00:01\r\u001b[K     |████████████████████████████████| 112kB 9.1MB/s \n",
            "\u001b[?25hRequirement already satisfied: torch in /usr/local/lib/python3.6/dist-packages (from pytorch-ignite) (1.4.0)\n",
            "Installing collected packages: pytorch-ignite\n",
            "Successfully installed pytorch-ignite-0.3.0\n",
            "Requirement already satisfied: torchsummary in /usr/local/lib/python3.6/dist-packages (1.5.1)\n",
            "Collecting wandb\n",
            "\u001b[?25l  Downloading https://files.pythonhosted.org/packages/04/58/694b8a7cd58a9d58d4122fafc5469e57ce7e27ac371926c2efdae67ecc04/wandb-0.8.28-py2.py3-none-any.whl (1.4MB)\n",
            "\u001b[K     |████████████████████████████████| 1.4MB 8.7MB/s \n",
            "\u001b[?25hRequirement already satisfied: six>=1.10.0 in /usr/local/lib/python3.6/dist-packages (from wandb) (1.12.0)\n",
            "Collecting configparser>=3.8.1\n",
            "  Downloading https://files.pythonhosted.org/packages/7a/2a/95ed0501cf5d8709490b1d3a3f9b5cf340da6c433f896bbe9ce08dbe6785/configparser-4.0.2-py2.py3-none-any.whl\n",
            "Requirement already satisfied: psutil>=5.0.0 in /usr/local/lib/python3.6/dist-packages (from wandb) (5.4.8)\n",
            "Requirement already satisfied: python-dateutil>=2.6.1 in /usr/local/lib/python3.6/dist-packages (from wandb) (2.6.1)\n",
            "Requirement already satisfied: PyYAML>=3.10 in /usr/local/lib/python3.6/dist-packages (from wandb) (3.13)\n",
            "Collecting docker-pycreds>=0.4.0\n",
            "  Downloading https://files.pythonhosted.org/packages/f5/e8/f6bd1eee09314e7e6dee49cbe2c5e22314ccdb38db16c9fc72d2fa80d054/docker_pycreds-0.4.0-py2.py3-none-any.whl\n",
            "Requirement already satisfied: requests>=2.0.0 in /usr/local/lib/python3.6/dist-packages (from wandb) (2.21.0)\n",
            "Collecting gql==0.2.0\n",
            "  Downloading https://files.pythonhosted.org/packages/c4/6f/cf9a3056045518f06184e804bae89390eb706168349daa9dff8ac609962a/gql-0.2.0.tar.gz\n",
            "Collecting watchdog>=0.8.3\n",
            "\u001b[?25l  Downloading https://files.pythonhosted.org/packages/73/c3/ed6d992006837e011baca89476a4bbffb0a91602432f73bd4473816c76e2/watchdog-0.10.2.tar.gz (95kB)\n",
            "\u001b[K     |████████████████████████████████| 102kB 12.0MB/s \n",
            "\u001b[?25hCollecting shortuuid>=0.5.0\n",
            "  Downloading https://files.pythonhosted.org/packages/80/d7/2bfc9332e68d3e15ea97b9b1588b3899ad565120253d3fd71c8f7f13b4fe/shortuuid-0.5.0.tar.gz\n",
            "Collecting sentry-sdk>=0.4.0\n",
            "\u001b[?25l  Downloading https://files.pythonhosted.org/packages/23/5a/f1b0c63e40517b06bc21744a94013ca05de21de2687a59de889ea20a9ebd/sentry_sdk-0.14.1-py2.py3-none-any.whl (93kB)\n",
            "\u001b[K     |████████████████████████████████| 102kB 13.8MB/s \n",
            "\u001b[?25hRequirement already satisfied: Click>=7.0 in /usr/local/lib/python3.6/dist-packages (from wandb) (7.0)\n",
            "Collecting subprocess32>=3.5.3\n",
            "\u001b[?25l  Downloading https://files.pythonhosted.org/packages/32/c8/564be4d12629b912ea431f1a50eb8b3b9d00f1a0b1ceff17f266be190007/subprocess32-3.5.4.tar.gz (97kB)\n",
            "\u001b[K     |████████████████████████████████| 102kB 11.9MB/s \n",
            "\u001b[?25hCollecting GitPython>=1.0.0\n",
            "\u001b[?25l  Downloading https://files.pythonhosted.org/packages/d3/2f/6a366d56c9b1355b0880be9ea66b166cb3536392638d8d91413ec66305ad/GitPython-3.1.0-py3-none-any.whl (450kB)\n",
            "\u001b[K     |████████████████████████████████| 460kB 36.3MB/s \n",
            "\u001b[?25hRequirement already satisfied: nvidia-ml-py3>=7.352.0 in /usr/local/lib/python3.6/dist-packages (from wandb) (7.352.0)\n",
            "Requirement already satisfied: idna<2.9,>=2.5 in /usr/local/lib/python3.6/dist-packages (from requests>=2.0.0->wandb) (2.8)\n",
            "Requirement already satisfied: chardet<3.1.0,>=3.0.2 in /usr/local/lib/python3.6/dist-packages (from requests>=2.0.0->wandb) (3.0.4)\n",
            "Requirement already satisfied: urllib3<1.25,>=1.21.1 in /usr/local/lib/python3.6/dist-packages (from requests>=2.0.0->wandb) (1.24.3)\n",
            "Requirement already satisfied: certifi>=2017.4.17 in /usr/local/lib/python3.6/dist-packages (from requests>=2.0.0->wandb) (2019.11.28)\n",
            "Collecting graphql-core<2,>=0.5.0\n",
            "\u001b[?25l  Downloading https://files.pythonhosted.org/packages/b0/89/00ad5e07524d8c523b14d70c685e0299a8b0de6d0727e368c41b89b7ed0b/graphql-core-1.1.tar.gz (70kB)\n",
            "\u001b[K     |████████████████████████████████| 71kB 11.0MB/s \n",
            "\u001b[?25hRequirement already satisfied: promise<3,>=2.0 in /usr/local/lib/python3.6/dist-packages (from gql==0.2.0->wandb) (2.3)\n",
            "Collecting pathtools>=0.1.1\n",
            "  Downloading https://files.pythonhosted.org/packages/e7/7f/470d6fcdf23f9f3518f6b0b76be9df16dcc8630ad409947f8be2eb0ed13a/pathtools-0.1.2.tar.gz\n",
            "Collecting gitdb<5,>=4.0.1\n",
            "\u001b[?25l  Downloading https://files.pythonhosted.org/packages/1e/f5/8f84b3bf9d94bdf2454a302f2fa375832b53660ea532586b8a55ff16ae9a/gitdb-4.0.2-py3-none-any.whl (63kB)\n",
            "\u001b[K     |████████████████████████████████| 71kB 12.3MB/s \n",
            "\u001b[?25hCollecting smmap<4,>=3.0.1\n",
            "  Downloading https://files.pythonhosted.org/packages/35/d2/27777ab463cd44842c78305fa8097dfba0d94768abbb7e1c4d88f1fa1a0b/smmap-3.0.1-py2.py3-none-any.whl\n",
            "Building wheels for collected packages: gql, watchdog, shortuuid, subprocess32, graphql-core, pathtools\n",
            "  Building wheel for gql (setup.py) ... \u001b[?25l\u001b[?25hdone\n",
            "  Created wheel for gql: filename=gql-0.2.0-cp36-none-any.whl size=7630 sha256=c0ba5b378f7425eb34adbebd76bc97f64e5aebcdb468226e5b29520031bc1525\n",
            "  Stored in directory: /root/.cache/pip/wheels/ce/0e/7b/58a8a5268655b3ad74feef5aa97946f0addafb3cbb6bd2da23\n",
            "  Building wheel for watchdog (setup.py) ... \u001b[?25l\u001b[?25hdone\n",
            "  Created wheel for watchdog: filename=watchdog-0.10.2-cp36-none-any.whl size=73605 sha256=a0c5f46aed05e38a961a35b1a3976109c597be3a1ac8904207f16c825c797055\n",
            "  Stored in directory: /root/.cache/pip/wheels/bc/ed/6c/028dea90d31b359cd2a7c8b0da4db80e41d24a59614154072e\n",
            "  Building wheel for shortuuid (setup.py) ... \u001b[?25l\u001b[?25hdone\n",
            "  Created wheel for shortuuid: filename=shortuuid-0.5.0-cp36-none-any.whl size=5497 sha256=51f54dff6249142cef5496894aba2745082cc99ed07332b910226dad18b7fb43\n",
            "  Stored in directory: /root/.cache/pip/wheels/3f/eb/fd/69e5177f67b505e44acbd1aedfbe44b91768ee0c4cd5636576\n",
            "  Building wheel for subprocess32 (setup.py) ... \u001b[?25l\u001b[?25hdone\n",
            "  Created wheel for subprocess32: filename=subprocess32-3.5.4-cp36-none-any.whl size=6489 sha256=925cbdfc178a73645f9af36e0c9833dd988d9531f275510fa268e7889b9aed6a\n",
            "  Stored in directory: /root/.cache/pip/wheels/68/39/1a/5e402bdfdf004af1786c8b853fd92f8c4a04f22aad179654d1\n",
            "  Building wheel for graphql-core (setup.py) ... \u001b[?25l\u001b[?25hdone\n",
            "  Created wheel for graphql-core: filename=graphql_core-1.1-cp36-none-any.whl size=104650 sha256=76fa89a7ac8de1d15320c9a8f4c3574413142c13b182c28b91fa3f1aa51981d9\n",
            "  Stored in directory: /root/.cache/pip/wheels/45/99/d7/c424029bb0fe910c63b68dbf2aa20d3283d023042521bcd7d5\n",
            "  Building wheel for pathtools (setup.py) ... \u001b[?25l\u001b[?25hdone\n",
            "  Created wheel for pathtools: filename=pathtools-0.1.2-cp36-none-any.whl size=8784 sha256=c4428613c65c7305687387d4ed6ef3b6b1f55b2ce61e70d6dd20d30e21465a60\n",
            "  Stored in directory: /root/.cache/pip/wheels/0b/04/79/c3b0c3a0266a3cb4376da31e5bfe8bba0c489246968a68e843\n",
            "Successfully built gql watchdog shortuuid subprocess32 graphql-core pathtools\n",
            "Installing collected packages: configparser, docker-pycreds, graphql-core, gql, pathtools, watchdog, shortuuid, sentry-sdk, subprocess32, smmap, gitdb, GitPython, wandb\n",
            "Successfully installed GitPython-3.1.0 configparser-4.0.2 docker-pycreds-0.4.0 gitdb-4.0.2 gql-0.2.0 graphql-core-1.1 pathtools-0.1.2 sentry-sdk-0.14.1 shortuuid-0.5.0 smmap-3.0.1 subprocess32-3.5.4 wandb-0.8.28 watchdog-0.10.2\n"
          ],
          "name": "stdout"
        }
      ]
    },
    {
      "cell_type": "code",
      "metadata": {
        "id": "0m2JWFliFfKT",
        "colab_type": "code",
        "outputId": "fafd74f9-f084-48a2-c1c3-faebc9f1041c",
        "colab": {
          "base_uri": "https://localhost:8080/",
          "height": 34
        }
      },
      "source": [
        "from __future__ import print_function\n",
        "import torch\n",
        "import torch.nn as nn\n",
        "import torch.nn.functional as F\n",
        "import torch.optim as optim\n",
        "from torchvision import datasets, transforms\n",
        "!pip install torchsummary\n",
        "from torchsummary import summary\n",
        "import pandas as pd\n",
        "import numpy as np"
      ],
      "execution_count": 3,
      "outputs": [
        {
          "output_type": "stream",
          "text": [
            "Requirement already satisfied: torchsummary in /usr/local/lib/python3.6/dist-packages (1.5.1)\n"
          ],
          "name": "stdout"
        }
      ]
    },
    {
      "cell_type": "code",
      "metadata": {
        "id": "yXqF5fu1mV8R",
        "colab_type": "code",
        "colab": {}
      },
      "source": [
        "from __future__ import print_function\n",
        "import torch\n",
        "import torch.nn as nn\n",
        "import torch.nn.functional as F\n",
        "import torch.optim as optim\n",
        "from torchvision import datasets, transforms\n",
        "from torchsummary import summary\n",
        "\n",
        "from ignite.engine import Events, create_supervised_trainer, create_supervised_evaluator\n",
        "from ignite.metrics import Accuracy, Loss\n",
        "from torch.utils.data import DataLoader\n",
        "from ignite.handlers import Checkpoint, DiskSaver\n",
        "\n",
        "\n",
        "import logging\n",
        "logging.propagate = False \n",
        "logging.getLogger().setLevel(logging.ERROR)\n",
        "\n",
        "from argparse import ArgumentParser\n",
        "from tqdm import tqdm\n",
        "import os\n",
        "import random\n"
      ],
      "execution_count": 0,
      "outputs": []
    },
    {
      "cell_type": "code",
      "metadata": {
        "id": "6N8hW64W9CHV",
        "colab_type": "code",
        "colab": {}
      },
      "source": [
        "import logging\n",
        "logging.propagate = False \n",
        "\n",
        "logging.getLogger().setLevel(logging.ERROR)"
      ],
      "execution_count": 0,
      "outputs": []
    },
    {
      "cell_type": "code",
      "metadata": {
        "id": "sWIjKEiV7azI",
        "colab_type": "code",
        "outputId": "139ba0a9-e66d-41af-d6c2-83e0ab77a383",
        "colab": {
          "base_uri": "https://localhost:8080/",
          "height": 50
        }
      },
      "source": [
        "import wandb\n",
        "#wandb.init()\n",
        "#!wandb login a6f947d2d2f69e7a8c8ca0f69811fd554f27d204\n",
        "#wandb login a6f947d2d2f69e7a8c8ca0f69811fd554f27d204\n",
        "!wandb login a6f947d2d2f69e7a8c8ca0f69811fd554f27d204"
      ],
      "execution_count": 6,
      "outputs": [
        {
          "output_type": "stream",
          "text": [
            "\u001b[34m\u001b[1mwandb\u001b[0m: Appending key for api.wandb.ai to your netrc file: /root/.netrc\n",
            "\u001b[32mSuccessfully logged in to Weights & Biases!\u001b[0m\n"
          ],
          "name": "stdout"
        }
      ]
    },
    {
      "cell_type": "code",
      "metadata": {
        "id": "OONup7Ukaulv",
        "colab_type": "code",
        "colab": {}
      },
      "source": [
        "use_cuda = torch.cuda.is_available()\n",
        "device = torch.device(\"cuda\" if use_cuda else \"cpu\")"
      ],
      "execution_count": 0,
      "outputs": []
    },
    {
      "cell_type": "code",
      "metadata": {
        "id": "P1r80paEnvlX",
        "colab_type": "code",
        "colab": {}
      },
      "source": [
        "############# MNISTRekog.basemodelclass.py ######################\n",
        "class MNISTDigitBuilder(nn.Module):\n",
        "    def __init__(self, dropout=0.1):\n",
        "        super(MNISTDigitBuilder, self).__init__()\n",
        "        self.dropout_val = dropout\n",
        "        self.bias = False\n",
        "        self.conv1 = nn.Sequential(\n",
        "            nn.Conv2d(1, 8, 3, padding=1, stride=1,bias=self.bias),            \n",
        "            nn.BatchNorm2d(8),\n",
        "            nn.ReLU(),\n",
        "            nn.Dropout(self.dropout_val),\n",
        "            nn.Conv2d(8, 8, 3, padding=1, stride=1,bias=self.bias),            \n",
        "            nn.BatchNorm2d(8),\n",
        "            nn.ReLU(),\n",
        "            # nn.Conv2d(8, 8, 3, padding=1, bias=self.bias),            \n",
        "            # nn.BatchNorm2d(8),\n",
        "            # nn.ReLU(),\n",
        "            nn.MaxPool2d(2, 2),\n",
        "            nn.Dropout(self.dropout_val),\n",
        "        )\n",
        "        \n",
        "        self.conv2 = nn.Sequential(\n",
        "            nn.Conv2d(8, 8, 3, padding=1,stride=1, bias=self.bias),            \n",
        "            nn.BatchNorm2d(8),\n",
        "            nn.ReLU(),\n",
        "            nn.Dropout(self.dropout_val),\n",
        "            nn.Conv2d(8, 16, 3, padding=1, bias=self.bias),            \n",
        "            nn.BatchNorm2d(16),\n",
        "            nn.ReLU(),\n",
        "            nn.MaxPool2d(2, 2),\n",
        "            nn.Dropout(self.dropout_val),\n",
        "            # nn.Conv2d(16, 16, 3, padding=1, bias=self.bias),            \n",
        "            # nn.BatchNorm2d(16),\n",
        "            # nn.ReLU(),\n",
        "            #nn.MaxPool2d(2, 2),\n",
        "            #nn.Dropout(self.dropout_val)\n",
        "        )\n",
        "        \n",
        "        self.conv3 = nn.Sequential(\n",
        "            nn.Conv2d(16, 16, 3,bias=self.bias),            \n",
        "            nn.BatchNorm2d(16),\n",
        "            nn.ReLU(),\n",
        "            nn.Dropout(self.dropout_val),\n",
        "            nn.Conv2d(16, 16, 3,bias=self.bias),            \n",
        "            nn.BatchNorm2d(16),\n",
        "            nn.ReLU(),\n",
        "            nn.MaxPool2d(2, 2),\n",
        "            nn.Dropout(self.dropout_val)\n",
        "        )\n",
        "        \n",
        "        self.gap_linear = nn.Sequential(\n",
        "            nn.AdaptiveAvgPool2d((1,1)),\n",
        "            nn.Conv2d(16, 10, 1, bias=self.bias)\n",
        "        )\n",
        "                \n",
        "        \n",
        "    def forward(self, x):\n",
        "        x = self.conv1(x)\n",
        "        x = self.conv2(x)\n",
        "        x = self.conv3(x)\n",
        "        \n",
        "        #x = x.view(x.size(0), -1)\n",
        "        x = self.gap_linear(x)\n",
        "        x = x.view(-1, 10)\n",
        "        x = F.log_softmax(x, dim=1)\n",
        "        return x\n",
        "\n",
        "\"\"\"\n",
        "    Creates the model object on the specified device\n",
        "\"\"\"\n",
        "def model_builder(model_class=None, weights_path=None, local_device=torch.device(\"cpu\")):\n",
        "    if (model_class == None):\n",
        "        print(\"Please provide the model object to be used\")\n",
        "        return\n",
        "    local_model = model_class()#.to(local_device)\n",
        "    try:\n",
        "        if (weights_path != None):\n",
        "            checkpoint = torch.load(weights_path)\n",
        "            local_model.load_state_dict(checkpoint['model_state_dict'])\n",
        "                #torch.load(weights_path, map_location=local_device))           \n",
        "    except:\n",
        "        print(\"Some execption occured during loading the model\")\n",
        "    return local_model.to(local_device)\n"
      ],
      "execution_count": 0,
      "outputs": []
    },
    {
      "cell_type": "code",
      "metadata": {
        "id": "nrssLGovoGgP",
        "colab_type": "code",
        "colab": {}
      },
      "source": [
        "########### MNISTRekog.fileutils.py\n",
        "\"\"\"\n",
        "    This file contains non-core utility functions \n",
        "    used in the overall project\n",
        "\"\"\"\n",
        "\n",
        "import random\n",
        "import os\n",
        "import numpy as np\n",
        "import pandas as pd\n",
        "\n",
        "\n",
        "def rand_run_name():\n",
        "    ran = random.randrange(10**80)\n",
        "    myhex = \"%064x\" % ran\n",
        "    #limit string to 64 characters\n",
        "    myhex = myhex[:10]\n",
        "    return myhex\n",
        "\n",
        "def generate_model_save_path(base=\"/content/drive/My Drive/EVA4/model_saves\",rand_string=None):\n",
        "    if rand_string == None:\n",
        "        rand_string=rand_run_name()\n",
        "    file_name = \"model-\"+rand_string+\".h5\"\n",
        "    return os.path.join(base,file_name)\n",
        "\n",
        "\"\"\"\n",
        "    Called per-epoch to log most of the test data\n",
        "\"\"\"\n",
        "#global_stats_array = np.array([[]])\n",
        "def stats_logger(stats_array, epoch,\n",
        "                 train_loss, train_accuracy, \n",
        "                 test_loss, test_accuracy, \n",
        "                 lr, momentum=0.95, \n",
        "                 weight_decay=0):\n",
        "    return np.append(stats_array, [[epoch,train_loss, train_accuracy, test_loss, test_accuracy, lr, momentum, weight_decay]],axis=0)\n",
        "    \n",
        "    #print(global_stats_array)\n",
        "\n",
        "\n"
      ],
      "execution_count": 0,
      "outputs": []
    },
    {
      "cell_type": "code",
      "metadata": {
        "id": "S48KlTfvnX8Y",
        "colab_type": "code",
        "outputId": "9236cd1a-c41e-43d1-bbfc-9efb21ade21c",
        "colab": {
          "base_uri": "https://localhost:8080/",
          "height": 67
        }
      },
      "source": [
        "# WandB – Config is a variable that holds and saves hyperparameters and inputs\n",
        "# hyperparameter_defaults = dict(\n",
        "#     dropout = 0.1,\n",
        "#     channels_one = 16,\n",
        "#     channels_two = 32,\n",
        "#     batch_size = 64,\n",
        "#     test_batch_size=64,\n",
        "#     lr = 0.018,\n",
        "#     momentum = 0.9,\n",
        "#     no_cuda = False,\n",
        "#     seed = 1,\n",
        "#     epochs = 20,\n",
        "#     bias = False,\n",
        "#     log_interval = 10\n",
        "#     )\n",
        "\n",
        "hyperparameter_defaults = dict(\n",
        "    dropout = 0.1,#0.07114420042272313,\n",
        "    channels_one = 16,\n",
        "    channels_two = 32,\n",
        "    batch_size = 64,\n",
        "    test_batch_size=34,\n",
        "    lr = 0.04, #0.030455453938066226, #0.018,# 0.017530428914306426,\n",
        "    momentum = 0.95, #0.8424379743502641,\n",
        "    no_cuda = False,\n",
        "    seed = 1,\n",
        "    epochs = 15,\n",
        "    bias = False,\n",
        "    log_interval = 11,\n",
        "    sched_lr_gamma = 0.5,\n",
        "    sched_lr_step= 1,\n",
        "    start_lr = 5\n",
        "    )\n",
        "\n",
        "\n",
        "\n",
        "wandb.init(config=hyperparameter_defaults, project=\"news4eva4\")\n",
        "wandb.watch_called = False # Re-run the model without restarting the runtime, unnecessary after our next release\n",
        "config = wandb.config\n"
      ],
      "execution_count": 10,
      "outputs": [
        {
          "output_type": "display_data",
          "data": {
            "text/html": [
              "\n",
              "                Logging results to <a href=\"https://wandb.com\" target=\"_blank\">Weights & Biases</a> <a href=\"https://docs.wandb.com/integrations/jupyter.html\" target=\"_blank\">(Documentation)</a>.<br/>\n",
              "                Project page: <a href=\"https://app.wandb.ai/rajy4683/news4eva4\" target=\"_blank\">https://app.wandb.ai/rajy4683/news4eva4</a><br/>\n",
              "                Run page: <a href=\"https://app.wandb.ai/rajy4683/news4eva4/runs/ba22l63e\" target=\"_blank\">https://app.wandb.ai/rajy4683/news4eva4/runs/ba22l63e</a><br/>\n",
              "            "
            ],
            "text/plain": [
              "<IPython.core.display.HTML object>"
            ]
          },
          "metadata": {
            "tags": []
          }
        }
      ]
    },
    {
      "cell_type": "code",
      "metadata": {
        "id": "MU0GFDJNJXWS",
        "colab_type": "code",
        "outputId": "e7cb57b3-496a-4cd5-af5c-25752b4dac71",
        "colab": {
          "base_uri": "https://localhost:8080/",
          "height": 722
        }
      },
      "source": [
        "#from basemodelclass import Net\n",
        "model = MNISTDigitBuilder(dropout=0.1).to(device)\n",
        "summary(model, input_size=(1, 28, 28))\n"
      ],
      "execution_count": 11,
      "outputs": [
        {
          "output_type": "stream",
          "text": [
            "----------------------------------------------------------------\n",
            "        Layer (type)               Output Shape         Param #\n",
            "================================================================\n",
            "            Conv2d-1            [-1, 8, 28, 28]              72\n",
            "       BatchNorm2d-2            [-1, 8, 28, 28]              16\n",
            "              ReLU-3            [-1, 8, 28, 28]               0\n",
            "           Dropout-4            [-1, 8, 28, 28]               0\n",
            "            Conv2d-5            [-1, 8, 28, 28]             576\n",
            "       BatchNorm2d-6            [-1, 8, 28, 28]              16\n",
            "              ReLU-7            [-1, 8, 28, 28]               0\n",
            "         MaxPool2d-8            [-1, 8, 14, 14]               0\n",
            "           Dropout-9            [-1, 8, 14, 14]               0\n",
            "           Conv2d-10            [-1, 8, 14, 14]             576\n",
            "      BatchNorm2d-11            [-1, 8, 14, 14]              16\n",
            "             ReLU-12            [-1, 8, 14, 14]               0\n",
            "          Dropout-13            [-1, 8, 14, 14]               0\n",
            "           Conv2d-14           [-1, 16, 14, 14]           1,152\n",
            "      BatchNorm2d-15           [-1, 16, 14, 14]              32\n",
            "             ReLU-16           [-1, 16, 14, 14]               0\n",
            "        MaxPool2d-17             [-1, 16, 7, 7]               0\n",
            "          Dropout-18             [-1, 16, 7, 7]               0\n",
            "           Conv2d-19             [-1, 16, 5, 5]           2,304\n",
            "      BatchNorm2d-20             [-1, 16, 5, 5]              32\n",
            "             ReLU-21             [-1, 16, 5, 5]               0\n",
            "          Dropout-22             [-1, 16, 5, 5]               0\n",
            "           Conv2d-23             [-1, 16, 3, 3]           2,304\n",
            "      BatchNorm2d-24             [-1, 16, 3, 3]              32\n",
            "             ReLU-25             [-1, 16, 3, 3]               0\n",
            "        MaxPool2d-26             [-1, 16, 1, 1]               0\n",
            "          Dropout-27             [-1, 16, 1, 1]               0\n",
            "AdaptiveAvgPool2d-28             [-1, 16, 1, 1]               0\n",
            "           Conv2d-29             [-1, 10, 1, 1]             160\n",
            "================================================================\n",
            "Total params: 7,288\n",
            "Trainable params: 7,288\n",
            "Non-trainable params: 0\n",
            "----------------------------------------------------------------\n",
            "Input size (MB): 0.00\n",
            "Forward/backward pass size (MB): 0.51\n",
            "Params size (MB): 0.03\n",
            "Estimated Total Size (MB): 0.54\n",
            "----------------------------------------------------------------\n"
          ],
          "name": "stdout"
        }
      ]
    },
    {
      "cell_type": "code",
      "metadata": {
        "id": "DqTWLaM5GHgH",
        "colab_type": "code",
        "colab": {}
      },
      "source": [
        "train_transforms = transforms.Compose([\n",
        "                                      #  transforms.Resize((28, 28)),\n",
        "                                      #  transforms.ColorJitter(brightness=0.10, contrast=0.1, saturation=0.10, hue=0.1),\n",
        "                                       #transforms.RandomRotation((-7.0, 7.0), fill=(1,)),\n",
        "                                       transforms.ToTensor(),\n",
        "                                       transforms.Normalize((0.1307,), (0.3081,)) # The mean and std have to be sequences (e.g., tuples), therefore you should add a comma after the values. \n",
        "                                       # Note the difference between (0.1307) and (0.1307,)\n",
        "                                       ])\n",
        "\n",
        "# Test Phase transformations\n",
        "test_transforms = transforms.Compose([\n",
        "                                      #  transforms.Resize((28, 28)),\n",
        "                                      #  transforms.ColorJitter(brightness=0.10, contrast=0.1, saturation=0.10, hue=0.1),\n",
        "                                       #transforms.RandomRotation((-7.0, 7.0), fill=(1,)),\n",
        "                                       transforms.ToTensor(),\n",
        "                                       transforms.Normalize((0.1307,), (0.3081,))\n",
        "                                       ])"
      ],
      "execution_count": 0,
      "outputs": []
    },
    {
      "cell_type": "code",
      "metadata": {
        "id": "8fDefDhaFlwH",
        "colab_type": "code",
        "colab": {}
      },
      "source": [
        "classes = ('0', '1', '2', '3', '4', '5', '6', '7', '8', '9')\n",
        "train_losses = []\n",
        "test_losses = []\n",
        "train_acc = []\n",
        "test_acc = []\n",
        "\n",
        "from tqdm import tqdm\n",
        "def train(args, model, device, train_loader, optimizer, epoch_number,l1_loss=False, l1_beta = 0):\n",
        "    model.train()\n",
        "    pbar = tqdm(train_loader)\n",
        "    train_loss = 0\n",
        "    train_accuracy = 0\n",
        "    for batch_idx, (data, target) in enumerate(pbar):\n",
        "        data, target = data.to(device), target.to(device)\n",
        "        optimizer.zero_grad()\n",
        "        output = model(data)\n",
        "        pred = output.argmax(dim=1, keepdim=True)  # get the index of the max log-probability\n",
        "        train_accuracy += pred.eq(target.view_as(pred)).sum().item()\n",
        "\n",
        "        loss = F.nll_loss(output, target)\n",
        "        if l1_loss == True:\n",
        "            l1_crit = nn.L1Loss(size_average=False)\n",
        "            reg_loss = 0\n",
        "            for param in model.parameters():\n",
        "                target = torch.zeros_like(param)    \n",
        "                reg_loss += l1_crit(param, target)\n",
        "            loss += (l1_beta * reg_loss)\n",
        "        loss.backward()\n",
        "        optimizer.step()\n",
        "        pbar.set_description(desc= f'loss={loss.item()} batch_id={batch_idx}')\n",
        "        train_loss += loss.item()\n",
        "\n",
        "    train_loss /= len(train_loader.dataset)\n",
        "    #print('\\nEpoch: {:.0f} Train set: Average loss: {:.4f}, Accuracy: {}/{} ({:.3f}%)\\n'.format(\n",
        "    #    epoch_number, train_loss, train_accuracy, len(train_loader.dataset),\n",
        "    #    100. * train_accuracy / len(train_loader.dataset)))\n",
        "    train_accuracy = (100. * train_accuracy) / len(train_loader.dataset)\n",
        "    #train_acc.append(train_accuracy)\n",
        "    #train_losses.append(train_loss)\n",
        "\n",
        "    return train_accuracy, train_loss\n",
        "\n",
        "def test(args, model, device, test_loader,classes,epoch_number):\n",
        "    model.eval()\n",
        "    test_loss = 0\n",
        "    correct = 0\n",
        "    example_images = []\n",
        "    with torch.no_grad():\n",
        "        for data, target in test_loader:\n",
        "            data, target = data.to(device), target.to(device)\n",
        "            output = model(data)\n",
        "            test_loss += F.nll_loss(output, target, reduction='sum').item()  # sum up batch loss\n",
        "            pred = output.argmax(dim=1, keepdim=True)  # get the index of the max log-probability\n",
        "            correct += pred.eq(target.view_as(pred)).sum().item()\n",
        "        #example_images.append(wandb.Image(\n",
        "        #        data[0], caption=\"Pred: {} Truth: {}\".format(classes[pred[0].item()], classes[target[0]])))\n",
        "\n",
        "    test_loss /= len(test_loader.dataset)\n",
        "    test_accuracy = (100. * correct) / len(test_loader.dataset)\n",
        "\n",
        "    #print('\\nEpoch: {:.0f} Test set: Average loss: {:.4f}, Accuracy: {}/{} ({:.3f}%)\\n'.format(\n",
        "    #    epoch_number, test_loss, correct, len(test_loader.dataset),\n",
        "    #    100. * correct / len(test_loader.dataset)))\n",
        "    #test_acc.append(test_accuracy)\n",
        "    #test_losses.append(test_loss)\n",
        "\n",
        "    return test_accuracy, test_loss"
      ],
      "execution_count": 0,
      "outputs": []
    },
    {
      "cell_type": "markdown",
      "metadata": {
        "id": "yqZWGDhpsFpA",
        "colab_type": "text"
      },
      "source": [
        "#### Base Model with 40 Epochs\n",
        "#### Model-Path: /content/drive/My Drive/EVA4/baseline_models/model-3176d58add_baserun40.h5"
      ]
    },
    {
      "cell_type": "code",
      "metadata": {
        "colab_type": "code",
        "outputId": "e7281e52-4438-4154-f164-f106bdcd4c75",
        "id": "NWeSsUFD5UXj",
        "colab": {
          "base_uri": "https://localhost:8080/",
          "height": 1000
        }
      },
      "source": [
        "#model = MNISTDigitBuilder(start_channels=16,exponetate_layers=False).to(device)\n",
        "#wandb.init(project=\"news4eva4\")\n",
        "from torch.optim.lr_scheduler import StepLR, OneCycleLR, MultiStepLR\n",
        "import os\n",
        "hyperparameter_defaults = dict(\n",
        "    run_name = rand_run_name(),\n",
        "    dropout = 0.1,#0.07114420042272313,\n",
        "    batch_size = 82,\n",
        "    test_batch_size=34,\n",
        "    lr = 0.025, #0.00625, #0.042259475404268484, #0.032877745711371975, #0.007, #0.030455453938066226, #0.018,# 0.017530428914306426,\n",
        "    momentum = 0.9, #0.6635974310124919, #0.824176605049245, #0.95, #0.8424379743502641,\n",
        "    no_cuda = False,\n",
        "    seed = 1,\n",
        "    epochs = 40,\n",
        "    bias = False,\n",
        "    sched_lr_gamma = 0.5, #0.7836943786449023, #0.271611419527123, #0.99,\n",
        "    sched_lr_step= 2,\n",
        "    start_lr = 7,\n",
        "    weight_decay=0 #5.740256897290758e-05, #1.8540436495464775e-06\n",
        "    )\n",
        "\n",
        "classes = ('0', '1', '2', '3', '4', '5', '6', '7', '8', '9')\n",
        "# train_losses = []\n",
        "# test_losses = []\n",
        "# train_acc = []\n",
        "# test_acc = []\n",
        "\n",
        "wandb.init(config=hyperparameter_defaults, project=\"news4eva4\")\n",
        "wandb.watch_called = False # Re-run the model without restarting the runtime, unnecessary after our next release\n",
        "config = wandb.config\n",
        "model_path = generate_model_save_path(rand_string=config.run_name)\n",
        "print(\"Model will be saved to:\", model_path)\n",
        "prev_saved_model = \"/content/drive/My Drive/EVA4/model_saves/model-14ba52d1d9.h5\"\n",
        "#\"/content/drive/My Drive/EVA4/baseline_models/model-1b795c6652.h5\"\n",
        "\n",
        "def main():\n",
        "    use_cuda = not config.no_cuda and torch.cuda.is_available()\n",
        "    device = torch.device(\"cuda\" if use_cuda else \"cpu\")\n",
        "    kwargs = {'num_workers': 4, 'pin_memory': True} if use_cuda else {}\n",
        "    \n",
        "    # Set random seeds and deterministic pytorch for reproducibility\n",
        "    # random.seed(config.seed)       # python random seed\n",
        "    torch.manual_seed(config.seed) # pytorch random seed\n",
        "    # numpy.random.seed(config.seed) # numpy random seed\n",
        "    torch.backends.cudnn.deterministic = True\n",
        "\n",
        "    # Load the dataset: We're training our CNN on CIFAR10 (https://www.cs.toronto.edu/~kriz/cifar.html)\n",
        "    # First we define the tranformations to apply to our images\n",
        "    #kwargs = {'num_workers': 4, 'pin_memory': True} if use_cuda else {}\n",
        "    train_loader = torch.utils.data.DataLoader(\n",
        "        datasets.MNIST('../data', train=True, download=True,\n",
        "                        transform=train_transforms),\n",
        "        batch_size=config.batch_size, shuffle=True, **kwargs)\n",
        "    test_loader = torch.utils.data.DataLoader(\n",
        "        datasets.MNIST('../data', train=False, transform=test_transforms),\n",
        "        batch_size=config.batch_size, shuffle=True, **kwargs)\n",
        "\n",
        "    # Initialize our model, recursively go over all modules and convert their parameters and buffers to CUDA tensors (if device is set to cuda)\n",
        "    # model = model_builder(MNISTDigitBuilder, \n",
        "    #                   weights_path=prev_saved_model,\n",
        "    #                   local_device=device)\n",
        "    \n",
        "    model = MNISTDigitBuilder(dropout=config.dropout).to(device)\n",
        "    #model.load_state_dict(torch.load(prev_saved_model, map_location=device))\n",
        "\n",
        "    optimizer = optim.SGD(model.parameters(), lr=config.lr,\n",
        "                          momentum=config.momentum, weight_decay=config.weight_decay)\n",
        "    \n",
        "    scheduler = StepLR(optimizer, step_size=config.sched_lr_step, gamma=config.sched_lr_gamma)\n",
        "    #scheduler = torch.optim.lr_scheduler.OneCycleLR(optimizer, max_lr=config.lr, steps_per_epoch=len(train_loader), epochs=config.epochs)\n",
        "    #scheduler = MultiStepLR(optimizer, milestones=[10,20], gamma=config.sched_lr_gamma)\n",
        "    # WandB – wandb.watch() automatically fetches all layer dimensions, gradients, model parameters and logs them automatically to your dashboard.\n",
        "    # Using log=\"all\" log histograms of parameter values in addition to gradients\n",
        "    wandb.watch(model, log=\"all\")\n",
        "\n",
        "    for epoch in range(1, config.epochs + 1):\n",
        "        epoch_train_acc,epoch_train_loss = train(config, model, device, train_loader, optimizer, epoch)        \n",
        "        epoch_test_acc,epoch_test_loss = test(config, model, device, test_loader, classes,epoch)\n",
        "\n",
        "        #epoch_stats\n",
        "        \n",
        "        print('\\nEpoch: {:.0f} Train set: Average loss: {:.4f}, Accuracy: {:.3f}%'.format(\n",
        "        epoch, epoch_train_loss, epoch_train_acc))\n",
        "        print('Epoch: {:.0f} Test set: Average loss: {:.4f}, Accuracy: {:.3f}%'.format(\n",
        "        epoch, epoch_test_loss, epoch_test_acc))\n",
        "        myoptim = optimizer.state_dict()['param_groups'][0]\n",
        "        #print('Epoch: {:.0f} Optimizer values: LR: {:.10f}, LastLR:{:.10f}, Momentum: {:.10f}, Weight Decay: {:.10f}'.format(\n",
        "        #epoch, scheduler.get_lr()[0],scheduler.get_last_lr()[0],myoptim['momentum'],myoptim['weight_decay']))\n",
        "\n",
        "        print('Epoch: {:.0f} Optimizer values: LastLR:{:.10f}, Momentum: {:.10f}, Weight Decay: {:.10f}'.format(\n",
        "        epoch, scheduler.get_last_lr()[0],myoptim['momentum'],myoptim['weight_decay']))\n",
        "\n",
        "        #stats_logger(global_stats_array, 1,0.1,99.0,0.1,98.0,0.001,0.78,0.00001)\n",
        "        \n",
        "        wandb.log({ \"Train Accuracy\": epoch_train_acc, \n",
        "                   \"Train Loss\": epoch_train_loss, \n",
        "                   \"Test Accuracy\":epoch_test_acc, \n",
        "                   \"Test Loss\": epoch_test_loss,\n",
        "                   \"Learning Rate\": config.lr})\n",
        "                   #\"Learning Rate\": scheduler.get_lr()})\n",
        "        if (epoch > config.start_lr):\n",
        "            scheduler.step()\n",
        "        \n",
        "    # WandB – Save the model checkpoint. This automatically saves a file to the cloud and associates it with the current run.\n",
        "\n",
        "    torch.save({\n",
        "            'model_state_dict': model.state_dict(),\n",
        "            'optimizer_state_dict': optimizer.state_dict()\n",
        "            }, model_path)\n",
        "    wandb.save('model.h5')\n",
        "\n",
        "if __name__ == '__main__':\n",
        "    main()"
      ],
      "execution_count": 0,
      "outputs": [
        {
          "output_type": "display_data",
          "data": {
            "text/html": [
              "\n",
              "                Logging results to <a href=\"https://wandb.com\" target=\"_blank\">Weights & Biases</a> <a href=\"https://docs.wandb.com/integrations/jupyter.html\" target=\"_blank\">(Documentation)</a>.<br/>\n",
              "                Project page: <a href=\"https://app.wandb.ai/rajy4683/news4eva4\" target=\"_blank\">https://app.wandb.ai/rajy4683/news4eva4</a><br/>\n",
              "                Run page: <a href=\"https://app.wandb.ai/rajy4683/news4eva4/runs/cahzbqzy\" target=\"_blank\">https://app.wandb.ai/rajy4683/news4eva4/runs/cahzbqzy</a><br/>\n",
              "            "
            ],
            "text/plain": [
              "<IPython.core.display.HTML object>"
            ]
          },
          "metadata": {
            "tags": []
          }
        },
        {
          "output_type": "stream",
          "text": [
            "\r  0%|          | 0/732 [00:00<?, ?it/s]"
          ],
          "name": "stderr"
        },
        {
          "output_type": "stream",
          "text": [
            "Model will be saved to: /content/drive/My Drive/EVA4/model_saves/model-3176d58add.h5\n"
          ],
          "name": "stdout"
        },
        {
          "output_type": "stream",
          "text": [
            "loss=0.2390914410352707 batch_id=731: 100%|██████████| 732/732 [00:13<00:00, 55.78it/s]\n",
            "  0%|          | 0/732 [00:00<?, ?it/s]"
          ],
          "name": "stderr"
        },
        {
          "output_type": "stream",
          "text": [
            "\n",
            "Epoch: 1 Train set: Average loss: 0.0035, Accuracy: 91.235%\n",
            "Epoch: 1 Test set: Average loss: 0.0679, Accuracy: 97.980%\n",
            "Epoch: 1 Optimizer values: LastLR:0.0250000000, Momentum: 0.9000000000, Weight Decay: 0.0000000000\n"
          ],
          "name": "stdout"
        },
        {
          "output_type": "stream",
          "text": [
            "loss=0.0981648862361908 batch_id=731: 100%|██████████| 732/732 [00:13<00:00, 55.74it/s]\n",
            "  0%|          | 0/732 [00:00<?, ?it/s]"
          ],
          "name": "stderr"
        },
        {
          "output_type": "stream",
          "text": [
            "\n",
            "Epoch: 2 Train set: Average loss: 0.0015, Accuracy: 96.352%\n",
            "Epoch: 2 Test set: Average loss: 0.0457, Accuracy: 98.710%\n",
            "Epoch: 2 Optimizer values: LastLR:0.0250000000, Momentum: 0.9000000000, Weight Decay: 0.0000000000\n"
          ],
          "name": "stdout"
        },
        {
          "output_type": "stream",
          "text": [
            "loss=0.015353325754404068 batch_id=731: 100%|██████████| 732/732 [00:13<00:00, 54.54it/s]\n",
            "  0%|          | 0/732 [00:00<?, ?it/s]"
          ],
          "name": "stderr"
        },
        {
          "output_type": "stream",
          "text": [
            "\n",
            "Epoch: 3 Train set: Average loss: 0.0012, Accuracy: 97.050%\n",
            "Epoch: 3 Test set: Average loss: 0.0374, Accuracy: 98.820%\n",
            "Epoch: 3 Optimizer values: LastLR:0.0250000000, Momentum: 0.9000000000, Weight Decay: 0.0000000000\n"
          ],
          "name": "stdout"
        },
        {
          "output_type": "stream",
          "text": [
            "loss=0.09712608903646469 batch_id=731: 100%|██████████| 732/732 [00:13<00:00, 55.72it/s]\n",
            "  0%|          | 0/732 [00:00<?, ?it/s]"
          ],
          "name": "stderr"
        },
        {
          "output_type": "stream",
          "text": [
            "\n",
            "Epoch: 4 Train set: Average loss: 0.0011, Accuracy: 97.332%\n",
            "Epoch: 4 Test set: Average loss: 0.0290, Accuracy: 99.100%\n",
            "Epoch: 4 Optimizer values: LastLR:0.0250000000, Momentum: 0.9000000000, Weight Decay: 0.0000000000\n"
          ],
          "name": "stdout"
        },
        {
          "output_type": "stream",
          "text": [
            "loss=0.04983311519026756 batch_id=731: 100%|██████████| 732/732 [00:13<00:00, 55.74it/s]\n",
            "  0%|          | 0/732 [00:00<?, ?it/s]"
          ],
          "name": "stderr"
        },
        {
          "output_type": "stream",
          "text": [
            "\n",
            "Epoch: 5 Train set: Average loss: 0.0010, Accuracy: 97.592%\n",
            "Epoch: 5 Test set: Average loss: 0.0367, Accuracy: 98.890%\n",
            "Epoch: 5 Optimizer values: LastLR:0.0250000000, Momentum: 0.9000000000, Weight Decay: 0.0000000000\n"
          ],
          "name": "stdout"
        },
        {
          "output_type": "stream",
          "text": [
            "loss=0.20742565393447876 batch_id=731: 100%|██████████| 732/732 [00:13<00:00, 54.60it/s]\n",
            "  0%|          | 0/732 [00:00<?, ?it/s]"
          ],
          "name": "stderr"
        },
        {
          "output_type": "stream",
          "text": [
            "\n",
            "Epoch: 6 Train set: Average loss: 0.0009, Accuracy: 97.688%\n",
            "Epoch: 6 Test set: Average loss: 0.0285, Accuracy: 99.160%\n",
            "Epoch: 6 Optimizer values: LastLR:0.0250000000, Momentum: 0.9000000000, Weight Decay: 0.0000000000\n"
          ],
          "name": "stdout"
        },
        {
          "output_type": "stream",
          "text": [
            "loss=0.022743068635463715 batch_id=731: 100%|██████████| 732/732 [00:13<00:00, 52.68it/s]\n",
            "  0%|          | 0/732 [00:00<?, ?it/s]"
          ],
          "name": "stderr"
        },
        {
          "output_type": "stream",
          "text": [
            "\n",
            "Epoch: 7 Train set: Average loss: 0.0009, Accuracy: 97.807%\n",
            "Epoch: 7 Test set: Average loss: 0.0260, Accuracy: 99.180%\n",
            "Epoch: 7 Optimizer values: LastLR:0.0250000000, Momentum: 0.9000000000, Weight Decay: 0.0000000000\n"
          ],
          "name": "stdout"
        },
        {
          "output_type": "stream",
          "text": [
            "loss=0.08698707073926926 batch_id=731: 100%|██████████| 732/732 [00:13<00:00, 62.49it/s]\n",
            "  0%|          | 0/732 [00:00<?, ?it/s]"
          ],
          "name": "stderr"
        },
        {
          "output_type": "stream",
          "text": [
            "\n",
            "Epoch: 8 Train set: Average loss: 0.0009, Accuracy: 97.842%\n",
            "Epoch: 8 Test set: Average loss: 0.0272, Accuracy: 99.240%\n",
            "Epoch: 8 Optimizer values: LastLR:0.0250000000, Momentum: 0.9000000000, Weight Decay: 0.0000000000\n"
          ],
          "name": "stdout"
        },
        {
          "output_type": "stream",
          "text": [
            "loss=0.08298046141862869 batch_id=731: 100%|██████████| 732/732 [00:13<00:00, 53.90it/s]\n",
            "  0%|          | 0/732 [00:00<?, ?it/s]"
          ],
          "name": "stderr"
        },
        {
          "output_type": "stream",
          "text": [
            "\n",
            "Epoch: 9 Train set: Average loss: 0.0008, Accuracy: 97.960%\n",
            "Epoch: 9 Test set: Average loss: 0.0274, Accuracy: 99.250%\n",
            "Epoch: 9 Optimizer values: LastLR:0.0250000000, Momentum: 0.9000000000, Weight Decay: 0.0000000000\n"
          ],
          "name": "stdout"
        },
        {
          "output_type": "stream",
          "text": [
            "loss=0.048674557358026505 batch_id=731: 100%|██████████| 732/732 [00:13<00:00, 53.82it/s]\n",
            "  0%|          | 0/732 [00:00<?, ?it/s]"
          ],
          "name": "stderr"
        },
        {
          "output_type": "stream",
          "text": [
            "\n",
            "Epoch: 10 Train set: Average loss: 0.0008, Accuracy: 98.192%\n",
            "Epoch: 10 Test set: Average loss: 0.0240, Accuracy: 99.300%\n",
            "Epoch: 10 Optimizer values: LastLR:0.0125000000, Momentum: 0.9000000000, Weight Decay: 0.0000000000\n"
          ],
          "name": "stdout"
        },
        {
          "output_type": "stream",
          "text": [
            "loss=0.08445936441421509 batch_id=731: 100%|██████████| 732/732 [00:13<00:00, 53.04it/s]\n",
            "  0%|          | 0/732 [00:00<?, ?it/s]"
          ],
          "name": "stderr"
        },
        {
          "output_type": "stream",
          "text": [
            "\n",
            "Epoch: 11 Train set: Average loss: 0.0007, Accuracy: 98.287%\n",
            "Epoch: 11 Test set: Average loss: 0.0236, Accuracy: 99.280%\n",
            "Epoch: 11 Optimizer values: LastLR:0.0125000000, Momentum: 0.9000000000, Weight Decay: 0.0000000000\n"
          ],
          "name": "stdout"
        },
        {
          "output_type": "stream",
          "text": [
            "loss=0.053351983428001404 batch_id=731: 100%|██████████| 732/732 [00:13<00:00, 54.14it/s]\n",
            "  0%|          | 0/732 [00:00<?, ?it/s]"
          ],
          "name": "stderr"
        },
        {
          "output_type": "stream",
          "text": [
            "\n",
            "Epoch: 12 Train set: Average loss: 0.0007, Accuracy: 98.330%\n",
            "Epoch: 12 Test set: Average loss: 0.0232, Accuracy: 99.360%\n",
            "Epoch: 12 Optimizer values: LastLR:0.0062500000, Momentum: 0.9000000000, Weight Decay: 0.0000000000\n"
          ],
          "name": "stdout"
        },
        {
          "output_type": "stream",
          "text": [
            "loss=0.059519220143556595 batch_id=731: 100%|██████████| 732/732 [00:13<00:00, 58.92it/s]\n",
            "  0%|          | 0/732 [00:00<?, ?it/s]"
          ],
          "name": "stderr"
        },
        {
          "output_type": "stream",
          "text": [
            "\n",
            "Epoch: 13 Train set: Average loss: 0.0007, Accuracy: 98.325%\n",
            "Epoch: 13 Test set: Average loss: 0.0218, Accuracy: 99.370%\n",
            "Epoch: 13 Optimizer values: LastLR:0.0062500000, Momentum: 0.9000000000, Weight Decay: 0.0000000000\n"
          ],
          "name": "stdout"
        },
        {
          "output_type": "stream",
          "text": [
            "loss=0.004416843876242638 batch_id=731: 100%|██████████| 732/732 [00:13<00:00, 59.93it/s]\n",
            "  0%|          | 0/732 [00:00<?, ?it/s]"
          ],
          "name": "stderr"
        },
        {
          "output_type": "stream",
          "text": [
            "\n",
            "Epoch: 14 Train set: Average loss: 0.0006, Accuracy: 98.412%\n",
            "Epoch: 14 Test set: Average loss: 0.0221, Accuracy: 99.370%\n",
            "Epoch: 14 Optimizer values: LastLR:0.0031250000, Momentum: 0.9000000000, Weight Decay: 0.0000000000\n"
          ],
          "name": "stdout"
        },
        {
          "output_type": "stream",
          "text": [
            "loss=0.1251527965068817 batch_id=731: 100%|██████████| 732/732 [00:14<00:00, 52.09it/s]\n",
            "  0%|          | 0/732 [00:00<?, ?it/s]"
          ],
          "name": "stderr"
        },
        {
          "output_type": "stream",
          "text": [
            "\n",
            "Epoch: 15 Train set: Average loss: 0.0007, Accuracy: 98.392%\n",
            "Epoch: 15 Test set: Average loss: 0.0229, Accuracy: 99.420%\n",
            "Epoch: 15 Optimizer values: LastLR:0.0031250000, Momentum: 0.9000000000, Weight Decay: 0.0000000000\n"
          ],
          "name": "stdout"
        },
        {
          "output_type": "stream",
          "text": [
            "loss=0.16808369755744934 batch_id=731: 100%|██████████| 732/732 [00:13<00:00, 54.20it/s]\n",
            "  0%|          | 0/732 [00:00<?, ?it/s]"
          ],
          "name": "stderr"
        },
        {
          "output_type": "stream",
          "text": [
            "\n",
            "Epoch: 16 Train set: Average loss: 0.0006, Accuracy: 98.517%\n",
            "Epoch: 16 Test set: Average loss: 0.0230, Accuracy: 99.410%\n",
            "Epoch: 16 Optimizer values: LastLR:0.0015625000, Momentum: 0.9000000000, Weight Decay: 0.0000000000\n"
          ],
          "name": "stdout"
        },
        {
          "output_type": "stream",
          "text": [
            "loss=0.06383100152015686 batch_id=731: 100%|██████████| 732/732 [00:13<00:00, 54.68it/s]\n",
            "  0%|          | 0/732 [00:00<?, ?it/s]"
          ],
          "name": "stderr"
        },
        {
          "output_type": "stream",
          "text": [
            "\n",
            "Epoch: 17 Train set: Average loss: 0.0006, Accuracy: 98.513%\n",
            "Epoch: 17 Test set: Average loss: 0.0222, Accuracy: 99.460%\n",
            "Epoch: 17 Optimizer values: LastLR:0.0015625000, Momentum: 0.9000000000, Weight Decay: 0.0000000000\n"
          ],
          "name": "stdout"
        },
        {
          "output_type": "stream",
          "text": [
            "loss=0.009036335162818432 batch_id=731: 100%|██████████| 732/732 [00:13<00:00, 53.55it/s]\n",
            "  0%|          | 0/732 [00:00<?, ?it/s]"
          ],
          "name": "stderr"
        },
        {
          "output_type": "stream",
          "text": [
            "\n",
            "Epoch: 18 Train set: Average loss: 0.0006, Accuracy: 98.550%\n",
            "Epoch: 18 Test set: Average loss: 0.0221, Accuracy: 99.480%\n",
            "Epoch: 18 Optimizer values: LastLR:0.0007812500, Momentum: 0.9000000000, Weight Decay: 0.0000000000\n"
          ],
          "name": "stdout"
        },
        {
          "output_type": "stream",
          "text": [
            "loss=0.021310798823833466 batch_id=731: 100%|██████████| 732/732 [00:13<00:00, 52.88it/s]\n",
            "  0%|          | 0/732 [00:00<?, ?it/s]"
          ],
          "name": "stderr"
        },
        {
          "output_type": "stream",
          "text": [
            "\n",
            "Epoch: 19 Train set: Average loss: 0.0006, Accuracy: 98.527%\n",
            "Epoch: 19 Test set: Average loss: 0.0227, Accuracy: 99.420%\n",
            "Epoch: 19 Optimizer values: LastLR:0.0007812500, Momentum: 0.9000000000, Weight Decay: 0.0000000000\n"
          ],
          "name": "stdout"
        },
        {
          "output_type": "stream",
          "text": [
            "loss=0.08099015802145004 batch_id=731: 100%|██████████| 732/732 [00:13<00:00, 54.25it/s]\n",
            "  0%|          | 0/732 [00:00<?, ?it/s]"
          ],
          "name": "stderr"
        },
        {
          "output_type": "stream",
          "text": [
            "\n",
            "Epoch: 20 Train set: Average loss: 0.0006, Accuracy: 98.513%\n",
            "Epoch: 20 Test set: Average loss: 0.0233, Accuracy: 99.360%\n",
            "Epoch: 20 Optimizer values: LastLR:0.0003906250, Momentum: 0.9000000000, Weight Decay: 0.0000000000\n"
          ],
          "name": "stdout"
        },
        {
          "output_type": "stream",
          "text": [
            "loss=0.024495428428053856 batch_id=731: 100%|██████████| 732/732 [00:13<00:00, 53.96it/s]\n",
            "  0%|          | 0/732 [00:00<?, ?it/s]"
          ],
          "name": "stderr"
        },
        {
          "output_type": "stream",
          "text": [
            "\n",
            "Epoch: 21 Train set: Average loss: 0.0006, Accuracy: 98.490%\n",
            "Epoch: 21 Test set: Average loss: 0.0223, Accuracy: 99.420%\n",
            "Epoch: 21 Optimizer values: LastLR:0.0003906250, Momentum: 0.9000000000, Weight Decay: 0.0000000000\n"
          ],
          "name": "stdout"
        },
        {
          "output_type": "stream",
          "text": [
            "loss=0.300277441740036 batch_id=731: 100%|██████████| 732/732 [00:13<00:00, 55.08it/s]\n",
            "  0%|          | 0/732 [00:00<?, ?it/s]"
          ],
          "name": "stderr"
        },
        {
          "output_type": "stream",
          "text": [
            "\n",
            "Epoch: 22 Train set: Average loss: 0.0006, Accuracy: 98.500%\n",
            "Epoch: 22 Test set: Average loss: 0.0225, Accuracy: 99.440%\n",
            "Epoch: 22 Optimizer values: LastLR:0.0001953125, Momentum: 0.9000000000, Weight Decay: 0.0000000000\n"
          ],
          "name": "stdout"
        },
        {
          "output_type": "stream",
          "text": [
            "loss=0.0036169742234051228 batch_id=731: 100%|██████████| 732/732 [00:13<00:00, 55.32it/s]\n",
            "  0%|          | 0/732 [00:00<?, ?it/s]"
          ],
          "name": "stderr"
        },
        {
          "output_type": "stream",
          "text": [
            "\n",
            "Epoch: 23 Train set: Average loss: 0.0006, Accuracy: 98.540%\n",
            "Epoch: 23 Test set: Average loss: 0.0220, Accuracy: 99.390%\n",
            "Epoch: 23 Optimizer values: LastLR:0.0001953125, Momentum: 0.9000000000, Weight Decay: 0.0000000000\n"
          ],
          "name": "stdout"
        },
        {
          "output_type": "stream",
          "text": [
            "loss=0.055887237191200256 batch_id=731: 100%|██████████| 732/732 [00:13<00:00, 56.24it/s]\n",
            "  0%|          | 0/732 [00:00<?, ?it/s]"
          ],
          "name": "stderr"
        },
        {
          "output_type": "stream",
          "text": [
            "\n",
            "Epoch: 24 Train set: Average loss: 0.0006, Accuracy: 98.578%\n",
            "Epoch: 24 Test set: Average loss: 0.0222, Accuracy: 99.430%\n",
            "Epoch: 24 Optimizer values: LastLR:0.0000976563, Momentum: 0.9000000000, Weight Decay: 0.0000000000\n"
          ],
          "name": "stdout"
        },
        {
          "output_type": "stream",
          "text": [
            "loss=0.02512260153889656 batch_id=731: 100%|██████████| 732/732 [00:13<00:00, 55.46it/s]\n",
            "  0%|          | 0/732 [00:00<?, ?it/s]"
          ],
          "name": "stderr"
        },
        {
          "output_type": "stream",
          "text": [
            "\n",
            "Epoch: 25 Train set: Average loss: 0.0006, Accuracy: 98.567%\n",
            "Epoch: 25 Test set: Average loss: 0.0225, Accuracy: 99.420%\n",
            "Epoch: 25 Optimizer values: LastLR:0.0000976563, Momentum: 0.9000000000, Weight Decay: 0.0000000000\n"
          ],
          "name": "stdout"
        },
        {
          "output_type": "stream",
          "text": [
            "loss=0.16840611398220062 batch_id=731: 100%|██████████| 732/732 [00:12<00:00, 56.62it/s]\n",
            "  0%|          | 0/732 [00:00<?, ?it/s]"
          ],
          "name": "stderr"
        },
        {
          "output_type": "stream",
          "text": [
            "\n",
            "Epoch: 26 Train set: Average loss: 0.0006, Accuracy: 98.473%\n",
            "Epoch: 26 Test set: Average loss: 0.0223, Accuracy: 99.410%\n",
            "Epoch: 26 Optimizer values: LastLR:0.0000488281, Momentum: 0.9000000000, Weight Decay: 0.0000000000\n"
          ],
          "name": "stdout"
        },
        {
          "output_type": "stream",
          "text": [
            "loss=0.17902633547782898 batch_id=731: 100%|██████████| 732/732 [00:13<00:00, 54.63it/s]\n",
            "  0%|          | 0/732 [00:00<?, ?it/s]"
          ],
          "name": "stderr"
        },
        {
          "output_type": "stream",
          "text": [
            "\n",
            "Epoch: 27 Train set: Average loss: 0.0006, Accuracy: 98.520%\n",
            "Epoch: 27 Test set: Average loss: 0.0224, Accuracy: 99.440%\n",
            "Epoch: 27 Optimizer values: LastLR:0.0000488281, Momentum: 0.9000000000, Weight Decay: 0.0000000000\n"
          ],
          "name": "stdout"
        },
        {
          "output_type": "stream",
          "text": [
            "loss=0.08060359209775925 batch_id=731: 100%|██████████| 732/732 [00:12<00:00, 57.16it/s]\n",
            "  0%|          | 0/732 [00:00<?, ?it/s]"
          ],
          "name": "stderr"
        },
        {
          "output_type": "stream",
          "text": [
            "\n",
            "Epoch: 28 Train set: Average loss: 0.0006, Accuracy: 98.510%\n",
            "Epoch: 28 Test set: Average loss: 0.0226, Accuracy: 99.400%\n",
            "Epoch: 28 Optimizer values: LastLR:0.0000244141, Momentum: 0.9000000000, Weight Decay: 0.0000000000\n"
          ],
          "name": "stdout"
        },
        {
          "output_type": "stream",
          "text": [
            "loss=0.06490682810544968 batch_id=731: 100%|██████████| 732/732 [00:12<00:00, 56.70it/s]\n",
            "  0%|          | 0/732 [00:00<?, ?it/s]"
          ],
          "name": "stderr"
        },
        {
          "output_type": "stream",
          "text": [
            "\n",
            "Epoch: 29 Train set: Average loss: 0.0006, Accuracy: 98.530%\n",
            "Epoch: 29 Test set: Average loss: 0.0222, Accuracy: 99.400%\n",
            "Epoch: 29 Optimizer values: LastLR:0.0000244141, Momentum: 0.9000000000, Weight Decay: 0.0000000000\n"
          ],
          "name": "stdout"
        },
        {
          "output_type": "stream",
          "text": [
            "loss=0.10412555187940598 batch_id=731: 100%|██████████| 732/732 [00:13<00:00, 55.88it/s]\n",
            "  0%|          | 0/732 [00:00<?, ?it/s]"
          ],
          "name": "stderr"
        },
        {
          "output_type": "stream",
          "text": [
            "\n",
            "Epoch: 30 Train set: Average loss: 0.0006, Accuracy: 98.460%\n",
            "Epoch: 30 Test set: Average loss: 0.0225, Accuracy: 99.410%\n",
            "Epoch: 30 Optimizer values: LastLR:0.0000122070, Momentum: 0.9000000000, Weight Decay: 0.0000000000\n"
          ],
          "name": "stdout"
        },
        {
          "output_type": "stream",
          "text": [
            "loss=0.02516251616179943 batch_id=731: 100%|██████████| 732/732 [00:13<00:00, 54.97it/s]\n",
            "  0%|          | 0/732 [00:00<?, ?it/s]"
          ],
          "name": "stderr"
        },
        {
          "output_type": "stream",
          "text": [
            "\n",
            "Epoch: 31 Train set: Average loss: 0.0006, Accuracy: 98.497%\n",
            "Epoch: 31 Test set: Average loss: 0.0216, Accuracy: 99.450%\n",
            "Epoch: 31 Optimizer values: LastLR:0.0000122070, Momentum: 0.9000000000, Weight Decay: 0.0000000000\n"
          ],
          "name": "stdout"
        },
        {
          "output_type": "stream",
          "text": [
            "loss=0.0669759139418602 batch_id=731: 100%|██████████| 732/732 [00:12<00:00, 57.10it/s]\n",
            "  0%|          | 0/732 [00:00<?, ?it/s]"
          ],
          "name": "stderr"
        },
        {
          "output_type": "stream",
          "text": [
            "\n",
            "Epoch: 32 Train set: Average loss: 0.0006, Accuracy: 98.507%\n",
            "Epoch: 32 Test set: Average loss: 0.0225, Accuracy: 99.430%\n",
            "Epoch: 32 Optimizer values: LastLR:0.0000061035, Momentum: 0.9000000000, Weight Decay: 0.0000000000\n"
          ],
          "name": "stdout"
        },
        {
          "output_type": "stream",
          "text": [
            "loss=0.03163449838757515 batch_id=731: 100%|██████████| 732/732 [00:12<00:00, 56.99it/s]\n",
            "  0%|          | 0/732 [00:00<?, ?it/s]"
          ],
          "name": "stderr"
        },
        {
          "output_type": "stream",
          "text": [
            "\n",
            "Epoch: 33 Train set: Average loss: 0.0006, Accuracy: 98.517%\n",
            "Epoch: 33 Test set: Average loss: 0.0221, Accuracy: 99.410%\n",
            "Epoch: 33 Optimizer values: LastLR:0.0000061035, Momentum: 0.9000000000, Weight Decay: 0.0000000000\n"
          ],
          "name": "stdout"
        },
        {
          "output_type": "stream",
          "text": [
            "loss=0.013219882734119892 batch_id=731: 100%|██████████| 732/732 [00:12<00:00, 65.81it/s]\n",
            "  0%|          | 0/732 [00:00<?, ?it/s]"
          ],
          "name": "stderr"
        },
        {
          "output_type": "stream",
          "text": [
            "\n",
            "Epoch: 34 Train set: Average loss: 0.0006, Accuracy: 98.502%\n",
            "Epoch: 34 Test set: Average loss: 0.0223, Accuracy: 99.450%\n",
            "Epoch: 34 Optimizer values: LastLR:0.0000030518, Momentum: 0.9000000000, Weight Decay: 0.0000000000\n"
          ],
          "name": "stdout"
        },
        {
          "output_type": "stream",
          "text": [
            "loss=0.023213665932416916 batch_id=731: 100%|██████████| 732/732 [00:13<00:00, 53.38it/s]\n",
            "  0%|          | 0/732 [00:00<?, ?it/s]"
          ],
          "name": "stderr"
        },
        {
          "output_type": "stream",
          "text": [
            "\n",
            "Epoch: 35 Train set: Average loss: 0.0006, Accuracy: 98.565%\n",
            "Epoch: 35 Test set: Average loss: 0.0221, Accuracy: 99.410%\n",
            "Epoch: 35 Optimizer values: LastLR:0.0000030518, Momentum: 0.9000000000, Weight Decay: 0.0000000000\n"
          ],
          "name": "stdout"
        },
        {
          "output_type": "stream",
          "text": [
            "loss=0.0209051501005888 batch_id=731: 100%|██████████| 732/732 [00:13<00:00, 54.30it/s]\n",
            "  0%|          | 0/732 [00:00<?, ?it/s]"
          ],
          "name": "stderr"
        },
        {
          "output_type": "stream",
          "text": [
            "\n",
            "Epoch: 36 Train set: Average loss: 0.0006, Accuracy: 98.592%\n",
            "Epoch: 36 Test set: Average loss: 0.0221, Accuracy: 99.440%\n",
            "Epoch: 36 Optimizer values: LastLR:0.0000015259, Momentum: 0.9000000000, Weight Decay: 0.0000000000\n"
          ],
          "name": "stdout"
        },
        {
          "output_type": "stream",
          "text": [
            "loss=0.01666388101875782 batch_id=731: 100%|██████████| 732/732 [00:13<00:00, 55.37it/s]\n",
            "  0%|          | 0/732 [00:00<?, ?it/s]"
          ],
          "name": "stderr"
        },
        {
          "output_type": "stream",
          "text": [
            "\n",
            "Epoch: 37 Train set: Average loss: 0.0006, Accuracy: 98.478%\n",
            "Epoch: 37 Test set: Average loss: 0.0225, Accuracy: 99.440%\n",
            "Epoch: 37 Optimizer values: LastLR:0.0000015259, Momentum: 0.9000000000, Weight Decay: 0.0000000000\n"
          ],
          "name": "stdout"
        },
        {
          "output_type": "stream",
          "text": [
            "loss=0.0575939305126667 batch_id=731: 100%|██████████| 732/732 [00:13<00:00, 54.71it/s]\n",
            "  0%|          | 0/732 [00:00<?, ?it/s]"
          ],
          "name": "stderr"
        },
        {
          "output_type": "stream",
          "text": [
            "\n",
            "Epoch: 38 Train set: Average loss: 0.0006, Accuracy: 98.605%\n",
            "Epoch: 38 Test set: Average loss: 0.0229, Accuracy: 99.410%\n",
            "Epoch: 38 Optimizer values: LastLR:0.0000007629, Momentum: 0.9000000000, Weight Decay: 0.0000000000\n"
          ],
          "name": "stdout"
        },
        {
          "output_type": "stream",
          "text": [
            "loss=0.02269258163869381 batch_id=731: 100%|██████████| 732/732 [00:14<00:00, 51.78it/s]\n",
            "  0%|          | 0/732 [00:00<?, ?it/s]"
          ],
          "name": "stderr"
        },
        {
          "output_type": "stream",
          "text": [
            "\n",
            "Epoch: 39 Train set: Average loss: 0.0006, Accuracy: 98.510%\n",
            "Epoch: 39 Test set: Average loss: 0.0229, Accuracy: 99.420%\n",
            "Epoch: 39 Optimizer values: LastLR:0.0000007629, Momentum: 0.9000000000, Weight Decay: 0.0000000000\n"
          ],
          "name": "stdout"
        },
        {
          "output_type": "stream",
          "text": [
            "loss=0.032581403851509094 batch_id=731: 100%|██████████| 732/732 [00:13<00:00, 54.42it/s]\n"
          ],
          "name": "stderr"
        },
        {
          "output_type": "stream",
          "text": [
            "\n",
            "Epoch: 40 Train set: Average loss: 0.0006, Accuracy: 98.513%\n",
            "Epoch: 40 Test set: Average loss: 0.0228, Accuracy: 99.400%\n",
            "Epoch: 40 Optimizer values: LastLR:0.0000003815, Momentum: 0.9000000000, Weight Decay: 0.0000000000\n"
          ],
          "name": "stdout"
        }
      ]
    },
    {
      "cell_type": "markdown",
      "metadata": {
        "colab_type": "text",
        "id": "kpOeD-8ssiGW"
      },
      "source": [
        "##### L2 + Base Model with 40 Epochs\n",
        "#### Model-Path: /content/drive/My Drive/EVA4/baseline_models/model-1a74d5814d_baseline_l2.h5"
      ]
    },
    {
      "cell_type": "code",
      "metadata": {
        "colab_type": "code",
        "outputId": "49f0c3a2-598d-4e8f-9da1-09d4af237c63",
        "id": "epiC8ejD6Ssn",
        "colab": {
          "base_uri": "https://localhost:8080/",
          "height": 1000
        }
      },
      "source": [
        "#model = MNISTDigitBuilder(start_channels=16,exponetate_layers=False).to(device)\n",
        "#wandb.init(project=\"news4eva4\")\n",
        "from torch.optim.lr_scheduler import StepLR, OneCycleLR, MultiStepLR\n",
        "import os\n",
        "hyperparameter_defaults = dict(\n",
        "    run_name = rand_run_name(),\n",
        "    dropout = 0.1,#0.07114420042272313,\n",
        "    batch_size = 82,\n",
        "    test_batch_size=34,\n",
        "    lr = 0.025, #0.00625, #0.042259475404268484, #0.032877745711371975, #0.007, #0.030455453938066226, #0.018,# 0.017530428914306426,\n",
        "    momentum = 0.9, #0.6635974310124919, #0.824176605049245, #0.95, #0.8424379743502641,\n",
        "    no_cuda = False,\n",
        "    seed = 1,\n",
        "    epochs = 40,\n",
        "    bias = False,\n",
        "    sched_lr_gamma = 0.5, #0.7836943786449023, #0.271611419527123, #0.99,\n",
        "    sched_lr_step= 2,\n",
        "    start_lr = 7,\n",
        "    weight_decay=0.0006905824115205087 #5.740256897290758e-05, #1.8540436495464775e-06\n",
        "    )\n",
        "\n",
        "classes = ('0', '1', '2', '3', '4', '5', '6', '7', '8', '9')\n",
        "# train_losses = []\n",
        "# test_losses = []\n",
        "# train_acc = []\n",
        "# test_acc = []\n",
        "\n",
        "wandb.init(config=hyperparameter_defaults, project=\"news4eva4\")\n",
        "wandb.watch_called = False # Re-run the model without restarting the runtime, unnecessary after our next release\n",
        "config = wandb.config\n",
        "model_path = generate_model_save_path(rand_string=config.run_name)\n",
        "print(\"Model will be saved to:\", model_path)\n",
        "prev_saved_model = \"/content/drive/My Drive/EVA4/model_saves/model-14ba52d1d9.h5\"\n",
        "#\"/content/drive/My Drive/EVA4/baseline_models/model-1b795c6652.h5\"\n",
        "\n",
        "def main():\n",
        "    use_cuda = not config.no_cuda and torch.cuda.is_available()\n",
        "    device = torch.device(\"cuda\" if use_cuda else \"cpu\")\n",
        "    kwargs = {'num_workers': 4, 'pin_memory': True} if use_cuda else {}\n",
        "    \n",
        "    # Set random seeds and deterministic pytorch for reproducibility\n",
        "    # random.seed(config.seed)       # python random seed\n",
        "    torch.manual_seed(config.seed) # pytorch random seed\n",
        "    # numpy.random.seed(config.seed) # numpy random seed\n",
        "    torch.backends.cudnn.deterministic = True\n",
        "\n",
        "    # Load the dataset: We're training our CNN on CIFAR10 (https://www.cs.toronto.edu/~kriz/cifar.html)\n",
        "    # First we define the tranformations to apply to our images\n",
        "    #kwargs = {'num_workers': 4, 'pin_memory': True} if use_cuda else {}\n",
        "    train_loader = torch.utils.data.DataLoader(\n",
        "        datasets.MNIST('../data', train=True, download=True,\n",
        "                        transform=train_transforms),\n",
        "        batch_size=config.batch_size, shuffle=True, **kwargs)\n",
        "    test_loader = torch.utils.data.DataLoader(\n",
        "        datasets.MNIST('../data', train=False, transform=test_transforms),\n",
        "        batch_size=config.batch_size, shuffle=True, **kwargs)\n",
        "\n",
        "    # Initialize our model, recursively go over all modules and convert their parameters and buffers to CUDA tensors (if device is set to cuda)\n",
        "    # model = model_builder(MNISTDigitBuilder, \n",
        "    #                   weights_path=prev_saved_model,\n",
        "    #                   local_device=device)\n",
        "    \n",
        "    model = MNISTDigitBuilder(dropout=config.dropout).to(device)\n",
        "    #model.load_state_dict(torch.load(prev_saved_model, map_location=device))\n",
        "\n",
        "    optimizer = optim.SGD(model.parameters(), lr=config.lr,\n",
        "                          momentum=config.momentum, weight_decay=config.weight_decay)\n",
        "    \n",
        "    scheduler = StepLR(optimizer, step_size=config.sched_lr_step, gamma=config.sched_lr_gamma)\n",
        "    #scheduler = torch.optim.lr_scheduler.OneCycleLR(optimizer, max_lr=config.lr, steps_per_epoch=len(train_loader), epochs=config.epochs)\n",
        "    #scheduler = MultiStepLR(optimizer, milestones=[10,20], gamma=config.sched_lr_gamma)\n",
        "    # WandB – wandb.watch() automatically fetches all layer dimensions, gradients, model parameters and logs them automatically to your dashboard.\n",
        "    # Using log=\"all\" log histograms of parameter values in addition to gradients\n",
        "    wandb.watch(model, log=\"all\")\n",
        "\n",
        "    for epoch in range(1, config.epochs + 1):\n",
        "        epoch_train_acc,epoch_train_loss = train(config, model, device, train_loader, optimizer, epoch)        \n",
        "        epoch_test_acc,epoch_test_loss = test(config, model, device, test_loader, classes,epoch)\n",
        "\n",
        "        #epoch_stats\n",
        "        \n",
        "        print('\\nEpoch: {:.0f} Train set: Average loss: {:.4f}, Accuracy: {:.3f}%'.format(\n",
        "        epoch, epoch_train_loss, epoch_train_acc))\n",
        "        print('Epoch: {:.0f} Test set: Average loss: {:.4f}, Accuracy: {:.3f}%'.format(\n",
        "        epoch, epoch_test_loss, epoch_test_acc))\n",
        "        myoptim = optimizer.state_dict()['param_groups'][0]\n",
        "        #print('Epoch: {:.0f} Optimizer values: LR: {:.10f}, LastLR:{:.10f}, Momentum: {:.10f}, Weight Decay: {:.10f}'.format(\n",
        "        #epoch, scheduler.get_lr()[0],scheduler.get_last_lr()[0],myoptim['momentum'],myoptim['weight_decay']))\n",
        "\n",
        "        print('Epoch: {:.0f} Optimizer values: LastLR:{:.10f}, Momentum: {:.10f}, Weight Decay: {:.10f}'.format(\n",
        "        epoch, scheduler.get_last_lr()[0],myoptim['momentum'],myoptim['weight_decay']))\n",
        "\n",
        "        #stats_logger(global_stats_array, 1,0.1,99.0,0.1,98.0,0.001,0.78,0.00001)\n",
        "        \n",
        "        wandb.log({ \"Train Accuracy\": epoch_train_acc, \n",
        "                   \"Train Loss\": epoch_train_loss, \n",
        "                   \"Test Accuracy\":epoch_test_acc, \n",
        "                   \"Test Loss\": epoch_test_loss,\n",
        "                   \"Learning Rate\": config.lr})\n",
        "                   #\"Learning Rate\": scheduler.get_lr()})\n",
        "        if (epoch > config.start_lr):\n",
        "            scheduler.step()\n",
        "        \n",
        "    # WandB – Save the model checkpoint. This automatically saves a file to the cloud and associates it with the current run.\n",
        "\n",
        "    torch.save({\n",
        "            'model_state_dict': model.state_dict(),\n",
        "            'optimizer_state_dict': optimizer.state_dict()\n",
        "            }, model_path)\n",
        "    wandb.save('model.h5')\n",
        "\n",
        "if __name__ == '__main__':\n",
        "    main()"
      ],
      "execution_count": 0,
      "outputs": [
        {
          "output_type": "display_data",
          "data": {
            "text/html": [
              "\n",
              "                Logging results to <a href=\"https://wandb.com\" target=\"_blank\">Weights & Biases</a> <a href=\"https://docs.wandb.com/integrations/jupyter.html\" target=\"_blank\">(Documentation)</a>.<br/>\n",
              "                Project page: <a href=\"https://app.wandb.ai/rajy4683/news4eva4\" target=\"_blank\">https://app.wandb.ai/rajy4683/news4eva4</a><br/>\n",
              "                Run page: <a href=\"https://app.wandb.ai/rajy4683/news4eva4/runs/91ssmu5i\" target=\"_blank\">https://app.wandb.ai/rajy4683/news4eva4/runs/91ssmu5i</a><br/>\n",
              "            "
            ],
            "text/plain": [
              "<IPython.core.display.HTML object>"
            ]
          },
          "metadata": {
            "tags": []
          }
        },
        {
          "output_type": "stream",
          "text": [
            "\r  0%|          | 0/732 [00:00<?, ?it/s]"
          ],
          "name": "stderr"
        },
        {
          "output_type": "stream",
          "text": [
            "Model will be saved to: /content/drive/My Drive/EVA4/model_saves/model-1a74d5814d.h5\n"
          ],
          "name": "stdout"
        },
        {
          "output_type": "stream",
          "text": [
            "loss=0.24370893836021423 batch_id=731: 100%|██████████| 732/732 [00:15<00:00, 48.69it/s]\n",
            "  0%|          | 0/732 [00:00<?, ?it/s]"
          ],
          "name": "stderr"
        },
        {
          "output_type": "stream",
          "text": [
            "\n",
            "Epoch: 1 Train set: Average loss: 0.0038, Accuracy: 90.168%\n",
            "Epoch: 1 Test set: Average loss: 0.0839, Accuracy: 97.470%\n",
            "Epoch: 1 Optimizer values: LastLR:0.0250000000, Momentum: 0.9000000000, Weight Decay: 0.0006905824\n"
          ],
          "name": "stdout"
        },
        {
          "output_type": "stream",
          "text": [
            "loss=0.10117536783218384 batch_id=731: 100%|██████████| 732/732 [00:15<00:00, 47.69it/s]\n",
            "  0%|          | 0/732 [00:00<?, ?it/s]"
          ],
          "name": "stderr"
        },
        {
          "output_type": "stream",
          "text": [
            "\n",
            "Epoch: 2 Train set: Average loss: 0.0016, Accuracy: 96.235%\n",
            "Epoch: 2 Test set: Average loss: 0.0446, Accuracy: 98.670%\n",
            "Epoch: 2 Optimizer values: LastLR:0.0250000000, Momentum: 0.9000000000, Weight Decay: 0.0006905824\n"
          ],
          "name": "stdout"
        },
        {
          "output_type": "stream",
          "text": [
            "loss=0.0364457443356514 batch_id=731: 100%|██████████| 732/732 [00:15<00:00, 47.19it/s]\n",
            "  0%|          | 0/732 [00:00<?, ?it/s]"
          ],
          "name": "stderr"
        },
        {
          "output_type": "stream",
          "text": [
            "\n",
            "Epoch: 3 Train set: Average loss: 0.0013, Accuracy: 96.855%\n",
            "Epoch: 3 Test set: Average loss: 0.0416, Accuracy: 98.870%\n",
            "Epoch: 3 Optimizer values: LastLR:0.0250000000, Momentum: 0.9000000000, Weight Decay: 0.0006905824\n"
          ],
          "name": "stdout"
        },
        {
          "output_type": "stream",
          "text": [
            "loss=0.030003326013684273 batch_id=731: 100%|██████████| 732/732 [00:14<00:00, 49.08it/s]\n",
            "  0%|          | 0/732 [00:00<?, ?it/s]"
          ],
          "name": "stderr"
        },
        {
          "output_type": "stream",
          "text": [
            "\n",
            "Epoch: 4 Train set: Average loss: 0.0011, Accuracy: 97.245%\n",
            "Epoch: 4 Test set: Average loss: 0.0374, Accuracy: 98.890%\n",
            "Epoch: 4 Optimizer values: LastLR:0.0250000000, Momentum: 0.9000000000, Weight Decay: 0.0006905824\n"
          ],
          "name": "stdout"
        },
        {
          "output_type": "stream",
          "text": [
            "loss=0.02405392751097679 batch_id=731: 100%|██████████| 732/732 [00:15<00:00, 48.12it/s]\n",
            "  0%|          | 0/732 [00:00<?, ?it/s]"
          ],
          "name": "stderr"
        },
        {
          "output_type": "stream",
          "text": [
            "\n",
            "Epoch: 5 Train set: Average loss: 0.0011, Accuracy: 97.390%\n",
            "Epoch: 5 Test set: Average loss: 0.0352, Accuracy: 99.030%\n",
            "Epoch: 5 Optimizer values: LastLR:0.0250000000, Momentum: 0.9000000000, Weight Decay: 0.0006905824\n"
          ],
          "name": "stdout"
        },
        {
          "output_type": "stream",
          "text": [
            "loss=0.11805247515439987 batch_id=731: 100%|██████████| 732/732 [00:15<00:00, 56.44it/s]\n",
            "  0%|          | 0/732 [00:00<?, ?it/s]"
          ],
          "name": "stderr"
        },
        {
          "output_type": "stream",
          "text": [
            "\n",
            "Epoch: 6 Train set: Average loss: 0.0011, Accuracy: 97.440%\n",
            "Epoch: 6 Test set: Average loss: 0.0335, Accuracy: 98.970%\n",
            "Epoch: 6 Optimizer values: LastLR:0.0250000000, Momentum: 0.9000000000, Weight Decay: 0.0006905824\n"
          ],
          "name": "stdout"
        },
        {
          "output_type": "stream",
          "text": [
            "loss=0.019784968346357346 batch_id=731: 100%|██████████| 732/732 [00:14<00:00, 49.10it/s]\n",
            "  0%|          | 0/732 [00:00<?, ?it/s]"
          ],
          "name": "stderr"
        },
        {
          "output_type": "stream",
          "text": [
            "\n",
            "Epoch: 7 Train set: Average loss: 0.0010, Accuracy: 97.525%\n",
            "Epoch: 7 Test set: Average loss: 0.0375, Accuracy: 98.960%\n",
            "Epoch: 7 Optimizer values: LastLR:0.0250000000, Momentum: 0.9000000000, Weight Decay: 0.0006905824\n"
          ],
          "name": "stdout"
        },
        {
          "output_type": "stream",
          "text": [
            "loss=0.0752083957195282 batch_id=731: 100%|██████████| 732/732 [00:14<00:00, 49.29it/s]\n",
            "  0%|          | 0/732 [00:00<?, ?it/s]"
          ],
          "name": "stderr"
        },
        {
          "output_type": "stream",
          "text": [
            "\n",
            "Epoch: 8 Train set: Average loss: 0.0010, Accuracy: 97.595%\n",
            "Epoch: 8 Test set: Average loss: 0.0485, Accuracy: 98.670%\n",
            "Epoch: 8 Optimizer values: LastLR:0.0250000000, Momentum: 0.9000000000, Weight Decay: 0.0006905824\n"
          ],
          "name": "stdout"
        },
        {
          "output_type": "stream",
          "text": [
            "loss=0.032193150371313095 batch_id=731: 100%|██████████| 732/732 [00:15<00:00, 47.27it/s]\n",
            "  0%|          | 0/732 [00:00<?, ?it/s]"
          ],
          "name": "stderr"
        },
        {
          "output_type": "stream",
          "text": [
            "\n",
            "Epoch: 9 Train set: Average loss: 0.0010, Accuracy: 97.567%\n",
            "Epoch: 9 Test set: Average loss: 0.0365, Accuracy: 98.900%\n",
            "Epoch: 9 Optimizer values: LastLR:0.0250000000, Momentum: 0.9000000000, Weight Decay: 0.0006905824\n"
          ],
          "name": "stdout"
        },
        {
          "output_type": "stream",
          "text": [
            "loss=0.07664071768522263 batch_id=731: 100%|██████████| 732/732 [00:15<00:00, 48.68it/s]\n",
            "  0%|          | 0/732 [00:00<?, ?it/s]"
          ],
          "name": "stderr"
        },
        {
          "output_type": "stream",
          "text": [
            "\n",
            "Epoch: 10 Train set: Average loss: 0.0008, Accuracy: 98.040%\n",
            "Epoch: 10 Test set: Average loss: 0.0263, Accuracy: 99.250%\n",
            "Epoch: 10 Optimizer values: LastLR:0.0125000000, Momentum: 0.9000000000, Weight Decay: 0.0006905824\n"
          ],
          "name": "stdout"
        },
        {
          "output_type": "stream",
          "text": [
            "loss=0.049265049397945404 batch_id=731: 100%|██████████| 732/732 [00:14<00:00, 48.84it/s]\n",
            "  0%|          | 0/732 [00:00<?, ?it/s]"
          ],
          "name": "stderr"
        },
        {
          "output_type": "stream",
          "text": [
            "\n",
            "Epoch: 11 Train set: Average loss: 0.0008, Accuracy: 98.077%\n",
            "Epoch: 11 Test set: Average loss: 0.0280, Accuracy: 99.210%\n",
            "Epoch: 11 Optimizer values: LastLR:0.0125000000, Momentum: 0.9000000000, Weight Decay: 0.0006905824\n"
          ],
          "name": "stdout"
        },
        {
          "output_type": "stream",
          "text": [
            "loss=0.10770692676305771 batch_id=731: 100%|██████████| 732/732 [00:15<00:00, 47.93it/s]\n",
            "  0%|          | 0/732 [00:00<?, ?it/s]"
          ],
          "name": "stderr"
        },
        {
          "output_type": "stream",
          "text": [
            "\n",
            "Epoch: 12 Train set: Average loss: 0.0007, Accuracy: 98.325%\n",
            "Epoch: 12 Test set: Average loss: 0.0267, Accuracy: 99.260%\n",
            "Epoch: 12 Optimizer values: LastLR:0.0062500000, Momentum: 0.9000000000, Weight Decay: 0.0006905824\n"
          ],
          "name": "stdout"
        },
        {
          "output_type": "stream",
          "text": [
            "loss=0.05812835693359375 batch_id=731: 100%|██████████| 732/732 [00:15<00:00, 56.48it/s]\n",
            "  0%|          | 0/732 [00:00<?, ?it/s]"
          ],
          "name": "stderr"
        },
        {
          "output_type": "stream",
          "text": [
            "\n",
            "Epoch: 13 Train set: Average loss: 0.0007, Accuracy: 98.298%\n",
            "Epoch: 13 Test set: Average loss: 0.0250, Accuracy: 99.180%\n",
            "Epoch: 13 Optimizer values: LastLR:0.0062500000, Momentum: 0.9000000000, Weight Decay: 0.0006905824\n"
          ],
          "name": "stdout"
        },
        {
          "output_type": "stream",
          "text": [
            "loss=0.006553427781909704 batch_id=731: 100%|██████████| 732/732 [00:15<00:00, 48.41it/s]\n",
            "  0%|          | 0/732 [00:00<?, ?it/s]"
          ],
          "name": "stderr"
        },
        {
          "output_type": "stream",
          "text": [
            "\n",
            "Epoch: 14 Train set: Average loss: 0.0007, Accuracy: 98.468%\n",
            "Epoch: 14 Test set: Average loss: 0.0246, Accuracy: 99.330%\n",
            "Epoch: 14 Optimizer values: LastLR:0.0031250000, Momentum: 0.9000000000, Weight Decay: 0.0006905824\n"
          ],
          "name": "stdout"
        },
        {
          "output_type": "stream",
          "text": [
            "loss=0.18754597008228302 batch_id=731: 100%|██████████| 732/732 [00:14<00:00, 49.08it/s]\n",
            "  0%|          | 0/732 [00:00<?, ?it/s]"
          ],
          "name": "stderr"
        },
        {
          "output_type": "stream",
          "text": [
            "\n",
            "Epoch: 15 Train set: Average loss: 0.0007, Accuracy: 98.465%\n",
            "Epoch: 15 Test set: Average loss: 0.0248, Accuracy: 99.290%\n",
            "Epoch: 15 Optimizer values: LastLR:0.0031250000, Momentum: 0.9000000000, Weight Decay: 0.0006905824\n"
          ],
          "name": "stdout"
        },
        {
          "output_type": "stream",
          "text": [
            "loss=0.10396748036146164 batch_id=731: 100%|██████████| 732/732 [00:15<00:00, 48.66it/s]\n",
            "  0%|          | 0/732 [00:00<?, ?it/s]"
          ],
          "name": "stderr"
        },
        {
          "output_type": "stream",
          "text": [
            "\n",
            "Epoch: 16 Train set: Average loss: 0.0006, Accuracy: 98.542%\n",
            "Epoch: 16 Test set: Average loss: 0.0255, Accuracy: 99.280%\n",
            "Epoch: 16 Optimizer values: LastLR:0.0015625000, Momentum: 0.9000000000, Weight Decay: 0.0006905824\n"
          ],
          "name": "stdout"
        },
        {
          "output_type": "stream",
          "text": [
            "loss=0.06494437158107758 batch_id=731: 100%|██████████| 732/732 [00:15<00:00, 48.29it/s]\n",
            "  0%|          | 0/732 [00:00<?, ?it/s]"
          ],
          "name": "stderr"
        },
        {
          "output_type": "stream",
          "text": [
            "\n",
            "Epoch: 17 Train set: Average loss: 0.0006, Accuracy: 98.520%\n",
            "Epoch: 17 Test set: Average loss: 0.0219, Accuracy: 99.390%\n",
            "Epoch: 17 Optimizer values: LastLR:0.0015625000, Momentum: 0.9000000000, Weight Decay: 0.0006905824\n"
          ],
          "name": "stdout"
        },
        {
          "output_type": "stream",
          "text": [
            "loss=0.05795290693640709 batch_id=731: 100%|██████████| 732/732 [00:15<00:00, 48.11it/s]\n",
            "  0%|          | 0/732 [00:00<?, ?it/s]"
          ],
          "name": "stderr"
        },
        {
          "output_type": "stream",
          "text": [
            "\n",
            "Epoch: 18 Train set: Average loss: 0.0006, Accuracy: 98.570%\n",
            "Epoch: 18 Test set: Average loss: 0.0218, Accuracy: 99.330%\n",
            "Epoch: 18 Optimizer values: LastLR:0.0007812500, Momentum: 0.9000000000, Weight Decay: 0.0006905824\n"
          ],
          "name": "stdout"
        },
        {
          "output_type": "stream",
          "text": [
            "loss=0.024371838197112083 batch_id=731: 100%|██████████| 732/732 [00:15<00:00, 48.46it/s]\n",
            "  0%|          | 0/732 [00:00<?, ?it/s]"
          ],
          "name": "stderr"
        },
        {
          "output_type": "stream",
          "text": [
            "\n",
            "Epoch: 19 Train set: Average loss: 0.0006, Accuracy: 98.633%\n",
            "Epoch: 19 Test set: Average loss: 0.0225, Accuracy: 99.380%\n",
            "Epoch: 19 Optimizer values: LastLR:0.0007812500, Momentum: 0.9000000000, Weight Decay: 0.0006905824\n"
          ],
          "name": "stdout"
        },
        {
          "output_type": "stream",
          "text": [
            "loss=0.045116864144802094 batch_id=731: 100%|██████████| 732/732 [00:15<00:00, 47.81it/s]\n",
            "  0%|          | 0/732 [00:00<?, ?it/s]"
          ],
          "name": "stderr"
        },
        {
          "output_type": "stream",
          "text": [
            "\n",
            "Epoch: 20 Train set: Average loss: 0.0006, Accuracy: 98.635%\n",
            "Epoch: 20 Test set: Average loss: 0.0229, Accuracy: 99.390%\n",
            "Epoch: 20 Optimizer values: LastLR:0.0003906250, Momentum: 0.9000000000, Weight Decay: 0.0006905824\n"
          ],
          "name": "stdout"
        },
        {
          "output_type": "stream",
          "text": [
            "loss=0.05178064480423927 batch_id=731: 100%|██████████| 732/732 [00:15<00:00, 48.53it/s]\n",
            "  0%|          | 0/732 [00:00<?, ?it/s]"
          ],
          "name": "stderr"
        },
        {
          "output_type": "stream",
          "text": [
            "\n",
            "Epoch: 21 Train set: Average loss: 0.0006, Accuracy: 98.637%\n",
            "Epoch: 21 Test set: Average loss: 0.0219, Accuracy: 99.380%\n",
            "Epoch: 21 Optimizer values: LastLR:0.0003906250, Momentum: 0.9000000000, Weight Decay: 0.0006905824\n"
          ],
          "name": "stdout"
        },
        {
          "output_type": "stream",
          "text": [
            "loss=0.21429885923862457 batch_id=731: 100%|██████████| 732/732 [00:15<00:00, 48.59it/s]\n",
            "  0%|          | 0/732 [00:00<?, ?it/s]"
          ],
          "name": "stderr"
        },
        {
          "output_type": "stream",
          "text": [
            "\n",
            "Epoch: 22 Train set: Average loss: 0.0006, Accuracy: 98.713%\n",
            "Epoch: 22 Test set: Average loss: 0.0226, Accuracy: 99.350%\n",
            "Epoch: 22 Optimizer values: LastLR:0.0001953125, Momentum: 0.9000000000, Weight Decay: 0.0006905824\n"
          ],
          "name": "stdout"
        },
        {
          "output_type": "stream",
          "text": [
            "loss=0.002911238931119442 batch_id=731: 100%|██████████| 732/732 [00:15<00:00, 56.18it/s]\n",
            "  0%|          | 0/732 [00:00<?, ?it/s]"
          ],
          "name": "stderr"
        },
        {
          "output_type": "stream",
          "text": [
            "\n",
            "Epoch: 23 Train set: Average loss: 0.0006, Accuracy: 98.615%\n",
            "Epoch: 23 Test set: Average loss: 0.0220, Accuracy: 99.340%\n",
            "Epoch: 23 Optimizer values: LastLR:0.0001953125, Momentum: 0.9000000000, Weight Decay: 0.0006905824\n"
          ],
          "name": "stdout"
        },
        {
          "output_type": "stream",
          "text": [
            "loss=0.04195169359445572 batch_id=731: 100%|██████████| 732/732 [00:15<00:00, 48.15it/s]\n",
            "  0%|          | 0/732 [00:00<?, ?it/s]"
          ],
          "name": "stderr"
        },
        {
          "output_type": "stream",
          "text": [
            "\n",
            "Epoch: 24 Train set: Average loss: 0.0006, Accuracy: 98.635%\n",
            "Epoch: 24 Test set: Average loss: 0.0224, Accuracy: 99.350%\n",
            "Epoch: 24 Optimizer values: LastLR:0.0000976563, Momentum: 0.9000000000, Weight Decay: 0.0006905824\n"
          ],
          "name": "stdout"
        },
        {
          "output_type": "stream",
          "text": [
            "loss=0.024082405492663383 batch_id=731: 100%|██████████| 732/732 [00:15<00:00, 48.37it/s]\n",
            "  0%|          | 0/732 [00:00<?, ?it/s]"
          ],
          "name": "stderr"
        },
        {
          "output_type": "stream",
          "text": [
            "\n",
            "Epoch: 25 Train set: Average loss: 0.0006, Accuracy: 98.608%\n",
            "Epoch: 25 Test set: Average loss: 0.0226, Accuracy: 99.360%\n",
            "Epoch: 25 Optimizer values: LastLR:0.0000976563, Momentum: 0.9000000000, Weight Decay: 0.0006905824\n"
          ],
          "name": "stdout"
        },
        {
          "output_type": "stream",
          "text": [
            "loss=0.13863958418369293 batch_id=731: 100%|██████████| 732/732 [00:14<00:00, 55.47it/s]\n",
            "  0%|          | 0/732 [00:00<?, ?it/s]"
          ],
          "name": "stderr"
        },
        {
          "output_type": "stream",
          "text": [
            "\n",
            "Epoch: 26 Train set: Average loss: 0.0006, Accuracy: 98.677%\n",
            "Epoch: 26 Test set: Average loss: 0.0225, Accuracy: 99.340%\n",
            "Epoch: 26 Optimizer values: LastLR:0.0000488281, Momentum: 0.9000000000, Weight Decay: 0.0006905824\n"
          ],
          "name": "stdout"
        },
        {
          "output_type": "stream",
          "text": [
            "loss=0.00927711371332407 batch_id=731: 100%|██████████| 732/732 [00:15<00:00, 47.43it/s]\n",
            "  0%|          | 0/732 [00:00<?, ?it/s]"
          ],
          "name": "stderr"
        },
        {
          "output_type": "stream",
          "text": [
            "\n",
            "Epoch: 27 Train set: Average loss: 0.0006, Accuracy: 98.620%\n",
            "Epoch: 27 Test set: Average loss: 0.0225, Accuracy: 99.370%\n",
            "Epoch: 27 Optimizer values: LastLR:0.0000488281, Momentum: 0.9000000000, Weight Decay: 0.0006905824\n"
          ],
          "name": "stdout"
        },
        {
          "output_type": "stream",
          "text": [
            "loss=0.02244400978088379 batch_id=731: 100%|██████████| 732/732 [00:15<00:00, 48.20it/s]\n",
            "  0%|          | 0/732 [00:00<?, ?it/s]"
          ],
          "name": "stderr"
        },
        {
          "output_type": "stream",
          "text": [
            "\n",
            "Epoch: 28 Train set: Average loss: 0.0006, Accuracy: 98.640%\n",
            "Epoch: 28 Test set: Average loss: 0.0227, Accuracy: 99.390%\n",
            "Epoch: 28 Optimizer values: LastLR:0.0000244141, Momentum: 0.9000000000, Weight Decay: 0.0006905824\n"
          ],
          "name": "stdout"
        },
        {
          "output_type": "stream",
          "text": [
            "loss=0.09041830897331238 batch_id=731: 100%|██████████| 732/732 [00:14<00:00, 49.07it/s]\n",
            "  0%|          | 0/732 [00:00<?, ?it/s]"
          ],
          "name": "stderr"
        },
        {
          "output_type": "stream",
          "text": [
            "\n",
            "Epoch: 29 Train set: Average loss: 0.0006, Accuracy: 98.638%\n",
            "Epoch: 29 Test set: Average loss: 0.0223, Accuracy: 99.390%\n",
            "Epoch: 29 Optimizer values: LastLR:0.0000244141, Momentum: 0.9000000000, Weight Decay: 0.0006905824\n"
          ],
          "name": "stdout"
        },
        {
          "output_type": "stream",
          "text": [
            "loss=0.10391192883253098 batch_id=731: 100%|██████████| 732/732 [00:15<00:00, 46.72it/s]\n",
            "  0%|          | 0/732 [00:00<?, ?it/s]"
          ],
          "name": "stderr"
        },
        {
          "output_type": "stream",
          "text": [
            "\n",
            "Epoch: 30 Train set: Average loss: 0.0006, Accuracy: 98.605%\n",
            "Epoch: 30 Test set: Average loss: 0.0226, Accuracy: 99.370%\n",
            "Epoch: 30 Optimizer values: LastLR:0.0000122070, Momentum: 0.9000000000, Weight Decay: 0.0006905824\n"
          ],
          "name": "stdout"
        },
        {
          "output_type": "stream",
          "text": [
            "loss=0.06643480062484741 batch_id=731: 100%|██████████| 732/732 [00:15<00:00, 47.91it/s]\n",
            "  0%|          | 0/732 [00:00<?, ?it/s]"
          ],
          "name": "stderr"
        },
        {
          "output_type": "stream",
          "text": [
            "\n",
            "Epoch: 31 Train set: Average loss: 0.0006, Accuracy: 98.557%\n",
            "Epoch: 31 Test set: Average loss: 0.0222, Accuracy: 99.370%\n",
            "Epoch: 31 Optimizer values: LastLR:0.0000122070, Momentum: 0.9000000000, Weight Decay: 0.0006905824\n"
          ],
          "name": "stdout"
        },
        {
          "output_type": "stream",
          "text": [
            "loss=0.07047247886657715 batch_id=731: 100%|██████████| 732/732 [00:15<00:00, 48.23it/s]\n",
            "  0%|          | 0/732 [00:00<?, ?it/s]"
          ],
          "name": "stderr"
        },
        {
          "output_type": "stream",
          "text": [
            "\n",
            "Epoch: 32 Train set: Average loss: 0.0006, Accuracy: 98.658%\n",
            "Epoch: 32 Test set: Average loss: 0.0228, Accuracy: 99.360%\n",
            "Epoch: 32 Optimizer values: LastLR:0.0000061035, Momentum: 0.9000000000, Weight Decay: 0.0006905824\n"
          ],
          "name": "stdout"
        },
        {
          "output_type": "stream",
          "text": [
            "loss=0.04032184183597565 batch_id=731: 100%|██████████| 732/732 [00:14<00:00, 48.81it/s]\n",
            "  0%|          | 0/732 [00:00<?, ?it/s]"
          ],
          "name": "stderr"
        },
        {
          "output_type": "stream",
          "text": [
            "\n",
            "Epoch: 33 Train set: Average loss: 0.0006, Accuracy: 98.653%\n",
            "Epoch: 33 Test set: Average loss: 0.0224, Accuracy: 99.380%\n",
            "Epoch: 33 Optimizer values: LastLR:0.0000061035, Momentum: 0.9000000000, Weight Decay: 0.0006905824\n"
          ],
          "name": "stdout"
        },
        {
          "output_type": "stream",
          "text": [
            "loss=0.017090361565351486 batch_id=731: 100%|██████████| 732/732 [00:15<00:00, 46.66it/s]\n",
            "  0%|          | 0/732 [00:00<?, ?it/s]"
          ],
          "name": "stderr"
        },
        {
          "output_type": "stream",
          "text": [
            "\n",
            "Epoch: 34 Train set: Average loss: 0.0006, Accuracy: 98.667%\n",
            "Epoch: 34 Test set: Average loss: 0.0224, Accuracy: 99.350%\n",
            "Epoch: 34 Optimizer values: LastLR:0.0000030518, Momentum: 0.9000000000, Weight Decay: 0.0006905824\n"
          ],
          "name": "stdout"
        },
        {
          "output_type": "stream",
          "text": [
            "loss=0.06773189455270767 batch_id=731: 100%|██████████| 732/732 [00:15<00:00, 48.59it/s]\n",
            "  0%|          | 0/732 [00:00<?, ?it/s]"
          ],
          "name": "stderr"
        },
        {
          "output_type": "stream",
          "text": [
            "\n",
            "Epoch: 35 Train set: Average loss: 0.0006, Accuracy: 98.705%\n",
            "Epoch: 35 Test set: Average loss: 0.0222, Accuracy: 99.340%\n",
            "Epoch: 35 Optimizer values: LastLR:0.0000030518, Momentum: 0.9000000000, Weight Decay: 0.0006905824\n"
          ],
          "name": "stdout"
        },
        {
          "output_type": "stream",
          "text": [
            "loss=0.05343102291226387 batch_id=731: 100%|██████████| 732/732 [00:15<00:00, 48.03it/s]\n",
            "  0%|          | 0/732 [00:00<?, ?it/s]"
          ],
          "name": "stderr"
        },
        {
          "output_type": "stream",
          "text": [
            "\n",
            "Epoch: 36 Train set: Average loss: 0.0006, Accuracy: 98.542%\n",
            "Epoch: 36 Test set: Average loss: 0.0223, Accuracy: 99.360%\n",
            "Epoch: 36 Optimizer values: LastLR:0.0000015259, Momentum: 0.9000000000, Weight Decay: 0.0006905824\n"
          ],
          "name": "stdout"
        },
        {
          "output_type": "stream",
          "text": [
            "loss=0.03063921257853508 batch_id=731: 100%|██████████| 732/732 [00:15<00:00, 47.15it/s]\n",
            "  0%|          | 0/732 [00:00<?, ?it/s]"
          ],
          "name": "stderr"
        },
        {
          "output_type": "stream",
          "text": [
            "\n",
            "Epoch: 37 Train set: Average loss: 0.0006, Accuracy: 98.582%\n",
            "Epoch: 37 Test set: Average loss: 0.0227, Accuracy: 99.360%\n",
            "Epoch: 37 Optimizer values: LastLR:0.0000015259, Momentum: 0.9000000000, Weight Decay: 0.0006905824\n"
          ],
          "name": "stdout"
        },
        {
          "output_type": "stream",
          "text": [
            "loss=0.03734892979264259 batch_id=731: 100%|██████████| 732/732 [00:15<00:00, 46.98it/s]\n",
            "  0%|          | 0/732 [00:00<?, ?it/s]"
          ],
          "name": "stderr"
        },
        {
          "output_type": "stream",
          "text": [
            "\n",
            "Epoch: 38 Train set: Average loss: 0.0006, Accuracy: 98.598%\n",
            "Epoch: 38 Test set: Average loss: 0.0229, Accuracy: 99.360%\n",
            "Epoch: 38 Optimizer values: LastLR:0.0000007629, Momentum: 0.9000000000, Weight Decay: 0.0006905824\n"
          ],
          "name": "stdout"
        },
        {
          "output_type": "stream",
          "text": [
            "loss=0.02742191031575203 batch_id=731: 100%|██████████| 732/732 [00:15<00:00, 48.15it/s]\n",
            "  0%|          | 0/732 [00:00<?, ?it/s]"
          ],
          "name": "stderr"
        },
        {
          "output_type": "stream",
          "text": [
            "\n",
            "Epoch: 39 Train set: Average loss: 0.0006, Accuracy: 98.615%\n",
            "Epoch: 39 Test set: Average loss: 0.0232, Accuracy: 99.350%\n",
            "Epoch: 39 Optimizer values: LastLR:0.0000007629, Momentum: 0.9000000000, Weight Decay: 0.0006905824\n"
          ],
          "name": "stdout"
        },
        {
          "output_type": "stream",
          "text": [
            "loss=0.019569693133234978 batch_id=731: 100%|██████████| 732/732 [00:15<00:00, 47.81it/s]\n"
          ],
          "name": "stderr"
        },
        {
          "output_type": "stream",
          "text": [
            "\n",
            "Epoch: 40 Train set: Average loss: 0.0006, Accuracy: 98.642%\n",
            "Epoch: 40 Test set: Average loss: 0.0229, Accuracy: 99.340%\n",
            "Epoch: 40 Optimizer values: LastLR:0.0000003815, Momentum: 0.9000000000, Weight Decay: 0.0006905824\n"
          ],
          "name": "stdout"
        }
      ]
    },
    {
      "cell_type": "markdown",
      "metadata": {
        "colab_type": "text",
        "id": "zO6N9LVjsrzm"
      },
      "source": [
        "#### L1 + Base Model with 40 Epochs\n",
        "#### Model-Path: /content/drive/My Drive/EVA4/baseline_models/model-240a4abf69_baseline_l1.h5"
      ]
    },
    {
      "cell_type": "code",
      "metadata": {
        "colab_type": "code",
        "outputId": "e4b53a1a-eafd-4fdf-e61f-70d8201c45ec",
        "id": "wI7joAXtFjIz",
        "colab": {
          "base_uri": "https://localhost:8080/",
          "height": 1000
        }
      },
      "source": [
        "#model = MNISTDigitBuilder(start_channels=16,exponetate_layers=False).to(device)\n",
        "#wandb.init(project=\"news4eva4\")\n",
        "from torch.optim.lr_scheduler import StepLR, OneCycleLR, MultiStepLR\n",
        "import os\n",
        "hyperparameter_defaults = dict(\n",
        "    run_name = rand_run_name(),\n",
        "    dropout = 0.1,#0.07114420042272313,\n",
        "    batch_size = 82,\n",
        "    test_batch_size=34,\n",
        "    lr = 0.025, #0.00625, #0.042259475404268484, #0.032877745711371975, #0.007, #0.030455453938066226, #0.018,# 0.017530428914306426,\n",
        "    momentum = 0.9, #0.6635974310124919, #0.824176605049245, #0.95, #0.8424379743502641,\n",
        "    no_cuda = False,\n",
        "    seed = 1,\n",
        "    epochs = 40,\n",
        "    bias = False,\n",
        "    sched_lr_gamma = 0.5, #0.7836943786449023, #0.271611419527123, #0.99,\n",
        "    sched_lr_step= 2,\n",
        "    start_lr = 7,\n",
        "    weight_decay=0,  #0.0006905824115205087 #5.740256897290758e-05, #1.8540436495464775e-06\n",
        "    use_l1_loss = True,\n",
        "    l1_decay = 0.00005\n",
        "    )\n",
        "\n",
        "classes = ('0', '1', '2', '3', '4', '5', '6', '7', '8', '9')\n",
        "# train_losses = []\n",
        "# test_losses = []\n",
        "# train_acc = []\n",
        "# test_acc = []\n",
        "\n",
        "wandb.init(config=hyperparameter_defaults, project=\"news4eva4\")\n",
        "wandb.watch_called = False # Re-run the model without restarting the runtime, unnecessary after our next release\n",
        "config = wandb.config\n",
        "model_path = generate_model_save_path(rand_string=config.run_name)\n",
        "print(\"Model will be saved to:\", model_path)\n",
        "prev_saved_model = \"/content/drive/My Drive/EVA4/model_saves/model-14ba52d1d9.h5\"\n",
        "#\"/content/drive/My Drive/EVA4/baseline_models/model-1b795c6652.h5\"\n",
        "\n",
        "def main():\n",
        "    use_cuda = not config.no_cuda and torch.cuda.is_available()\n",
        "    device = torch.device(\"cuda\" if use_cuda else \"cpu\")\n",
        "    kwargs = {'num_workers': 4, 'pin_memory': True} if use_cuda else {}\n",
        "    \n",
        "    # Set random seeds and deterministic pytorch for reproducibility\n",
        "    # random.seed(config.seed)       # python random seed\n",
        "    torch.manual_seed(config.seed) # pytorch random seed\n",
        "    # numpy.random.seed(config.seed) # numpy random seed\n",
        "    torch.backends.cudnn.deterministic = True\n",
        "\n",
        "    # Load the dataset: We're training our CNN on CIFAR10 (https://www.cs.toronto.edu/~kriz/cifar.html)\n",
        "    # First we define the tranformations to apply to our images\n",
        "    #kwargs = {'num_workers': 4, 'pin_memory': True} if use_cuda else {}\n",
        "    train_loader = torch.utils.data.DataLoader(\n",
        "        datasets.MNIST('../data', train=True, download=True,\n",
        "                        transform=train_transforms),\n",
        "        batch_size=config.batch_size, shuffle=True, **kwargs)\n",
        "    test_loader = torch.utils.data.DataLoader(\n",
        "        datasets.MNIST('../data', train=False, transform=test_transforms),\n",
        "        batch_size=config.batch_size, shuffle=True, **kwargs)\n",
        "\n",
        "    # Initialize our model, recursively go over all modules and convert their parameters and buffers to CUDA tensors (if device is set to cuda)\n",
        "    # model = model_builder(MNISTDigitBuilder, \n",
        "    #                   weights_path=prev_saved_model,\n",
        "    #                   local_device=device)\n",
        "    \n",
        "    model = MNISTDigitBuilder(dropout=config.dropout).to(device)\n",
        "    #model.load_state_dict(torch.load(prev_saved_model, map_location=device))\n",
        "\n",
        "    optimizer = optim.SGD(model.parameters(), lr=config.lr,\n",
        "                          momentum=config.momentum, weight_decay=config.weight_decay)\n",
        "    \n",
        "    scheduler = StepLR(optimizer, step_size=config.sched_lr_step, gamma=config.sched_lr_gamma)\n",
        "    #scheduler = torch.optim.lr_scheduler.OneCycleLR(optimizer, max_lr=config.lr, steps_per_epoch=len(train_loader), epochs=config.epochs)\n",
        "    #scheduler = MultiStepLR(optimizer, milestones=[10,20], gamma=config.sched_lr_gamma)\n",
        "    # WandB – wandb.watch() automatically fetches all layer dimensions, gradients, model parameters and logs them automatically to your dashboard.\n",
        "    # Using log=\"all\" log histograms of parameter values in addition to gradients\n",
        "    wandb.watch(model, log=\"all\")\n",
        "\n",
        "    for epoch in range(1, config.epochs + 1):\n",
        "        epoch_train_acc,epoch_train_loss = train(config, model, device, train_loader, optimizer, epoch, l1_loss = config.use_l1_loss, l1_beta=config.l1_decay)        \n",
        "        epoch_test_acc,epoch_test_loss = test(config, model, device, test_loader, classes,epoch)\n",
        "\n",
        "        #epoch_stats\n",
        "        \n",
        "        print('\\nEpoch: {:.0f} Train set: Average loss: {:.4f}, Accuracy: {:.3f}%'.format(\n",
        "        epoch, epoch_train_loss, epoch_train_acc))\n",
        "        print('Epoch: {:.0f} Test set: Average loss: {:.4f}, Accuracy: {:.3f}%'.format(\n",
        "        epoch, epoch_test_loss, epoch_test_acc))\n",
        "        myoptim = optimizer.state_dict()['param_groups'][0]\n",
        "        #print('Epoch: {:.0f} Optimizer values: LR: {:.10f}, LastLR:{:.10f}, Momentum: {:.10f}, Weight Decay: {:.10f}'.format(\n",
        "        #epoch, scheduler.get_lr()[0],scheduler.get_last_lr()[0],myoptim['momentum'],myoptim['weight_decay']))\n",
        "\n",
        "        print('Epoch: {:.0f} Optimizer values: LastLR:{:.10f}, Momentum: {:.10f}, Weight Decay: {:.10f}'.format(\n",
        "        epoch, scheduler.get_last_lr()[0],myoptim['momentum'],myoptim['weight_decay']))\n",
        "\n",
        "        #stats_logger(global_stats_array, 1,0.1,99.0,0.1,98.0,0.001,0.78,0.00001)\n",
        "        \n",
        "        wandb.log({ \"Train Accuracy\": epoch_train_acc, \n",
        "                   \"Train Loss\": epoch_train_loss, \n",
        "                   \"Test Accuracy\":epoch_test_acc, \n",
        "                   \"Test Loss\": epoch_test_loss,\n",
        "                   \"Learning Rate\": config.lr})\n",
        "                   #\"Learning Rate\": scheduler.get_lr()})\n",
        "        if (epoch > config.start_lr):\n",
        "            scheduler.step()\n",
        "        \n",
        "    # WandB – Save the model checkpoint. This automatically saves a file to the cloud and associates it with the current run.\n",
        "\n",
        "    torch.save({\n",
        "            'model_state_dict': model.state_dict(),\n",
        "            'optimizer_state_dict': optimizer.state_dict()\n",
        "            }, model_path)\n",
        "    wandb.save('model.h5')\n",
        "\n",
        "if __name__ == '__main__':\n",
        "    main()"
      ],
      "execution_count": 0,
      "outputs": [
        {
          "output_type": "display_data",
          "data": {
            "text/html": [
              "\n",
              "                Logging results to <a href=\"https://wandb.com\" target=\"_blank\">Weights & Biases</a> <a href=\"https://docs.wandb.com/integrations/jupyter.html\" target=\"_blank\">(Documentation)</a>.<br/>\n",
              "                Project page: <a href=\"https://app.wandb.ai/rajy4683/news4eva4\" target=\"_blank\">https://app.wandb.ai/rajy4683/news4eva4</a><br/>\n",
              "                Run page: <a href=\"https://app.wandb.ai/rajy4683/news4eva4/runs/e5ds6pbx\" target=\"_blank\">https://app.wandb.ai/rajy4683/news4eva4/runs/e5ds6pbx</a><br/>\n",
              "            "
            ],
            "text/plain": [
              "<IPython.core.display.HTML object>"
            ]
          },
          "metadata": {
            "tags": []
          }
        },
        {
          "output_type": "stream",
          "text": [
            "\r  0%|          | 0/732 [00:00<?, ?it/s]"
          ],
          "name": "stderr"
        },
        {
          "output_type": "stream",
          "text": [
            "Model will be saved to: /content/drive/My Drive/EVA4/model_saves/model-240a4abf69.h5\n"
          ],
          "name": "stdout"
        },
        {
          "output_type": "stream",
          "text": [
            "/usr/local/lib/python3.6/dist-packages/torch/nn/_reduction.py:43: UserWarning: size_average and reduce args will be deprecated, please use reduction='sum' instead.\n",
            "  warnings.warn(warning.format(ret))\n",
            "loss=0.2899159789085388 batch_id=731: 100%|██████████| 732/732 [00:16<00:00, 44.02it/s]\n",
            "  0%|          | 0/732 [00:00<?, ?it/s]"
          ],
          "name": "stderr"
        },
        {
          "output_type": "stream",
          "text": [
            "\n",
            "Epoch: 1 Train set: Average loss: 0.0041, Accuracy: 90.478%\n",
            "Epoch: 1 Test set: Average loss: 0.0713, Accuracy: 97.930%\n",
            "Epoch: 1 Optimizer values: LastLR:0.0250000000, Momentum: 0.9000000000, Weight Decay: 0.0000000000\n"
          ],
          "name": "stdout"
        },
        {
          "output_type": "stream",
          "text": [
            "loss=0.12472720444202423 batch_id=731: 100%|██████████| 732/732 [00:16<00:00, 44.89it/s]\n",
            "  0%|          | 0/732 [00:00<?, ?it/s]"
          ],
          "name": "stderr"
        },
        {
          "output_type": "stream",
          "text": [
            "\n",
            "Epoch: 2 Train set: Average loss: 0.0020, Accuracy: 96.228%\n",
            "Epoch: 2 Test set: Average loss: 0.0494, Accuracy: 98.580%\n",
            "Epoch: 2 Optimizer values: LastLR:0.0250000000, Momentum: 0.9000000000, Weight Decay: 0.0000000000\n"
          ],
          "name": "stdout"
        },
        {
          "output_type": "stream",
          "text": [
            "loss=0.07832200080156326 batch_id=731: 100%|██████████| 732/732 [00:17<00:00, 42.91it/s]\n",
            "  0%|          | 0/732 [00:00<?, ?it/s]"
          ],
          "name": "stderr"
        },
        {
          "output_type": "stream",
          "text": [
            "\n",
            "Epoch: 3 Train set: Average loss: 0.0018, Accuracy: 96.930%\n",
            "Epoch: 3 Test set: Average loss: 0.0448, Accuracy: 98.580%\n",
            "Epoch: 3 Optimizer values: LastLR:0.0250000000, Momentum: 0.9000000000, Weight Decay: 0.0000000000\n"
          ],
          "name": "stdout"
        },
        {
          "output_type": "stream",
          "text": [
            "loss=0.10003060102462769 batch_id=731: 100%|██████████| 732/732 [00:17<00:00, 41.51it/s]\n",
            "  0%|          | 0/732 [00:00<?, ?it/s]"
          ],
          "name": "stderr"
        },
        {
          "output_type": "stream",
          "text": [
            "\n",
            "Epoch: 4 Train set: Average loss: 0.0016, Accuracy: 97.312%\n",
            "Epoch: 4 Test set: Average loss: 0.0356, Accuracy: 98.920%\n",
            "Epoch: 4 Optimizer values: LastLR:0.0250000000, Momentum: 0.9000000000, Weight Decay: 0.0000000000\n"
          ],
          "name": "stdout"
        },
        {
          "output_type": "stream",
          "text": [
            "loss=0.06974206119775772 batch_id=731: 100%|██████████| 732/732 [00:16<00:00, 43.50it/s]\n",
            "  0%|          | 0/732 [00:00<?, ?it/s]"
          ],
          "name": "stderr"
        },
        {
          "output_type": "stream",
          "text": [
            "\n",
            "Epoch: 5 Train set: Average loss: 0.0016, Accuracy: 97.438%\n",
            "Epoch: 5 Test set: Average loss: 0.0382, Accuracy: 98.990%\n",
            "Epoch: 5 Optimizer values: LastLR:0.0250000000, Momentum: 0.9000000000, Weight Decay: 0.0000000000\n"
          ],
          "name": "stdout"
        },
        {
          "output_type": "stream",
          "text": [
            "loss=0.11141474545001984 batch_id=731: 100%|██████████| 732/732 [00:18<00:00, 40.36it/s]\n",
            "  0%|          | 0/732 [00:00<?, ?it/s]"
          ],
          "name": "stderr"
        },
        {
          "output_type": "stream",
          "text": [
            "\n",
            "Epoch: 6 Train set: Average loss: 0.0015, Accuracy: 97.575%\n",
            "Epoch: 6 Test set: Average loss: 0.0322, Accuracy: 99.030%\n",
            "Epoch: 6 Optimizer values: LastLR:0.0250000000, Momentum: 0.9000000000, Weight Decay: 0.0000000000\n"
          ],
          "name": "stdout"
        },
        {
          "output_type": "stream",
          "text": [
            "loss=0.0634196400642395 batch_id=731: 100%|██████████| 732/732 [00:17<00:00, 42.85it/s]\n",
            "  0%|          | 0/732 [00:00<?, ?it/s]"
          ],
          "name": "stderr"
        },
        {
          "output_type": "stream",
          "text": [
            "\n",
            "Epoch: 7 Train set: Average loss: 0.0015, Accuracy: 97.648%\n",
            "Epoch: 7 Test set: Average loss: 0.0294, Accuracy: 99.180%\n",
            "Epoch: 7 Optimizer values: LastLR:0.0250000000, Momentum: 0.9000000000, Weight Decay: 0.0000000000\n"
          ],
          "name": "stdout"
        },
        {
          "output_type": "stream",
          "text": [
            "loss=0.08717168867588043 batch_id=731: 100%|██████████| 732/732 [00:17<00:00, 41.22it/s]\n",
            "  0%|          | 0/732 [00:00<?, ?it/s]"
          ],
          "name": "stderr"
        },
        {
          "output_type": "stream",
          "text": [
            "\n",
            "Epoch: 8 Train set: Average loss: 0.0015, Accuracy: 97.713%\n",
            "Epoch: 8 Test set: Average loss: 0.0344, Accuracy: 98.970%\n",
            "Epoch: 8 Optimizer values: LastLR:0.0250000000, Momentum: 0.9000000000, Weight Decay: 0.0000000000\n"
          ],
          "name": "stdout"
        },
        {
          "output_type": "stream",
          "text": [
            "loss=0.0998883992433548 batch_id=731: 100%|██████████| 732/732 [00:17<00:00, 40.77it/s]\n",
            "  0%|          | 0/732 [00:00<?, ?it/s]"
          ],
          "name": "stderr"
        },
        {
          "output_type": "stream",
          "text": [
            "\n",
            "Epoch: 9 Train set: Average loss: 0.0015, Accuracy: 97.822%\n",
            "Epoch: 9 Test set: Average loss: 0.0386, Accuracy: 98.960%\n",
            "Epoch: 9 Optimizer values: LastLR:0.0250000000, Momentum: 0.9000000000, Weight Decay: 0.0000000000\n"
          ],
          "name": "stdout"
        },
        {
          "output_type": "stream",
          "text": [
            "loss=0.12731008231639862 batch_id=731: 100%|██████████| 732/732 [00:18<00:00, 46.82it/s]\n",
            "  0%|          | 0/732 [00:00<?, ?it/s]"
          ],
          "name": "stderr"
        },
        {
          "output_type": "stream",
          "text": [
            "\n",
            "Epoch: 10 Train set: Average loss: 0.0013, Accuracy: 98.122%\n",
            "Epoch: 10 Test set: Average loss: 0.0263, Accuracy: 99.230%\n",
            "Epoch: 10 Optimizer values: LastLR:0.0125000000, Momentum: 0.9000000000, Weight Decay: 0.0000000000\n"
          ],
          "name": "stdout"
        },
        {
          "output_type": "stream",
          "text": [
            "loss=0.1445600837469101 batch_id=731: 100%|██████████| 732/732 [00:17<00:00, 41.29it/s]\n",
            "  0%|          | 0/732 [00:00<?, ?it/s]"
          ],
          "name": "stderr"
        },
        {
          "output_type": "stream",
          "text": [
            "\n",
            "Epoch: 11 Train set: Average loss: 0.0013, Accuracy: 98.172%\n",
            "Epoch: 11 Test set: Average loss: 0.0261, Accuracy: 99.200%\n",
            "Epoch: 11 Optimizer values: LastLR:0.0125000000, Momentum: 0.9000000000, Weight Decay: 0.0000000000\n"
          ],
          "name": "stdout"
        },
        {
          "output_type": "stream",
          "text": [
            "loss=0.13097569346427917 batch_id=731: 100%|██████████| 732/732 [00:18<00:00, 40.30it/s]\n",
            "  0%|          | 0/732 [00:00<?, ?it/s]"
          ],
          "name": "stderr"
        },
        {
          "output_type": "stream",
          "text": [
            "\n",
            "Epoch: 12 Train set: Average loss: 0.0012, Accuracy: 98.377%\n",
            "Epoch: 12 Test set: Average loss: 0.0259, Accuracy: 99.290%\n",
            "Epoch: 12 Optimizer values: LastLR:0.0062500000, Momentum: 0.9000000000, Weight Decay: 0.0000000000\n"
          ],
          "name": "stdout"
        },
        {
          "output_type": "stream",
          "text": [
            "loss=0.09704287350177765 batch_id=731: 100%|██████████| 732/732 [00:18<00:00, 39.37it/s]\n",
            "  0%|          | 0/732 [00:00<?, ?it/s]"
          ],
          "name": "stderr"
        },
        {
          "output_type": "stream",
          "text": [
            "\n",
            "Epoch: 13 Train set: Average loss: 0.0012, Accuracy: 98.440%\n",
            "Epoch: 13 Test set: Average loss: 0.0262, Accuracy: 99.230%\n",
            "Epoch: 13 Optimizer values: LastLR:0.0062500000, Momentum: 0.9000000000, Weight Decay: 0.0000000000\n"
          ],
          "name": "stdout"
        },
        {
          "output_type": "stream",
          "text": [
            "loss=0.059356339275836945 batch_id=731: 100%|██████████| 732/732 [00:17<00:00, 42.18it/s]\n",
            "  0%|          | 0/732 [00:00<?, ?it/s]"
          ],
          "name": "stderr"
        },
        {
          "output_type": "stream",
          "text": [
            "\n",
            "Epoch: 14 Train set: Average loss: 0.0012, Accuracy: 98.448%\n",
            "Epoch: 14 Test set: Average loss: 0.0233, Accuracy: 99.390%\n",
            "Epoch: 14 Optimizer values: LastLR:0.0031250000, Momentum: 0.9000000000, Weight Decay: 0.0000000000\n"
          ],
          "name": "stdout"
        },
        {
          "output_type": "stream",
          "text": [
            "loss=0.22771939635276794 batch_id=731: 100%|██████████| 732/732 [00:17<00:00, 41.61it/s]\n",
            "  0%|          | 0/732 [00:00<?, ?it/s]"
          ],
          "name": "stderr"
        },
        {
          "output_type": "stream",
          "text": [
            "\n",
            "Epoch: 15 Train set: Average loss: 0.0012, Accuracy: 98.525%\n",
            "Epoch: 15 Test set: Average loss: 0.0240, Accuracy: 99.380%\n",
            "Epoch: 15 Optimizer values: LastLR:0.0031250000, Momentum: 0.9000000000, Weight Decay: 0.0000000000\n"
          ],
          "name": "stdout"
        },
        {
          "output_type": "stream",
          "text": [
            "loss=0.11956187337636948 batch_id=731: 100%|██████████| 732/732 [00:17<00:00, 41.80it/s]\n",
            "  0%|          | 0/732 [00:00<?, ?it/s]"
          ],
          "name": "stderr"
        },
        {
          "output_type": "stream",
          "text": [
            "\n",
            "Epoch: 16 Train set: Average loss: 0.0011, Accuracy: 98.542%\n",
            "Epoch: 16 Test set: Average loss: 0.0238, Accuracy: 99.350%\n",
            "Epoch: 16 Optimizer values: LastLR:0.0015625000, Momentum: 0.9000000000, Weight Decay: 0.0000000000\n"
          ],
          "name": "stdout"
        },
        {
          "output_type": "stream",
          "text": [
            "loss=0.05824441462755203 batch_id=731: 100%|██████████| 732/732 [00:16<00:00, 43.92it/s]\n",
            "  0%|          | 0/732 [00:00<?, ?it/s]"
          ],
          "name": "stderr"
        },
        {
          "output_type": "stream",
          "text": [
            "\n",
            "Epoch: 17 Train set: Average loss: 0.0011, Accuracy: 98.543%\n",
            "Epoch: 17 Test set: Average loss: 0.0228, Accuracy: 99.360%\n",
            "Epoch: 17 Optimizer values: LastLR:0.0015625000, Momentum: 0.9000000000, Weight Decay: 0.0000000000\n"
          ],
          "name": "stdout"
        },
        {
          "output_type": "stream",
          "text": [
            "loss=0.10953427851200104 batch_id=731: 100%|██████████| 732/732 [00:16<00:00, 44.01it/s]\n",
            "  0%|          | 0/732 [00:00<?, ?it/s]"
          ],
          "name": "stderr"
        },
        {
          "output_type": "stream",
          "text": [
            "\n",
            "Epoch: 18 Train set: Average loss: 0.0011, Accuracy: 98.675%\n",
            "Epoch: 18 Test set: Average loss: 0.0220, Accuracy: 99.400%\n",
            "Epoch: 18 Optimizer values: LastLR:0.0007812500, Momentum: 0.9000000000, Weight Decay: 0.0000000000\n"
          ],
          "name": "stdout"
        },
        {
          "output_type": "stream",
          "text": [
            "loss=0.0638958066701889 batch_id=731: 100%|██████████| 732/732 [00:17<00:00, 41.44it/s]\n",
            "  0%|          | 0/732 [00:00<?, ?it/s]"
          ],
          "name": "stderr"
        },
        {
          "output_type": "stream",
          "text": [
            "\n",
            "Epoch: 19 Train set: Average loss: 0.0011, Accuracy: 98.548%\n",
            "Epoch: 19 Test set: Average loss: 0.0226, Accuracy: 99.370%\n",
            "Epoch: 19 Optimizer values: LastLR:0.0007812500, Momentum: 0.9000000000, Weight Decay: 0.0000000000\n"
          ],
          "name": "stdout"
        },
        {
          "output_type": "stream",
          "text": [
            "loss=0.07248398661613464 batch_id=731: 100%|██████████| 732/732 [00:17<00:00, 42.68it/s]\n",
            "  0%|          | 0/732 [00:00<?, ?it/s]"
          ],
          "name": "stderr"
        },
        {
          "output_type": "stream",
          "text": [
            "\n",
            "Epoch: 20 Train set: Average loss: 0.0011, Accuracy: 98.587%\n",
            "Epoch: 20 Test set: Average loss: 0.0227, Accuracy: 99.350%\n",
            "Epoch: 20 Optimizer values: LastLR:0.0003906250, Momentum: 0.9000000000, Weight Decay: 0.0000000000\n"
          ],
          "name": "stdout"
        },
        {
          "output_type": "stream",
          "text": [
            "loss=0.04647257551550865 batch_id=731: 100%|██████████| 732/732 [00:16<00:00, 43.28it/s]\n",
            "  0%|          | 0/732 [00:00<?, ?it/s]"
          ],
          "name": "stderr"
        },
        {
          "output_type": "stream",
          "text": [
            "\n",
            "Epoch: 21 Train set: Average loss: 0.0011, Accuracy: 98.620%\n",
            "Epoch: 21 Test set: Average loss: 0.0224, Accuracy: 99.390%\n",
            "Epoch: 21 Optimizer values: LastLR:0.0003906250, Momentum: 0.9000000000, Weight Decay: 0.0000000000\n"
          ],
          "name": "stdout"
        },
        {
          "output_type": "stream",
          "text": [
            "loss=0.24221551418304443 batch_id=731: 100%|██████████| 732/732 [00:17<00:00, 41.57it/s]\n",
            "  0%|          | 0/732 [00:00<?, ?it/s]"
          ],
          "name": "stderr"
        },
        {
          "output_type": "stream",
          "text": [
            "\n",
            "Epoch: 22 Train set: Average loss: 0.0011, Accuracy: 98.677%\n",
            "Epoch: 22 Test set: Average loss: 0.0229, Accuracy: 99.370%\n",
            "Epoch: 22 Optimizer values: LastLR:0.0001953125, Momentum: 0.9000000000, Weight Decay: 0.0000000000\n"
          ],
          "name": "stdout"
        },
        {
          "output_type": "stream",
          "text": [
            "loss=0.04522218555212021 batch_id=731: 100%|██████████| 732/732 [00:16<00:00, 43.80it/s]\n",
            "  0%|          | 0/732 [00:00<?, ?it/s]"
          ],
          "name": "stderr"
        },
        {
          "output_type": "stream",
          "text": [
            "\n",
            "Epoch: 23 Train set: Average loss: 0.0011, Accuracy: 98.572%\n",
            "Epoch: 23 Test set: Average loss: 0.0223, Accuracy: 99.390%\n",
            "Epoch: 23 Optimizer values: LastLR:0.0001953125, Momentum: 0.9000000000, Weight Decay: 0.0000000000\n"
          ],
          "name": "stdout"
        },
        {
          "output_type": "stream",
          "text": [
            "loss=0.0511912927031517 batch_id=731: 100%|██████████| 732/732 [00:16<00:00, 43.73it/s]\n",
            "  0%|          | 0/732 [00:00<?, ?it/s]"
          ],
          "name": "stderr"
        },
        {
          "output_type": "stream",
          "text": [
            "\n",
            "Epoch: 24 Train set: Average loss: 0.0011, Accuracy: 98.630%\n",
            "Epoch: 24 Test set: Average loss: 0.0226, Accuracy: 99.390%\n",
            "Epoch: 24 Optimizer values: LastLR:0.0000976563, Momentum: 0.9000000000, Weight Decay: 0.0000000000\n"
          ],
          "name": "stdout"
        },
        {
          "output_type": "stream",
          "text": [
            "loss=0.04772243648767471 batch_id=731: 100%|██████████| 732/732 [00:17<00:00, 42.29it/s]\n",
            "  0%|          | 0/732 [00:00<?, ?it/s]"
          ],
          "name": "stderr"
        },
        {
          "output_type": "stream",
          "text": [
            "\n",
            "Epoch: 25 Train set: Average loss: 0.0011, Accuracy: 98.560%\n",
            "Epoch: 25 Test set: Average loss: 0.0230, Accuracy: 99.370%\n",
            "Epoch: 25 Optimizer values: LastLR:0.0000976563, Momentum: 0.9000000000, Weight Decay: 0.0000000000\n"
          ],
          "name": "stdout"
        },
        {
          "output_type": "stream",
          "text": [
            "loss=0.1383059024810791 batch_id=731: 100%|██████████| 732/732 [00:17<00:00, 42.51it/s]\n",
            "  0%|          | 0/732 [00:00<?, ?it/s]"
          ],
          "name": "stderr"
        },
        {
          "output_type": "stream",
          "text": [
            "\n",
            "Epoch: 26 Train set: Average loss: 0.0011, Accuracy: 98.628%\n",
            "Epoch: 26 Test set: Average loss: 0.0228, Accuracy: 99.390%\n",
            "Epoch: 26 Optimizer values: LastLR:0.0000488281, Momentum: 0.9000000000, Weight Decay: 0.0000000000\n"
          ],
          "name": "stdout"
        },
        {
          "output_type": "stream",
          "text": [
            "loss=0.07448594272136688 batch_id=731: 100%|██████████| 732/732 [00:16<00:00, 44.14it/s]\n",
            "  0%|          | 0/732 [00:00<?, ?it/s]"
          ],
          "name": "stderr"
        },
        {
          "output_type": "stream",
          "text": [
            "\n",
            "Epoch: 27 Train set: Average loss: 0.0011, Accuracy: 98.617%\n",
            "Epoch: 27 Test set: Average loss: 0.0228, Accuracy: 99.390%\n",
            "Epoch: 27 Optimizer values: LastLR:0.0000488281, Momentum: 0.9000000000, Weight Decay: 0.0000000000\n"
          ],
          "name": "stdout"
        },
        {
          "output_type": "stream",
          "text": [
            "loss=0.07190422713756561 batch_id=731: 100%|██████████| 732/732 [00:16<00:00, 43.89it/s]\n",
            "  0%|          | 0/732 [00:00<?, ?it/s]"
          ],
          "name": "stderr"
        },
        {
          "output_type": "stream",
          "text": [
            "\n",
            "Epoch: 28 Train set: Average loss: 0.0011, Accuracy: 98.623%\n",
            "Epoch: 28 Test set: Average loss: 0.0230, Accuracy: 99.350%\n",
            "Epoch: 28 Optimizer values: LastLR:0.0000244141, Momentum: 0.9000000000, Weight Decay: 0.0000000000\n"
          ],
          "name": "stdout"
        },
        {
          "output_type": "stream",
          "text": [
            "loss=0.09537956118583679 batch_id=731: 100%|██████████| 732/732 [00:16<00:00, 54.08it/s]\n",
            "  0%|          | 0/732 [00:00<?, ?it/s]"
          ],
          "name": "stderr"
        },
        {
          "output_type": "stream",
          "text": [
            "\n",
            "Epoch: 29 Train set: Average loss: 0.0011, Accuracy: 98.633%\n",
            "Epoch: 29 Test set: Average loss: 0.0226, Accuracy: 99.360%\n",
            "Epoch: 29 Optimizer values: LastLR:0.0000244141, Momentum: 0.9000000000, Weight Decay: 0.0000000000\n"
          ],
          "name": "stdout"
        },
        {
          "output_type": "stream",
          "text": [
            "loss=0.055475227534770966 batch_id=731: 100%|██████████| 732/732 [00:16<00:00, 44.09it/s]\n",
            "  0%|          | 0/732 [00:00<?, ?it/s]"
          ],
          "name": "stderr"
        },
        {
          "output_type": "stream",
          "text": [
            "\n",
            "Epoch: 30 Train set: Average loss: 0.0011, Accuracy: 98.577%\n",
            "Epoch: 30 Test set: Average loss: 0.0228, Accuracy: 99.370%\n",
            "Epoch: 30 Optimizer values: LastLR:0.0000122070, Momentum: 0.9000000000, Weight Decay: 0.0000000000\n"
          ],
          "name": "stdout"
        },
        {
          "output_type": "stream",
          "text": [
            "loss=0.17373478412628174 batch_id=731: 100%|██████████| 732/732 [00:16<00:00, 44.30it/s]\n",
            "  0%|          | 0/732 [00:00<?, ?it/s]"
          ],
          "name": "stderr"
        },
        {
          "output_type": "stream",
          "text": [
            "\n",
            "Epoch: 31 Train set: Average loss: 0.0011, Accuracy: 98.608%\n",
            "Epoch: 31 Test set: Average loss: 0.0223, Accuracy: 99.410%\n",
            "Epoch: 31 Optimizer values: LastLR:0.0000122070, Momentum: 0.9000000000, Weight Decay: 0.0000000000\n"
          ],
          "name": "stdout"
        },
        {
          "output_type": "stream",
          "text": [
            "loss=0.0859421119093895 batch_id=731: 100%|██████████| 732/732 [00:17<00:00, 42.74it/s]\n",
            "  0%|          | 0/732 [00:00<?, ?it/s]"
          ],
          "name": "stderr"
        },
        {
          "output_type": "stream",
          "text": [
            "\n",
            "Epoch: 32 Train set: Average loss: 0.0011, Accuracy: 98.647%\n",
            "Epoch: 32 Test set: Average loss: 0.0231, Accuracy: 99.360%\n",
            "Epoch: 32 Optimizer values: LastLR:0.0000061035, Momentum: 0.9000000000, Weight Decay: 0.0000000000\n"
          ],
          "name": "stdout"
        },
        {
          "output_type": "stream",
          "text": [
            "loss=0.16771185398101807 batch_id=731: 100%|██████████| 732/732 [00:16<00:00, 44.68it/s]\n",
            "  0%|          | 0/732 [00:00<?, ?it/s]"
          ],
          "name": "stderr"
        },
        {
          "output_type": "stream",
          "text": [
            "\n",
            "Epoch: 33 Train set: Average loss: 0.0011, Accuracy: 98.685%\n",
            "Epoch: 33 Test set: Average loss: 0.0226, Accuracy: 99.390%\n",
            "Epoch: 33 Optimizer values: LastLR:0.0000061035, Momentum: 0.9000000000, Weight Decay: 0.0000000000\n"
          ],
          "name": "stdout"
        },
        {
          "output_type": "stream",
          "text": [
            "loss=0.08776434510946274 batch_id=731: 100%|██████████| 732/732 [00:16<00:00, 44.84it/s]\n",
            "  0%|          | 0/732 [00:00<?, ?it/s]"
          ],
          "name": "stderr"
        },
        {
          "output_type": "stream",
          "text": [
            "\n",
            "Epoch: 34 Train set: Average loss: 0.0011, Accuracy: 98.617%\n",
            "Epoch: 34 Test set: Average loss: 0.0228, Accuracy: 99.390%\n",
            "Epoch: 34 Optimizer values: LastLR:0.0000030518, Momentum: 0.9000000000, Weight Decay: 0.0000000000\n"
          ],
          "name": "stdout"
        },
        {
          "output_type": "stream",
          "text": [
            "loss=0.11536610126495361 batch_id=731: 100%|██████████| 732/732 [00:17<00:00, 42.88it/s]\n",
            "  0%|          | 0/732 [00:00<?, ?it/s]"
          ],
          "name": "stderr"
        },
        {
          "output_type": "stream",
          "text": [
            "\n",
            "Epoch: 35 Train set: Average loss: 0.0011, Accuracy: 98.658%\n",
            "Epoch: 35 Test set: Average loss: 0.0225, Accuracy: 99.400%\n",
            "Epoch: 35 Optimizer values: LastLR:0.0000030518, Momentum: 0.9000000000, Weight Decay: 0.0000000000\n"
          ],
          "name": "stdout"
        },
        {
          "output_type": "stream",
          "text": [
            "loss=0.07466821372509003 batch_id=731: 100%|██████████| 732/732 [00:16<00:00, 43.87it/s]\n",
            "  0%|          | 0/732 [00:00<?, ?it/s]"
          ],
          "name": "stderr"
        },
        {
          "output_type": "stream",
          "text": [
            "\n",
            "Epoch: 36 Train set: Average loss: 0.0011, Accuracy: 98.490%\n",
            "Epoch: 36 Test set: Average loss: 0.0224, Accuracy: 99.380%\n",
            "Epoch: 36 Optimizer values: LastLR:0.0000015259, Momentum: 0.9000000000, Weight Decay: 0.0000000000\n"
          ],
          "name": "stdout"
        },
        {
          "output_type": "stream",
          "text": [
            "loss=0.10021096467971802 batch_id=731: 100%|██████████| 732/732 [00:16<00:00, 43.28it/s]\n",
            "  0%|          | 0/732 [00:00<?, ?it/s]"
          ],
          "name": "stderr"
        },
        {
          "output_type": "stream",
          "text": [
            "\n",
            "Epoch: 37 Train set: Average loss: 0.0011, Accuracy: 98.707%\n",
            "Epoch: 37 Test set: Average loss: 0.0228, Accuracy: 99.360%\n",
            "Epoch: 37 Optimizer values: LastLR:0.0000015259, Momentum: 0.9000000000, Weight Decay: 0.0000000000\n"
          ],
          "name": "stdout"
        },
        {
          "output_type": "stream",
          "text": [
            "loss=0.06378737092018127 batch_id=731: 100%|██████████| 732/732 [00:17<00:00, 42.25it/s]\n",
            "  0%|          | 0/732 [00:00<?, ?it/s]"
          ],
          "name": "stderr"
        },
        {
          "output_type": "stream",
          "text": [
            "\n",
            "Epoch: 38 Train set: Average loss: 0.0011, Accuracy: 98.613%\n",
            "Epoch: 38 Test set: Average loss: 0.0233, Accuracy: 99.350%\n",
            "Epoch: 38 Optimizer values: LastLR:0.0000007629, Momentum: 0.9000000000, Weight Decay: 0.0000000000\n"
          ],
          "name": "stdout"
        },
        {
          "output_type": "stream",
          "text": [
            "loss=0.05569567158818245 batch_id=731: 100%|██████████| 732/732 [00:16<00:00, 44.32it/s]\n",
            "  0%|          | 0/732 [00:00<?, ?it/s]"
          ],
          "name": "stderr"
        },
        {
          "output_type": "stream",
          "text": [
            "\n",
            "Epoch: 39 Train set: Average loss: 0.0011, Accuracy: 98.618%\n",
            "Epoch: 39 Test set: Average loss: 0.0235, Accuracy: 99.360%\n",
            "Epoch: 39 Optimizer values: LastLR:0.0000007629, Momentum: 0.9000000000, Weight Decay: 0.0000000000\n"
          ],
          "name": "stdout"
        },
        {
          "output_type": "stream",
          "text": [
            "loss=0.07326136529445648 batch_id=731: 100%|██████████| 732/732 [00:16<00:00, 43.71it/s]\n"
          ],
          "name": "stderr"
        },
        {
          "output_type": "stream",
          "text": [
            "\n",
            "Epoch: 40 Train set: Average loss: 0.0011, Accuracy: 98.610%\n",
            "Epoch: 40 Test set: Average loss: 0.0232, Accuracy: 99.370%\n",
            "Epoch: 40 Optimizer values: LastLR:0.0000003815, Momentum: 0.9000000000, Weight Decay: 0.0000000000\n"
          ],
          "name": "stdout"
        }
      ]
    },
    {
      "cell_type": "markdown",
      "metadata": {
        "colab_type": "text",
        "id": "EFlITWtws-cK"
      },
      "source": [
        "#### L1 + L2 + Base Model with 40 Epochs\n",
        "#### Model-Path: /content/drive/My Drive/EVA4/baseline_models/model-20e4e3377f_baseline_l1l2.h5"
      ]
    },
    {
      "cell_type": "code",
      "metadata": {
        "colab_type": "code",
        "outputId": "40f7867e-a0e8-44d9-dd01-171030fcc0d9",
        "id": "a00ShmUGNW6D",
        "colab": {
          "base_uri": "https://localhost:8080/",
          "height": 1000
        }
      },
      "source": [
        "#model = MNISTDigitBuilder(start_channels=16,exponetate_layers=False).to(device)\n",
        "#wandb.init(project=\"news4eva4\")\n",
        "from torch.optim.lr_scheduler import StepLR, OneCycleLR, MultiStepLR\n",
        "import os\n",
        "hyperparameter_defaults = dict(\n",
        "    run_name = rand_run_name(),\n",
        "    dropout = 0.1,#0.07114420042272313,\n",
        "    batch_size = 82,\n",
        "    test_batch_size=34,\n",
        "    lr = 0.025, #0.00625, #0.042259475404268484, #0.032877745711371975, #0.007, #0.030455453938066226, #0.018,# 0.017530428914306426,\n",
        "    momentum = 0.9, #0.6635974310124919, #0.824176605049245, #0.95, #0.8424379743502641,\n",
        "    no_cuda = False,\n",
        "    seed = 1,\n",
        "    epochs = 40,\n",
        "    bias = False,\n",
        "    sched_lr_gamma = 0.5, #0.7836943786449023, #0.271611419527123, #0.99,\n",
        "    sched_lr_step= 2,\n",
        "    start_lr = 7,\n",
        "    weight_decay=0.0006905824115205087, #5.740256897290758e-05, #1.8540436495464775e-06\n",
        "    use_l1_loss = True,\n",
        "    l1_decay = 0.00005\n",
        "    )\n",
        "\n",
        "classes = ('0', '1', '2', '3', '4', '5', '6', '7', '8', '9')\n",
        "# train_losses = []\n",
        "# test_losses = []\n",
        "# train_acc = []\n",
        "# test_acc = []\n",
        "\n",
        "wandb.init(config=hyperparameter_defaults, project=\"news4eva4\")\n",
        "wandb.watch_called = False # Re-run the model without restarting the runtime, unnecessary after our next release\n",
        "config = wandb.config\n",
        "model_path = generate_model_save_path(rand_string=config.run_name)\n",
        "print(\"Model will be saved to:\", model_path)\n",
        "prev_saved_model = \"/content/drive/My Drive/EVA4/model_saves/model-14ba52d1d9.h5\"\n",
        "#\"/content/drive/My Drive/EVA4/baseline_models/model-1b795c6652.h5\"\n",
        "\n",
        "def main():\n",
        "    use_cuda = not config.no_cuda and torch.cuda.is_available()\n",
        "    device = torch.device(\"cuda\" if use_cuda else \"cpu\")\n",
        "    kwargs = {'num_workers': 4, 'pin_memory': True} if use_cuda else {}\n",
        "    \n",
        "    # Set random seeds and deterministic pytorch for reproducibility\n",
        "    # random.seed(config.seed)       # python random seed\n",
        "    torch.manual_seed(config.seed) # pytorch random seed\n",
        "    # numpy.random.seed(config.seed) # numpy random seed\n",
        "    torch.backends.cudnn.deterministic = True\n",
        "\n",
        "    # Load the dataset: We're training our CNN on CIFAR10 (https://www.cs.toronto.edu/~kriz/cifar.html)\n",
        "    # First we define the tranformations to apply to our images\n",
        "    #kwargs = {'num_workers': 4, 'pin_memory': True} if use_cuda else {}\n",
        "    train_loader = torch.utils.data.DataLoader(\n",
        "        datasets.MNIST('../data', train=True, download=True,\n",
        "                        transform=train_transforms),\n",
        "        batch_size=config.batch_size, shuffle=True, **kwargs)\n",
        "    test_loader = torch.utils.data.DataLoader(\n",
        "        datasets.MNIST('../data', train=False, transform=test_transforms),\n",
        "        batch_size=config.batch_size, shuffle=True, **kwargs)\n",
        "\n",
        "    # Initialize our model, recursively go over all modules and convert their parameters and buffers to CUDA tensors (if device is set to cuda)\n",
        "    # model = model_builder(MNISTDigitBuilder, \n",
        "    #                   weights_path=prev_saved_model,\n",
        "    #                   local_device=device)\n",
        "    \n",
        "    model = MNISTDigitBuilder(dropout=config.dropout).to(device)\n",
        "    #model.load_state_dict(torch.load(prev_saved_model, map_location=device))\n",
        "\n",
        "    optimizer = optim.SGD(model.parameters(), lr=config.lr,\n",
        "                          momentum=config.momentum, weight_decay=config.weight_decay)\n",
        "    \n",
        "    scheduler = StepLR(optimizer, step_size=config.sched_lr_step, gamma=config.sched_lr_gamma)\n",
        "    #scheduler = torch.optim.lr_scheduler.OneCycleLR(optimizer, max_lr=config.lr, steps_per_epoch=len(train_loader), epochs=config.epochs)\n",
        "    #scheduler = MultiStepLR(optimizer, milestones=[10,20], gamma=config.sched_lr_gamma)\n",
        "    # WandB – wandb.watch() automatically fetches all layer dimensions, gradients, model parameters and logs them automatically to your dashboard.\n",
        "    # Using log=\"all\" log histograms of parameter values in addition to gradients\n",
        "    wandb.watch(model, log=\"all\")\n",
        "\n",
        "    for epoch in range(1, config.epochs + 1):\n",
        "        epoch_train_acc,epoch_train_loss = train(config, model, device, train_loader, optimizer, epoch, l1_loss = config.use_l1_loss, l1_beta=config.l1_decay)        \n",
        "        epoch_test_acc,epoch_test_loss = test(config, model, device, test_loader, classes,epoch)\n",
        "\n",
        "        #epoch_stats\n",
        "        \n",
        "        print('\\nEpoch: {:.0f} Train set: Average loss: {:.4f}, Accuracy: {:.3f}%'.format(\n",
        "        epoch, epoch_train_loss, epoch_train_acc))\n",
        "        print('Epoch: {:.0f} Test set: Average loss: {:.4f}, Accuracy: {:.3f}%'.format(\n",
        "        epoch, epoch_test_loss, epoch_test_acc))\n",
        "        myoptim = optimizer.state_dict()['param_groups'][0]\n",
        "        #print('Epoch: {:.0f} Optimizer values: LR: {:.10f}, LastLR:{:.10f}, Momentum: {:.10f}, Weight Decay: {:.10f}'.format(\n",
        "        #epoch, scheduler.get_lr()[0],scheduler.get_last_lr()[0],myoptim['momentum'],myoptim['weight_decay']))\n",
        "\n",
        "        print('Epoch: {:.0f} Optimizer values: LastLR:{:.10f}, Momentum: {:.10f}, Weight Decay: {:.10f}'.format(\n",
        "        epoch, scheduler.get_last_lr()[0],myoptim['momentum'],myoptim['weight_decay']))\n",
        "\n",
        "        #stats_logger(global_stats_array, 1,0.1,99.0,0.1,98.0,0.001,0.78,0.00001)\n",
        "        \n",
        "        wandb.log({ \"Train Accuracy\": epoch_train_acc, \n",
        "                   \"Train Loss\": epoch_train_loss, \n",
        "                   \"Test Accuracy\":epoch_test_acc, \n",
        "                   \"Test Loss\": epoch_test_loss,\n",
        "                   \"Learning Rate\": config.lr})\n",
        "                   #\"Learning Rate\": scheduler.get_lr()})\n",
        "        if (epoch > config.start_lr):\n",
        "            scheduler.step()\n",
        "        \n",
        "    # WandB – Save the model checkpoint. This automatically saves a file to the cloud and associates it with the current run.\n",
        "\n",
        "    torch.save({\n",
        "            'model_state_dict': model.state_dict(),\n",
        "            'optimizer_state_dict': optimizer.state_dict()\n",
        "            }, model_path)\n",
        "    wandb.save('model.h5')\n",
        "\n",
        "if __name__ == '__main__':\n",
        "    main()"
      ],
      "execution_count": 0,
      "outputs": [
        {
          "output_type": "display_data",
          "data": {
            "text/html": [
              "\n",
              "                Logging results to <a href=\"https://wandb.com\" target=\"_blank\">Weights & Biases</a> <a href=\"https://docs.wandb.com/integrations/jupyter.html\" target=\"_blank\">(Documentation)</a>.<br/>\n",
              "                Project page: <a href=\"https://app.wandb.ai/rajy4683/news4eva4\" target=\"_blank\">https://app.wandb.ai/rajy4683/news4eva4</a><br/>\n",
              "                Run page: <a href=\"https://app.wandb.ai/rajy4683/news4eva4/runs/fh5dymm3\" target=\"_blank\">https://app.wandb.ai/rajy4683/news4eva4/runs/fh5dymm3</a><br/>\n",
              "            "
            ],
            "text/plain": [
              "<IPython.core.display.HTML object>"
            ]
          },
          "metadata": {
            "tags": []
          }
        },
        {
          "output_type": "stream",
          "text": [
            "\r  0%|          | 0/732 [00:00<?, ?it/s]"
          ],
          "name": "stderr"
        },
        {
          "output_type": "stream",
          "text": [
            "Model will be saved to: /content/drive/My Drive/EVA4/model_saves/model-20e4e3377f.h5\n"
          ],
          "name": "stdout"
        },
        {
          "output_type": "stream",
          "text": [
            "/usr/local/lib/python3.6/dist-packages/torch/nn/_reduction.py:43: UserWarning: size_average and reduce args will be deprecated, please use reduction='sum' instead.\n",
            "  warnings.warn(warning.format(ret))\n",
            "loss=0.21486277878284454 batch_id=731: 100%|██████████| 732/732 [00:16<00:00, 43.82it/s]\n",
            "  0%|          | 0/732 [00:00<?, ?it/s]"
          ],
          "name": "stderr"
        },
        {
          "output_type": "stream",
          "text": [
            "\n",
            "Epoch: 1 Train set: Average loss: 0.0042, Accuracy: 90.350%\n",
            "Epoch: 1 Test set: Average loss: 0.0823, Accuracy: 97.510%\n",
            "Epoch: 1 Optimizer values: LastLR:0.0250000000, Momentum: 0.9000000000, Weight Decay: 0.0006905824\n"
          ],
          "name": "stdout"
        },
        {
          "output_type": "stream",
          "text": [
            "loss=0.16743330657482147 batch_id=731: 100%|██████████| 732/732 [00:16<00:00, 43.79it/s]\n",
            "  0%|          | 0/732 [00:00<?, ?it/s]"
          ],
          "name": "stderr"
        },
        {
          "output_type": "stream",
          "text": [
            "\n",
            "Epoch: 2 Train set: Average loss: 0.0020, Accuracy: 96.153%\n",
            "Epoch: 2 Test set: Average loss: 0.0527, Accuracy: 98.380%\n",
            "Epoch: 2 Optimizer values: LastLR:0.0250000000, Momentum: 0.9000000000, Weight Decay: 0.0006905824\n"
          ],
          "name": "stdout"
        },
        {
          "output_type": "stream",
          "text": [
            "loss=0.10550695657730103 batch_id=731: 100%|██████████| 732/732 [00:17<00:00, 41.72it/s]\n",
            "  0%|          | 0/732 [00:00<?, ?it/s]"
          ],
          "name": "stderr"
        },
        {
          "output_type": "stream",
          "text": [
            "\n",
            "Epoch: 3 Train set: Average loss: 0.0017, Accuracy: 96.807%\n",
            "Epoch: 3 Test set: Average loss: 0.0467, Accuracy: 98.580%\n",
            "Epoch: 3 Optimizer values: LastLR:0.0250000000, Momentum: 0.9000000000, Weight Decay: 0.0006905824\n"
          ],
          "name": "stdout"
        },
        {
          "output_type": "stream",
          "text": [
            "loss=0.14025261998176575 batch_id=731: 100%|██████████| 732/732 [00:16<00:00, 43.41it/s]\n",
            "  0%|          | 0/732 [00:00<?, ?it/s]"
          ],
          "name": "stderr"
        },
        {
          "output_type": "stream",
          "text": [
            "\n",
            "Epoch: 4 Train set: Average loss: 0.0016, Accuracy: 97.030%\n",
            "Epoch: 4 Test set: Average loss: 0.0399, Accuracy: 98.860%\n",
            "Epoch: 4 Optimizer values: LastLR:0.0250000000, Momentum: 0.9000000000, Weight Decay: 0.0006905824\n"
          ],
          "name": "stdout"
        },
        {
          "output_type": "stream",
          "text": [
            "loss=0.08045652508735657 batch_id=731: 100%|██████████| 732/732 [00:16<00:00, 49.23it/s]\n",
            "  0%|          | 0/732 [00:00<?, ?it/s]"
          ],
          "name": "stderr"
        },
        {
          "output_type": "stream",
          "text": [
            "\n",
            "Epoch: 5 Train set: Average loss: 0.0015, Accuracy: 97.203%\n",
            "Epoch: 5 Test set: Average loss: 0.0367, Accuracy: 98.910%\n",
            "Epoch: 5 Optimizer values: LastLR:0.0250000000, Momentum: 0.9000000000, Weight Decay: 0.0006905824\n"
          ],
          "name": "stdout"
        },
        {
          "output_type": "stream",
          "text": [
            "loss=0.11077607423067093 batch_id=731: 100%|██████████| 732/732 [00:17<00:00, 41.58it/s]\n",
            "  0%|          | 0/732 [00:00<?, ?it/s]"
          ],
          "name": "stderr"
        },
        {
          "output_type": "stream",
          "text": [
            "\n",
            "Epoch: 6 Train set: Average loss: 0.0015, Accuracy: 97.260%\n",
            "Epoch: 6 Test set: Average loss: 0.0389, Accuracy: 98.820%\n",
            "Epoch: 6 Optimizer values: LastLR:0.0250000000, Momentum: 0.9000000000, Weight Decay: 0.0006905824\n"
          ],
          "name": "stdout"
        },
        {
          "output_type": "stream",
          "text": [
            "loss=0.052068956196308136 batch_id=731: 100%|██████████| 732/732 [00:16<00:00, 43.79it/s]\n",
            "  0%|          | 0/732 [00:00<?, ?it/s]"
          ],
          "name": "stderr"
        },
        {
          "output_type": "stream",
          "text": [
            "\n",
            "Epoch: 7 Train set: Average loss: 0.0015, Accuracy: 97.342%\n",
            "Epoch: 7 Test set: Average loss: 0.0377, Accuracy: 98.900%\n",
            "Epoch: 7 Optimizer values: LastLR:0.0250000000, Momentum: 0.9000000000, Weight Decay: 0.0006905824\n"
          ],
          "name": "stdout"
        },
        {
          "output_type": "stream",
          "text": [
            "loss=0.1218172162771225 batch_id=731: 100%|██████████| 732/732 [00:16<00:00, 44.20it/s]\n",
            "  0%|          | 0/732 [00:00<?, ?it/s]"
          ],
          "name": "stderr"
        },
        {
          "output_type": "stream",
          "text": [
            "\n",
            "Epoch: 8 Train set: Average loss: 0.0015, Accuracy: 97.357%\n",
            "Epoch: 8 Test set: Average loss: 0.0470, Accuracy: 98.570%\n",
            "Epoch: 8 Optimizer values: LastLR:0.0250000000, Momentum: 0.9000000000, Weight Decay: 0.0006905824\n"
          ],
          "name": "stdout"
        },
        {
          "output_type": "stream",
          "text": [
            "loss=0.09809538722038269 batch_id=731: 100%|██████████| 732/732 [00:17<00:00, 42.65it/s]\n",
            "  0%|          | 0/732 [00:00<?, ?it/s]"
          ],
          "name": "stderr"
        },
        {
          "output_type": "stream",
          "text": [
            "\n",
            "Epoch: 9 Train set: Average loss: 0.0015, Accuracy: 97.388%\n",
            "Epoch: 9 Test set: Average loss: 0.0422, Accuracy: 98.690%\n",
            "Epoch: 9 Optimizer values: LastLR:0.0250000000, Momentum: 0.9000000000, Weight Decay: 0.0006905824\n"
          ],
          "name": "stdout"
        },
        {
          "output_type": "stream",
          "text": [
            "loss=0.079933300614357 batch_id=731: 100%|██████████| 732/732 [00:16<00:00, 43.30it/s]\n",
            "  0%|          | 0/732 [00:00<?, ?it/s]"
          ],
          "name": "stderr"
        },
        {
          "output_type": "stream",
          "text": [
            "\n",
            "Epoch: 10 Train set: Average loss: 0.0013, Accuracy: 97.888%\n",
            "Epoch: 10 Test set: Average loss: 0.0283, Accuracy: 99.080%\n",
            "Epoch: 10 Optimizer values: LastLR:0.0125000000, Momentum: 0.9000000000, Weight Decay: 0.0006905824\n"
          ],
          "name": "stdout"
        },
        {
          "output_type": "stream",
          "text": [
            "loss=0.09407961368560791 batch_id=731: 100%|██████████| 732/732 [00:17<00:00, 42.32it/s]\n",
            "  0%|          | 0/732 [00:00<?, ?it/s]"
          ],
          "name": "stderr"
        },
        {
          "output_type": "stream",
          "text": [
            "\n",
            "Epoch: 11 Train set: Average loss: 0.0012, Accuracy: 97.970%\n",
            "Epoch: 11 Test set: Average loss: 0.0369, Accuracy: 98.770%\n",
            "Epoch: 11 Optimizer values: LastLR:0.0125000000, Momentum: 0.9000000000, Weight Decay: 0.0006905824\n"
          ],
          "name": "stdout"
        },
        {
          "output_type": "stream",
          "text": [
            "loss=0.05824456736445427 batch_id=731: 100%|██████████| 732/732 [00:17<00:00, 40.98it/s]\n",
            "  0%|          | 0/732 [00:00<?, ?it/s]"
          ],
          "name": "stderr"
        },
        {
          "output_type": "stream",
          "text": [
            "\n",
            "Epoch: 12 Train set: Average loss: 0.0011, Accuracy: 98.205%\n",
            "Epoch: 12 Test set: Average loss: 0.0256, Accuracy: 99.190%\n",
            "Epoch: 12 Optimizer values: LastLR:0.0062500000, Momentum: 0.9000000000, Weight Decay: 0.0006905824\n"
          ],
          "name": "stdout"
        },
        {
          "output_type": "stream",
          "text": [
            "loss=0.11556597054004669 batch_id=731: 100%|██████████| 732/732 [00:16<00:00, 43.50it/s]\n",
            "  0%|          | 0/732 [00:00<?, ?it/s]"
          ],
          "name": "stderr"
        },
        {
          "output_type": "stream",
          "text": [
            "\n",
            "Epoch: 13 Train set: Average loss: 0.0011, Accuracy: 98.308%\n",
            "Epoch: 13 Test set: Average loss: 0.0249, Accuracy: 99.230%\n",
            "Epoch: 13 Optimizer values: LastLR:0.0062500000, Momentum: 0.9000000000, Weight Decay: 0.0006905824\n"
          ],
          "name": "stdout"
        },
        {
          "output_type": "stream",
          "text": [
            "loss=0.03842206299304962 batch_id=731: 100%|██████████| 732/732 [00:17<00:00, 42.45it/s]\n",
            "  0%|          | 0/732 [00:00<?, ?it/s]"
          ],
          "name": "stderr"
        },
        {
          "output_type": "stream",
          "text": [
            "\n",
            "Epoch: 14 Train set: Average loss: 0.0010, Accuracy: 98.482%\n",
            "Epoch: 14 Test set: Average loss: 0.0210, Accuracy: 99.390%\n",
            "Epoch: 14 Optimizer values: LastLR:0.0031250000, Momentum: 0.9000000000, Weight Decay: 0.0006905824\n"
          ],
          "name": "stdout"
        },
        {
          "output_type": "stream",
          "text": [
            "loss=0.1638377159833908 batch_id=731: 100%|██████████| 732/732 [00:17<00:00, 41.20it/s]\n",
            "  0%|          | 0/732 [00:00<?, ?it/s]"
          ],
          "name": "stderr"
        },
        {
          "output_type": "stream",
          "text": [
            "\n",
            "Epoch: 15 Train set: Average loss: 0.0010, Accuracy: 98.425%\n",
            "Epoch: 15 Test set: Average loss: 0.0213, Accuracy: 99.350%\n",
            "Epoch: 15 Optimizer values: LastLR:0.0031250000, Momentum: 0.9000000000, Weight Decay: 0.0006905824\n"
          ],
          "name": "stdout"
        },
        {
          "output_type": "stream",
          "text": [
            "loss=0.07531145960092545 batch_id=731: 100%|██████████| 732/732 [00:17<00:00, 42.29it/s]\n",
            "  0%|          | 0/732 [00:00<?, ?it/s]"
          ],
          "name": "stderr"
        },
        {
          "output_type": "stream",
          "text": [
            "\n",
            "Epoch: 16 Train set: Average loss: 0.0009, Accuracy: 98.552%\n",
            "Epoch: 16 Test set: Average loss: 0.0226, Accuracy: 99.270%\n",
            "Epoch: 16 Optimizer values: LastLR:0.0015625000, Momentum: 0.9000000000, Weight Decay: 0.0006905824\n"
          ],
          "name": "stdout"
        },
        {
          "output_type": "stream",
          "text": [
            "loss=0.1286616027355194 batch_id=731: 100%|██████████| 732/732 [00:16<00:00, 44.33it/s]\n",
            "  0%|          | 0/732 [00:00<?, ?it/s]"
          ],
          "name": "stderr"
        },
        {
          "output_type": "stream",
          "text": [
            "\n",
            "Epoch: 17 Train set: Average loss: 0.0009, Accuracy: 98.623%\n",
            "Epoch: 17 Test set: Average loss: 0.0207, Accuracy: 99.330%\n",
            "Epoch: 17 Optimizer values: LastLR:0.0015625000, Momentum: 0.9000000000, Weight Decay: 0.0006905824\n"
          ],
          "name": "stdout"
        },
        {
          "output_type": "stream",
          "text": [
            "loss=0.05378338694572449 batch_id=731: 100%|██████████| 732/732 [00:17<00:00, 43.04it/s]\n",
            "  0%|          | 0/732 [00:00<?, ?it/s]"
          ],
          "name": "stderr"
        },
        {
          "output_type": "stream",
          "text": [
            "\n",
            "Epoch: 18 Train set: Average loss: 0.0009, Accuracy: 98.602%\n",
            "Epoch: 18 Test set: Average loss: 0.0191, Accuracy: 99.370%\n",
            "Epoch: 18 Optimizer values: LastLR:0.0007812500, Momentum: 0.9000000000, Weight Decay: 0.0006905824\n"
          ],
          "name": "stdout"
        },
        {
          "output_type": "stream",
          "text": [
            "loss=0.03771825134754181 batch_id=731: 100%|██████████| 732/732 [00:16<00:00, 43.61it/s]\n",
            "  0%|          | 0/732 [00:00<?, ?it/s]"
          ],
          "name": "stderr"
        },
        {
          "output_type": "stream",
          "text": [
            "\n",
            "Epoch: 19 Train set: Average loss: 0.0009, Accuracy: 98.592%\n",
            "Epoch: 19 Test set: Average loss: 0.0201, Accuracy: 99.360%\n",
            "Epoch: 19 Optimizer values: LastLR:0.0007812500, Momentum: 0.9000000000, Weight Decay: 0.0006905824\n"
          ],
          "name": "stdout"
        },
        {
          "output_type": "stream",
          "text": [
            "loss=0.0700715035200119 batch_id=731: 100%|██████████| 732/732 [00:15<00:00, 48.70it/s]\n",
            "  0%|          | 0/732 [00:00<?, ?it/s]"
          ],
          "name": "stderr"
        },
        {
          "output_type": "stream",
          "text": [
            "\n",
            "Epoch: 20 Train set: Average loss: 0.0009, Accuracy: 98.640%\n",
            "Epoch: 20 Test set: Average loss: 0.0202, Accuracy: 99.370%\n",
            "Epoch: 20 Optimizer values: LastLR:0.0003906250, Momentum: 0.9000000000, Weight Decay: 0.0006905824\n"
          ],
          "name": "stdout"
        },
        {
          "output_type": "stream",
          "text": [
            "loss=0.0354553684592247 batch_id=731: 100%|██████████| 732/732 [00:15<00:00, 45.99it/s]\n",
            "  0%|          | 0/732 [00:00<?, ?it/s]"
          ],
          "name": "stderr"
        },
        {
          "output_type": "stream",
          "text": [
            "\n",
            "Epoch: 21 Train set: Average loss: 0.0009, Accuracy: 98.703%\n",
            "Epoch: 21 Test set: Average loss: 0.0196, Accuracy: 99.370%\n",
            "Epoch: 21 Optimizer values: LastLR:0.0003906250, Momentum: 0.9000000000, Weight Decay: 0.0006905824\n"
          ],
          "name": "stdout"
        },
        {
          "output_type": "stream",
          "text": [
            "loss=0.26731061935424805 batch_id=731: 100%|██████████| 732/732 [00:16<00:00, 43.83it/s]\n",
            "  0%|          | 0/732 [00:00<?, ?it/s]"
          ],
          "name": "stderr"
        },
        {
          "output_type": "stream",
          "text": [
            "\n",
            "Epoch: 22 Train set: Average loss: 0.0009, Accuracy: 98.688%\n",
            "Epoch: 22 Test set: Average loss: 0.0200, Accuracy: 99.350%\n",
            "Epoch: 22 Optimizer values: LastLR:0.0001953125, Momentum: 0.9000000000, Weight Decay: 0.0006905824\n"
          ],
          "name": "stdout"
        },
        {
          "output_type": "stream",
          "text": [
            "loss=0.0309272650629282 batch_id=731: 100%|██████████| 732/732 [00:15<00:00, 46.43it/s]\n",
            "  0%|          | 0/732 [00:00<?, ?it/s]"
          ],
          "name": "stderr"
        },
        {
          "output_type": "stream",
          "text": [
            "\n",
            "Epoch: 23 Train set: Average loss: 0.0009, Accuracy: 98.673%\n",
            "Epoch: 23 Test set: Average loss: 0.0191, Accuracy: 99.350%\n",
            "Epoch: 23 Optimizer values: LastLR:0.0001953125, Momentum: 0.9000000000, Weight Decay: 0.0006905824\n"
          ],
          "name": "stdout"
        },
        {
          "output_type": "stream",
          "text": [
            "loss=0.03630741685628891 batch_id=731: 100%|██████████| 732/732 [00:16<00:00, 44.31it/s]\n",
            "  0%|          | 0/732 [00:00<?, ?it/s]"
          ],
          "name": "stderr"
        },
        {
          "output_type": "stream",
          "text": [
            "\n",
            "Epoch: 24 Train set: Average loss: 0.0009, Accuracy: 98.623%\n",
            "Epoch: 24 Test set: Average loss: 0.0193, Accuracy: 99.330%\n",
            "Epoch: 24 Optimizer values: LastLR:0.0000976563, Momentum: 0.9000000000, Weight Decay: 0.0006905824\n"
          ],
          "name": "stdout"
        },
        {
          "output_type": "stream",
          "text": [
            "loss=0.08366179466247559 batch_id=731: 100%|██████████| 732/732 [00:15<00:00, 49.61it/s]\n",
            "  0%|          | 0/732 [00:00<?, ?it/s]"
          ],
          "name": "stderr"
        },
        {
          "output_type": "stream",
          "text": [
            "\n",
            "Epoch: 25 Train set: Average loss: 0.0009, Accuracy: 98.595%\n",
            "Epoch: 25 Test set: Average loss: 0.0197, Accuracy: 99.330%\n",
            "Epoch: 25 Optimizer values: LastLR:0.0000976563, Momentum: 0.9000000000, Weight Decay: 0.0006905824\n"
          ],
          "name": "stdout"
        },
        {
          "output_type": "stream",
          "text": [
            "loss=0.181778684258461 batch_id=731: 100%|██████████| 732/732 [00:15<00:00, 46.82it/s]\n",
            "  0%|          | 0/732 [00:00<?, ?it/s]"
          ],
          "name": "stderr"
        },
        {
          "output_type": "stream",
          "text": [
            "\n",
            "Epoch: 26 Train set: Average loss: 0.0009, Accuracy: 98.717%\n",
            "Epoch: 26 Test set: Average loss: 0.0196, Accuracy: 99.390%\n",
            "Epoch: 26 Optimizer values: LastLR:0.0000488281, Momentum: 0.9000000000, Weight Decay: 0.0006905824\n"
          ],
          "name": "stdout"
        },
        {
          "output_type": "stream",
          "text": [
            "loss=0.037034325301647186 batch_id=731: 100%|██████████| 732/732 [00:15<00:00, 46.28it/s]\n",
            "  0%|          | 0/732 [00:00<?, ?it/s]"
          ],
          "name": "stderr"
        },
        {
          "output_type": "stream",
          "text": [
            "\n",
            "Epoch: 27 Train set: Average loss: 0.0009, Accuracy: 98.638%\n",
            "Epoch: 27 Test set: Average loss: 0.0199, Accuracy: 99.350%\n",
            "Epoch: 27 Optimizer values: LastLR:0.0000488281, Momentum: 0.9000000000, Weight Decay: 0.0006905824\n"
          ],
          "name": "stdout"
        },
        {
          "output_type": "stream",
          "text": [
            "loss=0.04289109632372856 batch_id=731: 100%|██████████| 732/732 [00:15<00:00, 47.19it/s]\n",
            "  0%|          | 0/732 [00:00<?, ?it/s]"
          ],
          "name": "stderr"
        },
        {
          "output_type": "stream",
          "text": [
            "\n",
            "Epoch: 28 Train set: Average loss: 0.0009, Accuracy: 98.658%\n",
            "Epoch: 28 Test set: Average loss: 0.0198, Accuracy: 99.370%\n",
            "Epoch: 28 Optimizer values: LastLR:0.0000244141, Momentum: 0.9000000000, Weight Decay: 0.0006905824\n"
          ],
          "name": "stdout"
        },
        {
          "output_type": "stream",
          "text": [
            "loss=0.06818079203367233 batch_id=731: 100%|██████████| 732/732 [00:16<00:00, 45.07it/s]\n",
            "  0%|          | 0/732 [00:00<?, ?it/s]"
          ],
          "name": "stderr"
        },
        {
          "output_type": "stream",
          "text": [
            "\n",
            "Epoch: 29 Train set: Average loss: 0.0009, Accuracy: 98.695%\n",
            "Epoch: 29 Test set: Average loss: 0.0194, Accuracy: 99.400%\n",
            "Epoch: 29 Optimizer values: LastLR:0.0000244141, Momentum: 0.9000000000, Weight Decay: 0.0006905824\n"
          ],
          "name": "stdout"
        },
        {
          "output_type": "stream",
          "text": [
            "loss=0.03816802054643631 batch_id=731: 100%|██████████| 732/732 [00:15<00:00, 41.10it/s]\n",
            "  0%|          | 0/732 [00:00<?, ?it/s]"
          ],
          "name": "stderr"
        },
        {
          "output_type": "stream",
          "text": [
            "\n",
            "Epoch: 30 Train set: Average loss: 0.0009, Accuracy: 98.633%\n",
            "Epoch: 30 Test set: Average loss: 0.0198, Accuracy: 99.390%\n",
            "Epoch: 30 Optimizer values: LastLR:0.0000122070, Momentum: 0.9000000000, Weight Decay: 0.0006905824\n"
          ],
          "name": "stdout"
        },
        {
          "output_type": "stream",
          "text": [
            "loss=0.05487098917365074 batch_id=731: 100%|██████████| 732/732 [00:15<00:00, 46.32it/s]\n",
            "  0%|          | 0/732 [00:00<?, ?it/s]"
          ],
          "name": "stderr"
        },
        {
          "output_type": "stream",
          "text": [
            "\n",
            "Epoch: 31 Train set: Average loss: 0.0009, Accuracy: 98.643%\n",
            "Epoch: 31 Test set: Average loss: 0.0193, Accuracy: 99.360%\n",
            "Epoch: 31 Optimizer values: LastLR:0.0000122070, Momentum: 0.9000000000, Weight Decay: 0.0006905824\n"
          ],
          "name": "stdout"
        },
        {
          "output_type": "stream",
          "text": [
            "loss=0.08389043062925339 batch_id=731: 100%|██████████| 732/732 [00:16<00:00, 44.18it/s]\n",
            "  0%|          | 0/732 [00:00<?, ?it/s]"
          ],
          "name": "stderr"
        },
        {
          "output_type": "stream",
          "text": [
            "\n",
            "Epoch: 32 Train set: Average loss: 0.0009, Accuracy: 98.663%\n",
            "Epoch: 32 Test set: Average loss: 0.0199, Accuracy: 99.360%\n",
            "Epoch: 32 Optimizer values: LastLR:0.0000061035, Momentum: 0.9000000000, Weight Decay: 0.0006905824\n"
          ],
          "name": "stdout"
        },
        {
          "output_type": "stream",
          "text": [
            "loss=0.04287700355052948 batch_id=731: 100%|██████████| 732/732 [00:16<00:00, 45.33it/s]\n",
            "  0%|          | 0/732 [00:00<?, ?it/s]"
          ],
          "name": "stderr"
        },
        {
          "output_type": "stream",
          "text": [
            "\n",
            "Epoch: 33 Train set: Average loss: 0.0009, Accuracy: 98.678%\n",
            "Epoch: 33 Test set: Average loss: 0.0197, Accuracy: 99.370%\n",
            "Epoch: 33 Optimizer values: LastLR:0.0000061035, Momentum: 0.9000000000, Weight Decay: 0.0006905824\n"
          ],
          "name": "stdout"
        },
        {
          "output_type": "stream",
          "text": [
            "loss=0.06504464149475098 batch_id=731: 100%|██████████| 732/732 [00:15<00:00, 45.90it/s]\n",
            "  0%|          | 0/732 [00:00<?, ?it/s]"
          ],
          "name": "stderr"
        },
        {
          "output_type": "stream",
          "text": [
            "\n",
            "Epoch: 34 Train set: Average loss: 0.0009, Accuracy: 98.695%\n",
            "Epoch: 34 Test set: Average loss: 0.0196, Accuracy: 99.400%\n",
            "Epoch: 34 Optimizer values: LastLR:0.0000030518, Momentum: 0.9000000000, Weight Decay: 0.0006905824\n"
          ],
          "name": "stdout"
        },
        {
          "output_type": "stream",
          "text": [
            "loss=0.04374547302722931 batch_id=731: 100%|██████████| 732/732 [00:16<00:00, 45.01it/s]\n",
            "  0%|          | 0/732 [00:00<?, ?it/s]"
          ],
          "name": "stderr"
        },
        {
          "output_type": "stream",
          "text": [
            "\n",
            "Epoch: 35 Train set: Average loss: 0.0009, Accuracy: 98.712%\n",
            "Epoch: 35 Test set: Average loss: 0.0194, Accuracy: 99.380%\n",
            "Epoch: 35 Optimizer values: LastLR:0.0000030518, Momentum: 0.9000000000, Weight Decay: 0.0006905824\n"
          ],
          "name": "stdout"
        },
        {
          "output_type": "stream",
          "text": [
            "loss=0.0682189092040062 batch_id=731: 100%|██████████| 732/732 [00:16<00:00, 45.35it/s]\n",
            "  0%|          | 0/732 [00:00<?, ?it/s]"
          ],
          "name": "stderr"
        },
        {
          "output_type": "stream",
          "text": [
            "\n",
            "Epoch: 36 Train set: Average loss: 0.0009, Accuracy: 98.598%\n",
            "Epoch: 36 Test set: Average loss: 0.0195, Accuracy: 99.380%\n",
            "Epoch: 36 Optimizer values: LastLR:0.0000015259, Momentum: 0.9000000000, Weight Decay: 0.0006905824\n"
          ],
          "name": "stdout"
        },
        {
          "output_type": "stream",
          "text": [
            "loss=0.046048976480960846 batch_id=731: 100%|██████████| 732/732 [00:16<00:00, 45.14it/s]\n",
            "  0%|          | 0/732 [00:00<?, ?it/s]"
          ],
          "name": "stderr"
        },
        {
          "output_type": "stream",
          "text": [
            "\n",
            "Epoch: 37 Train set: Average loss: 0.0009, Accuracy: 98.693%\n",
            "Epoch: 37 Test set: Average loss: 0.0198, Accuracy: 99.390%\n",
            "Epoch: 37 Optimizer values: LastLR:0.0000015259, Momentum: 0.9000000000, Weight Decay: 0.0006905824\n"
          ],
          "name": "stdout"
        },
        {
          "output_type": "stream",
          "text": [
            "loss=0.06644713133573532 batch_id=731: 100%|██████████| 732/732 [00:16<00:00, 45.26it/s]\n",
            "  0%|          | 0/732 [00:00<?, ?it/s]"
          ],
          "name": "stderr"
        },
        {
          "output_type": "stream",
          "text": [
            "\n",
            "Epoch: 38 Train set: Average loss: 0.0009, Accuracy: 98.680%\n",
            "Epoch: 38 Test set: Average loss: 0.0200, Accuracy: 99.400%\n",
            "Epoch: 38 Optimizer values: LastLR:0.0000007629, Momentum: 0.9000000000, Weight Decay: 0.0006905824\n"
          ],
          "name": "stdout"
        },
        {
          "output_type": "stream",
          "text": [
            "loss=0.05900648981332779 batch_id=731: 100%|██████████| 732/732 [00:17<00:00, 41.91it/s]\n",
            "  0%|          | 0/732 [00:00<?, ?it/s]"
          ],
          "name": "stderr"
        },
        {
          "output_type": "stream",
          "text": [
            "\n",
            "Epoch: 39 Train set: Average loss: 0.0009, Accuracy: 98.650%\n",
            "Epoch: 39 Test set: Average loss: 0.0203, Accuracy: 99.360%\n",
            "Epoch: 39 Optimizer values: LastLR:0.0000007629, Momentum: 0.9000000000, Weight Decay: 0.0006905824\n"
          ],
          "name": "stdout"
        },
        {
          "output_type": "stream",
          "text": [
            "loss=0.05257128179073334 batch_id=731: 100%|██████████| 732/732 [00:16<00:00, 42.92it/s]\n"
          ],
          "name": "stderr"
        },
        {
          "output_type": "stream",
          "text": [
            "\n",
            "Epoch: 40 Train set: Average loss: 0.0009, Accuracy: 98.670%\n",
            "Epoch: 40 Test set: Average loss: 0.0204, Accuracy: 99.350%\n",
            "Epoch: 40 Optimizer values: LastLR:0.0000003815, Momentum: 0.9000000000, Weight Decay: 0.0006905824\n"
          ],
          "name": "stdout"
        }
      ]
    },
    {
      "cell_type": "markdown",
      "metadata": {
        "id": "6rydqwXDizwO",
        "colab_type": "text"
      },
      "source": [
        "#### Wandb APIs allow to stream all the logs directly using their APIs.\n",
        "#### Further they allow to retrieve statistics for various runs from their logstore.\n",
        "#### Below code allows to retrieve these stats anytime into a pandas dataframe."
      ]
    },
    {
      "cell_type": "code",
      "metadata": {
        "colab_type": "code",
        "outputId": "59689232-fe2c-4f94-d6d9-67664091a935",
        "id": "xPL3KDOaJ0x3",
        "colab": {
          "base_uri": "https://localhost:8080/",
          "height": 34
        }
      },
      "source": [
        "\"\"\"\n",
        "    Retreive all the runs under the project\n",
        "    sorted by createdTime.\n",
        "\"\"\"\n",
        "import wandb\n",
        "api = wandb.Api()\n",
        "my_runs = api.runs(\"rajy4683/news4eva4\",order='-created_at')\n",
        "# run is specified by <entity>/<project>/<run id>\n",
        "#run = api.run(\"rajy4683/news4eva4/m5lfrvxr\")\n",
        "#run = api.run(\"rajy4683/news4eva4/6kliqnpc\")\n",
        "print(my_runs[0].name, my_runs[0].id)\n",
        "# save the metrics for the run to a csv file\n",
        "metrics_dataframe = my_runs[0].history()\n",
        "#metrics_dataframe.to_csv(\"metrics.csv\")"
      ],
      "execution_count": 0,
      "outputs": [
        {
          "output_type": "stream",
          "text": [
            "worthy-dragon-265 91ssmu5i\n"
          ],
          "name": "stdout"
        }
      ]
    },
    {
      "cell_type": "code",
      "metadata": {
        "id": "v_MrQKAHGRVn",
        "colab_type": "code",
        "colab": {}
      },
      "source": [
        "%matplotlib inline\n",
        "import matplotlib.pyplot as plt"
      ],
      "execution_count": 0,
      "outputs": []
    },
    {
      "cell_type": "code",
      "metadata": {
        "id": "wIqmOv0QL0-b",
        "colab_type": "code",
        "colab": {}
      },
      "source": [
        "import wandb\n",
        "api = wandb.Api()"
      ],
      "execution_count": 0,
      "outputs": []
    },
    {
      "cell_type": "code",
      "metadata": {
        "id": "TDuUmzeB5-5Q",
        "colab_type": "code",
        "outputId": "1fc660c7-dd07-4bec-8c92-00072f86b902",
        "colab": {
          "base_uri": "https://localhost:8080/",
          "height": 34
        }
      },
      "source": [
        "\n",
        "my_runs = api.runs(\"rajy4683/news4eva4\",order='-created_at')\n",
        "# run is specified by <entity>/<project>/<run id>\n",
        "#run = api.run(\"rajy4683/news4eva4/m5lfrvxr\")\n",
        "#run = api.run(\"rajy4683/news4eva4/6kliqnpc\")\n",
        "print(my_runs[0].name, my_runs[0].id)\n",
        "# save the metrics for the run to a csv file\n",
        "metrics_dataframe = my_runs[0].history()\n",
        "metrics_dataframe.to_csv(\"metrics.csv\")"
      ],
      "execution_count": 0,
      "outputs": [
        {
          "output_type": "stream",
          "text": [
            "azure-thunder-253 7n67pthi\n"
          ],
          "name": "stdout"
        }
      ]
    },
    {
      "cell_type": "code",
      "metadata": {
        "id": "EPxqrKVAHcUD",
        "colab_type": "code",
        "colab": {}
      },
      "source": [
        "\"\"\"\n",
        "    Plots required graphs.\n",
        "    df_array: array of dataframes\n",
        "    legend_arr: list of the labels for each element of the df_array\n",
        "    xlabel: x-axis label to be appended to the graph\n",
        "    ylabel: y-axis label to be appended to the graph\n",
        "\"\"\"\n",
        "\n",
        "def plot_graphs(df_array, legend_arr, xlabel=\"Epochs\", ylabel=\"Accuracy\"):\n",
        "    fig, ax = plt.subplots(figsize=(15, 6))\n",
        "    for i in range(len(df_array)):\n",
        "        ax.plot(range(40),\n",
        "            df_array[i])\n",
        "    # ax.plot(range(40),\n",
        "    #         base_metrics_dataframe['Test Accuracy'],\n",
        "    #         'g',\n",
        "    #         color='blue')\n",
        "    ax.set(xlabel=xlabel, ylabel=ylabel)\n",
        "    ax.legend(legend_arr)\n",
        "    plt.show()"
      ],
      "execution_count": 0,
      "outputs": []
    },
    {
      "cell_type": "code",
      "metadata": {
        "colab_type": "code",
        "id": "ZhtkbB92Sno8",
        "colab": {}
      },
      "source": [
        "base_run = api.run(\"rajy4683/news4eva4/cahzbqzy\")\n",
        "base_metrics = base_run.history()"
      ],
      "execution_count": 0,
      "outputs": []
    },
    {
      "cell_type": "code",
      "metadata": {
        "colab_type": "code",
        "id": "O3uhiwF3SnpA",
        "colab": {}
      },
      "source": [
        "l1_run = api.run(\"rajy4683/news4eva4/e5ds6pbx\")\n",
        "l1_metrics = l1_run.history()"
      ],
      "execution_count": 0,
      "outputs": []
    },
    {
      "cell_type": "code",
      "metadata": {
        "colab_type": "code",
        "id": "e315uLN-SnpD",
        "colab": {}
      },
      "source": [
        "l2_run = api.run(\"rajy4683/news4eva4/91ssmu5i\")\n",
        "l2_metrics = l2_run.history()"
      ],
      "execution_count": 0,
      "outputs": []
    },
    {
      "cell_type": "code",
      "metadata": {
        "colab_type": "code",
        "id": "cg2KmBgiSnpG",
        "colab": {}
      },
      "source": [
        "l1l2_run = api.run(\"rajy4683/news4eva4/fh5dymm3\")\n",
        "l1l2_metrics = l1l2_run.history()"
      ],
      "execution_count": 0,
      "outputs": []
    },
    {
      "cell_type": "code",
      "metadata": {
        "colab_type": "code",
        "outputId": "241751c1-a489-4ac8-cf55-d8d1fbb5096a",
        "id": "YBz-ugHRSnpJ",
        "colab": {
          "base_uri": "https://localhost:8080/",
          "height": 388
        }
      },
      "source": [
        "plot_graphs([base_metrics['Test Accuracy'], l1_metrics['Test Accuracy'], l2_metrics['Test Accuracy'], l1l2_metrics['Test Accuracy'] ],\n",
        "            ['Base Run', 'Base+L1', 'Base+L2', 'Base+L1+L2'],\n",
        "            xlabel=\"Epochs\",\n",
        "            ylabel=\"Validation Accuracy\")"
      ],
      "execution_count": 36,
      "outputs": [
        {
          "output_type": "display_data",
          "data": {
            "image/png": "[encoded data removed]",
            "text/plain": [
              "<Figure size 1080x432 with 1 Axes>"
            ]
          },
          "metadata": {
            "tags": []
          }
        }
      ]
    },
    {
      "cell_type": "code",
      "metadata": {
        "colab_type": "code",
        "outputId": "114f2174-030a-4008-cda9-01cac3cef726",
        "id": "BzRJy2m6SnpN",
        "colab": {
          "base_uri": "https://localhost:8080/",
          "height": 388
        }
      },
      "source": [
        "plot_graphs([base_metrics['Test Loss'], l1_metrics['Test Loss'], l2_metrics['Test Loss'], l1l2_metrics['Test Loss'] ],\n",
        "            ['Base Run', 'Base+L1', 'Base+L2', 'Base+L1+L2'],\n",
        "            xlabel=\"Epochs\",\n",
        "            ylabel=\"Validation Loss\")"
      ],
      "execution_count": 37,
      "outputs": [
        {
          "output_type": "display_data",
          "data": {
            "image/png": "[encoded data removed]",
            "text/plain": [
              "<Figure size 1080x432 with 1 Axes>"
            ]
          },
          "metadata": {
            "tags": []
          }
        }
      ]
    },
    {
      "cell_type": "code",
      "metadata": {
        "colab_type": "code",
        "outputId": "54c7dd09-1852-46a9-9585-3adb85ef4a3f",
        "id": "yc9n3Z58SnpQ",
        "colab": {
          "base_uri": "https://localhost:8080/",
          "height": 388
        }
      },
      "source": [
        "plot_graphs([base_metrics['Train Accuracy'], l1_metrics['Train Accuracy'], l2_metrics['Train Accuracy'], l1l2_metrics['Train Accuracy'] ],\n",
        "            ['Base Run', 'Base+L1', 'Base+L2', 'Base+L1+L2'],\n",
        "            xlabel=\"Epochs\",\n",
        "            ylabel=\"Train Acc\")"
      ],
      "execution_count": 0,
      "outputs": [
        {
          "output_type": "display_data",
          "data": {
            "image/png": "[encoded data removed]",
            "text/plain": [
              "<Figure size 1080x432 with 1 Axes>"
            ]
          },
          "metadata": {
            "tags": []
          }
        }
      ]
    },
    {
      "cell_type": "code",
      "metadata": {
        "colab_type": "code",
        "outputId": "8b7b9dd2-dd71-4e45-a784-1a5005259ae3",
        "id": "9AfOEvF2SnpT",
        "colab": {
          "base_uri": "https://localhost:8080/",
          "height": 388
        }
      },
      "source": [
        "plot_graphs([base_metrics['Train Loss'], l1_metrics['Train Loss'], l2_metrics['Train Loss'], l1l2_metrics['Train Loss'] ],\n",
        "            ['Base Run', 'Base+L1', 'Base+L2', 'Base+L1+L2'],\n",
        "            xlabel=\"Epochs\",\n",
        "            ylabel=\"Train Loss\")"
      ],
      "execution_count": 35,
      "outputs": [
        {
          "output_type": "display_data",
          "data": {
            "image/png": "[encoded data removed]",
            "text/plain": [
              "<Figure size 1080x432 with 1 Axes>"
            ]
          },
          "metadata": {
            "tags": []
          }
        }
      ]
    },
    {
      "cell_type": "markdown",
      "metadata": {
        "colab_type": "text",
        "id": "jCc6UxnjtgzA"
      },
      "source": [
        "#### Misclassified images"
      ]
    },
    {
      "cell_type": "code",
      "metadata": {
        "id": "yzzeadMZAxd3",
        "colab_type": "code",
        "colab": {}
      },
      "source": [
        "#### \n",
        "def plot_misclassified(args, model, device, test_loader,classes,epoch_number):\n",
        "    model.eval()\n",
        "    test_loss = 0\n",
        "    correct = 0\n",
        "    preds = np.array([])\n",
        "    actuals = np.array([])\n",
        "    error_images = []\n",
        "    total_misclassified = 0\n",
        "    total_rounds = 0\n",
        "    with torch.no_grad():\n",
        "        for data, target in test_loader:\n",
        "            #print(len(data))\n",
        "            data, target = data.to(device), target.to(device)\n",
        "            output = model(data)\n",
        "            test_loss += F.nll_loss(output, target, reduction='sum').item()  # sum up batch loss\n",
        "            pred = output.argmax(dim=1, keepdim=True)  # get the index of the max log-probability\n",
        "            correct += pred.eq(target.view_as(pred)).sum().item()\n",
        "            #torch.\n",
        "            #np.append(preds, pred.squeeze().cpu())\n",
        "            orig_labels = target.cpu().numpy()\n",
        "            pred_labels = pred.squeeze().cpu().numpy()\n",
        "            #print(orig_labels.shape, pred_labels.shape)\n",
        "            mislabeled_index = np.where(orig_labels != pred_labels)[0]\n",
        "            #print(orig_labels)\n",
        "            #print(pred_labels)\n",
        "            total_rounds+=1\n",
        "            if (mislabeled_index.shape[0] > 0):\n",
        "                #print(mislabeled_index)\n",
        "                for iCount in range(len(mislabeled_index)):            \n",
        "                    #print(transforms.Normalize()data[offset]((-0.1307,), (1/0.3081,)))\n",
        "                    #plt.imshow(data[offset].cpu().numpy().squeeze(), cmap='gray_r')\n",
        "                    offset = mislabeled_index[iCount]\n",
        "                    error_images.append(data[offset].cpu().numpy().squeeze())\n",
        "                    preds=np.append(preds, pred_labels[offset])\n",
        "                    actuals = np.append(actuals, orig_labels[offset])\n",
        "                    total_misclassified += 1\n",
        "                #error_images.append(data[mislabeled_index].cpu().numpy())#,axis=1)\n",
        "                #preds=np.append(preds, pred_labels[mislabeled_index])\n",
        "                \n",
        "\n",
        "        #example_images.append(wandb.Image(\n",
        "        #        data[0], caption=\"Pred: {} Truth: {}\".format(classes[pred[0].item()], classes[target[0]])))\n",
        "    #print(\"Total images worked on:\",total_rounds)\n",
        "    test_loss /= len(test_loader.dataset)\n",
        "    test_accuracy = (100. * correct) / len(test_loader.dataset)\n",
        "    print((total_misclassified))\n",
        "    print(preds.shape)\n",
        "    #print('\\nEpoch: {:.0f} Test set: Average loss: {:.4f}, Accuracy: {}/{} ({:.3f}%)\\n'.format(\n",
        "    #    epoch_number, test_loss, correct, len(test_loader.dataset),\n",
        "    #    100. * correct / len(test_loader.dataset)))\n",
        "    #test_acc.append(test_accuracy)\n",
        "    #test_losses.append(test_loss)\n",
        "\n",
        "    # figure = plt.figure()\n",
        "    # num_of_images = total_misclassified\n",
        "    # for index in range(1, num_of_images):\n",
        "    #     plt.subplot(5, 13, index)\n",
        "    #     plt.axis('off')\n",
        "    #     plt.imshow(error_images[index], cmap='gray_r')\n",
        "    #     #plt.label\n",
        "    fig = plt.figure(figsize=(10,10))\n",
        "    for idx in np.arange(25):\n",
        "        ax = fig.add_subplot(5, 5, idx+1, xticks=[], yticks=[])\n",
        "        plt.imshow(error_images[idx], cmap='gray_r')\n",
        "        #ax.set_title(\"Pred=\"+str(np.int(preds[idx])))\n",
        "        ax.set(ylabel=\"Pred=\"+str(np.int(preds[idx])), xlabel=\"Actual=\"+str(np.int(actuals[idx])))\n",
        "\n",
        "    return test_accuracy, test_loss, None#error_images#, data(np.where(orig_labels != pred_labels))"
      ],
      "execution_count": 0,
      "outputs": []
    },
    {
      "cell_type": "code",
      "metadata": {
        "id": "jatKB_vVJZHR",
        "colab_type": "code",
        "outputId": "90dee4b4-a8fc-481f-b721-02b5b4454871",
        "colab": {
          "base_uri": "https://localhost:8080/",
          "height": 34
        }
      },
      "source": [
        "kwargs_2 = {'num_workers': 4, 'pin_memory': True} if use_cuda else {}\n",
        "train_loader_2 = torch.utils.data.DataLoader(\n",
        "    datasets.MNIST('../data', train=True, download=True,\n",
        "                    transform=train_transforms),\n",
        "    batch_size=config.batch_size, shuffle=True, **kwargs_2)\n",
        "test_loader_2 = torch.utils.data.DataLoader(\n",
        "        datasets.MNIST('../data', train=False, transform=test_transforms),\n",
        "        batch_size=config.batch_size, shuffle=False, **kwargs_2)\n",
        "\n",
        "len(train_loader_2),len(test_loader_2)"
      ],
      "execution_count": 38,
      "outputs": [
        {
          "output_type": "execute_result",
          "data": {
            "text/plain": [
              "(938, 157)"
            ]
          },
          "metadata": {
            "tags": []
          },
          "execution_count": 38
        }
      ]
    },
    {
      "cell_type": "code",
      "metadata": {
        "id": "PbXSBpZpROMk",
        "colab_type": "code",
        "colab": {}
      },
      "source": [
        "BASE_MODEL=\"/content/drive/My Drive/EVA4/baseline_models/model-3176d58add_baserun40.h5\"\n",
        "L2_MODEL=\"/content/drive/My Drive/EVA4/baseline_models/model-1a74d5814d_baseline_l2.h5\"\n",
        "L1_MODEL=\"/content/drive/My Drive/EVA4/baseline_models/model-240a4abf69_baseline_l1.h5\"\n",
        "L1L2_MODEL=\"/content/drive/My Drive/EVA4/baseline_models/model-20e4e3377f_baseline_l1l2.h5\""
      ],
      "execution_count": 0,
      "outputs": []
    },
    {
      "cell_type": "markdown",
      "metadata": {
        "id": "KmdgS7vbR9KR",
        "colab_type": "text"
      },
      "source": [
        "##### Misclassified images with L1+L2 Model "
      ]
    },
    {
      "cell_type": "code",
      "metadata": {
        "id": "mzcejqwdMIAG",
        "colab_type": "code",
        "colab": {}
      },
      "source": [
        "my_model = model_builder(MNISTDigitBuilder, \n",
        "                      weights_path=L1L2_MODEL,\n",
        "                      local_device=device)"
      ],
      "execution_count": 0,
      "outputs": []
    },
    {
      "cell_type": "code",
      "metadata": {
        "id": "o4w8QZFRMYaQ",
        "colab_type": "code",
        "outputId": "88bcab8c-ad08-4664-f036-f380e3e9a130",
        "colab": {
          "base_uri": "https://localhost:8080/",
          "height": 639
        }
      },
      "source": [
        "type(my_model)\n",
        "classes = ('0', '1', '2', '3', '4', '5', '6', '7', '8', '9')\n",
        "epoch_test_acc,epoch_test_loss,preds = plot_misclassified(config, my_model, device, test_loader_2, classes,1)\n",
        "print(epoch_test_acc,epoch_test_loss)\n",
        "#print(preds)"
      ],
      "execution_count": 25,
      "outputs": [
        {
          "output_type": "stream",
          "text": [
            "63\n",
            "(63,)\n",
            "99.37 0.023187303137779235\n"
          ],
          "name": "stdout"
        },
        {
          "output_type": "display_data",
          "data": {
            "image/png": "[encoded data removed]",
            "text/plain": [
              "<Figure size 720x720 with 25 Axes>"
            ]
          },
          "metadata": {
            "tags": []
          }
        }
      ]
    },
    {
      "cell_type": "markdown",
      "metadata": {
        "colab_type": "text",
        "id": "EikgCIplSMaV"
      },
      "source": [
        "##### Misclassified images with L1 Model "
      ]
    },
    {
      "cell_type": "code",
      "metadata": {
        "id": "S6BJp3j6uLEh",
        "colab_type": "code",
        "colab": {}
      },
      "source": [
        "my_model = model_builder(MNISTDigitBuilder, \n",
        "                      weights_path=L1_MODEL,\n",
        "                      local_device=device)\n"
      ],
      "execution_count": 0,
      "outputs": []
    },
    {
      "cell_type": "code",
      "metadata": {
        "id": "XfsP6MVARWqW",
        "colab_type": "code",
        "colab": {
          "base_uri": "https://localhost:8080/",
          "height": 639
        },
        "outputId": "cf092da1-04ae-4a80-d69f-d19313d0778e"
      },
      "source": [
        "epoch_test_acc,epoch_test_loss,preds = plot_misclassified(config, my_model, device, test_loader_2, classes,1)\n",
        "print(epoch_test_acc,epoch_test_loss)\n",
        "#print(preds)"
      ],
      "execution_count": 40,
      "outputs": [
        {
          "output_type": "stream",
          "text": [
            "63\n",
            "(63,)\n",
            "99.37 0.023187303352355956\n"
          ],
          "name": "stdout"
        },
        {
          "output_type": "display_data",
          "data": {
            "image/png": "[encoded data removed]",
            "text/plain": [
              "<Figure size 720x720 with 25 Axes>"
            ]
          },
          "metadata": {
            "tags": []
          }
        }
      ]
    },
    {
      "cell_type": "markdown",
      "metadata": {
        "colab_type": "text",
        "id": "OWsG-F4GSUw8"
      },
      "source": [
        "##### Misclassified images with L2 Model "
      ]
    },
    {
      "cell_type": "code",
      "metadata": {
        "id": "W-6bOwplRaqR",
        "colab_type": "code",
        "colab": {}
      },
      "source": [
        "my_model = model_builder(MNISTDigitBuilder, \n",
        "                      weights_path=L2_MODEL,\n",
        "                      local_device=device)"
      ],
      "execution_count": 0,
      "outputs": []
    },
    {
      "cell_type": "code",
      "metadata": {
        "id": "uNwJ5kkTR0Ko",
        "colab_type": "code",
        "colab": {
          "base_uri": "https://localhost:8080/",
          "height": 639
        },
        "outputId": "cc59633d-7cd9-4c3f-f18c-fc98802d6749"
      },
      "source": [
        "epoch_test_acc,epoch_test_loss,preds = plot_misclassified(config, my_model, device, test_loader_2, classes,1)\n",
        "print(epoch_test_acc,epoch_test_loss)\n",
        "#print(preds)"
      ],
      "execution_count": 42,
      "outputs": [
        {
          "output_type": "stream",
          "text": [
            "66\n",
            "(66,)\n",
            "99.34 0.022896035170555114\n"
          ],
          "name": "stdout"
        },
        {
          "output_type": "display_data",
          "data": {
            "image/png": "[encoded data removed]",
            "text/plain": [
              "<Figure size 720x720 with 25 Axes>"
            ]
          },
          "metadata": {
            "tags": []
          }
        }
      ]
    },
    {
      "cell_type": "code",
      "metadata": {
        "id": "R4_EGFbeR3LB",
        "colab_type": "code",
        "colab": {}
      },
      "source": [
        ""
      ],
      "execution_count": 0,
      "outputs": []
    }
  ]
}